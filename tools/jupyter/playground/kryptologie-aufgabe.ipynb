{
  "cells": [
    {
      "cell_type": "markdown",
      "id": "e5995d22",
      "metadata": {},
      "source": [
        "# Geheime Botschaften\n",
        "Zum Testen des RSA-Verfahrens haben Alexandra und Bastian folgende Schlüsselpaare erstellt:  \n",
        "\n",
        "|                        | Alexandra             | Bastian               |\n",
        "|------------------------|-----------------------|-----------------------|\n",
        "| öffentlicher Schlüssel | $(e_A,n_A)=(107,187)$ | $(e_B,n_B)=(XXX,XXX)$ |\n",
        "| geheimer Schlüssel     | $(d_A,n_A)=(3,187)$   | $(d_B,n_B)=(7,143)$   |\n",
        "\n",
        "\n",
        "### Aufgabe 1\n",
        " Verschlüsseln Sie Alexandras Nachricht „HALLO“ an Bastian mit der Blocklänge 1 und der Codierung A=1, B=2, C=3, … \n"
      ]
    },
    {
      "cell_type": "markdown",
      "id": "ab51a043",
      "metadata": {},
      "source": [
        "#### Lösung"
      ]
    },
    {
      "cell_type": "code",
      "execution_count": 1,
      "id": "cc8acea1",
      "metadata": {},
      "outputs": [
        {
          "name": "stdout",
          "output_type": "stream",
          "text": [
            "8 1 12 12 15\n"
          ]
        }
      ],
      "source": [
        "alphabet = \" ABCDEFGHIJKLMNOPQRSTUVWXYZ\"\n",
        "print( alphabet.find(\"H\"), \n",
        "       alphabet.find(\"A\"),\n",
        "       alphabet.find(\"L\"),\n",
        "       alphabet.find(\"L\"),\n",
        "       alphabet.find(\"O\") )"
      ]
    },
    {
      "cell_type": "code",
      "execution_count": 2,
      "id": "dbee1034",
      "metadata": {},
      "outputs": [
        {
          "name": "stdout",
          "output_type": "stream",
          "text": [
            "83 1 12 12 141\n"
          ]
        }
      ],
      "source": [
        "print( (8**103)%143, \n",
        "       (1**103)%143,\n",
        "       (12**103)%143,\n",
        "       (12**103)%143, \n",
        "       (15**103)%143 )"
      ]
    },
    {
      "cell_type": "markdown",
      "id": "123b242c",
      "metadata": {},
      "source": [
        "Die Nachricht von Alexandra an Bastian lautet also (83, 1, 12, 12, 141)"
      ]
    },
    {
      "cell_type": "markdown",
      "id": "79d93bb2",
      "metadata": {},
      "source": [
        "## Aufgabe 2\n",
        "Sie haben folgende Antwort von Bastian an Alexandra abgefangen: (178,135,113,53, 113,171)  \n",
        "Bestimmen Sie nachvollziehbar Alexandras geheimen Schlüssel und entschlüsseln Sie damit die Botschaft (Codierung und Blocklänge wie oben)."
      ]
    },
    {
      "cell_type": "markdown",
      "id": "2a78892c",
      "metadata": {},
      "source": [
        "#### Lösung\n",
        "Faktorisierung von 187 durch Ausprobieren: n= 187 = 11∙17 = p∙q  \n",
        "\n",
        "Also Eulersche $\\varphi$-Funktion: 𝜑(n)=(p-1) ∙ (q-1) = 10∙16 = 160  \n",
        "\n",
        "Berechne die modulare Inverse d modulo 160, also d mit d∙107 = 1 mod 160 mittels des erweiterten Euklidischen Algorithmus´:\n",
        "\n",
        "$$ \\begin{align}\n",
        "160 &= 1 \\cdot 107 + 53 \\\\\n",
        "107 &= 2 \\cdot 53 +1 \\\\\n",
        "53  &= 53 \\cdot 1 +0\n",
        "\\end{align} $$\n",
        "\n",
        "$$ \\begin{align}\n",
        "1 &= 107  - 2 \\cdot 53 \\\\\n",
        "  &= 107 - 2 \\cdot (160-1 \\cdot 107) \\\\\n",
        "  &= 3 \\cdot 107 - 2 \\cdot 160\n",
        "\\end{align} $$\n",
        "\n",
        "Also gilt: \n",
        "$$ 1 = 1 \\bmod 160 = (3 \\cdot 107 - 2 \\cdot 160) \\bmod 160 = (3 \\cdot 107) \\bmod 160$$\n",
        "\n",
        "Damit ist d = 3 gefunden und zusammen mit n= 187 lautet Alexandras geheimer Schlüssel also: \n",
        "$$(d_A,n_A)=(3,187)$$\n",
        "\n",
        "Damit Entschlüsselung des abgefangenen Geheimcodes:"
      ]
    },
    {
      "cell_type": "code",
      "execution_count": 3,
      "id": "1e3272f1",
      "metadata": {},
      "outputs": [
        {
          "name": "stdout",
          "output_type": "stream",
          "text": [
            "19 16 5 25 5 18\n"
          ]
        }
      ],
      "source": [
        "print( (178**3) % 187, \n",
        "       (135**3) % 187 , \n",
        "       (113**3) % 187,  \n",
        "       ( 53**3) % 187, \n",
        "       (113**3) % 187, \n",
        "       (171**3) % 187 )"
      ]
    },
    {
      "cell_type": "markdown",
      "id": "229c9f34",
      "metadata": {},
      "source": [
        "Also ergibt sich für den Geheimtext:"
      ]
    },
    {
      "cell_type": "code",
      "execution_count": 4,
      "id": "92f8767b",
      "metadata": {},
      "outputs": [
        {
          "name": "stdout",
          "output_type": "stream",
          "text": [
            "SPEYER\n"
          ]
        }
      ],
      "source": [
        "print( alphabet[19]+alphabet[16]+alphabet[5]+alphabet[25]+alphabet[5]+alphabet[18] )"
      ]
    },
    {
      "cell_type": "markdown",
      "id": "5346e2d6",
      "metadata": {},
      "source": [
        "### Aufgabe 3 \n",
        "Warum ist eine längere verschlüsselte Nachricht mit Blocklänge 1 selbst mit den sichersten RSA-Schlüsseln relativ leicht zu knacken (→ Kryptologie 1)?"
      ]
    },
    {
      "cell_type": "markdown",
      "id": "f00f6f73",
      "metadata": {},
      "source": [
        "#### Lösung\n",
        "Auf diese Weise werden alle Buchstaben des Alphabets immer durch jeweils die gleiche Zahl\n",
        "dargestellt, es handelt sich also um eine monoalphabetische Substitution, die bei einem längeren\n",
        "Text recht leicht durch eine Häufigkeitsanalyse „geknackt“ werden kann."
      ]
    },
    {
      "cell_type": "markdown",
      "id": "dd3e8d73",
      "metadata": {},
      "source": [
        "---\n",
        "# Signatur\n",
        "\n",
        "### Aufgabe 4\n",
        " Hier finden Sie den Beginn eines Programms, mit dem Bastian eine Nachricht an Alexandra probehalber signieren möchte. Berechnen Sie die Werte für die Ausgaben (1) bis (4).  \n",
        "![Bild Quelltext](kryptologie-aufgabe-bild-quelltext.png)<br>\n",
        "Anmerkung: Der Quelltext ist hier bewusst als Bild hinterlegt. Sie müssen den Quelltext nicht abtippen, es ist ausreichend, wenn sie *im Kopf* nachvollziehen, was das Programm macht. "
      ]
    },
    {
      "cell_type": "markdown",
      "id": "fe8105ee",
      "metadata": {},
      "source": [
        "#### Lösung\n",
        "Die berechneten Werte sind  \n",
        "\n",
        "|||\n",
        "|-|-|  \n",
        "| (1) | 17 |\n",
        "| (2) | 30 |\n",
        "| (3) | ('HI', 30) |\n",
        "| (4) | ('HO', 30) |"
      ]
    },
    {
      "cell_type": "markdown",
      "id": "8db2bd88",
      "metadata": {},
      "source": [
        "## Aufgabe 5\n",
        "Ergänzen Sie das obige Python-Programm um die Überprüfung der Signatur durch den Empfänger inklusive einer fallabhängigen Ausgabe, ob die Nachricht vermutlich unverändert übertragen wurde oder nicht."
      ]
    },
    {
      "cell_type": "markdown",
      "id": "7cb8ffed",
      "metadata": {},
      "source": [
        "### Lösung\n",
        "Der zu ergänzende codeblock lautet:\n",
        "```\n",
        "# Überprüfen der empfangenen Nachricht\n",
        "hashEmpfangeneNachricht = hashBerechnen(text)\n",
        "hashEntschluesselt = modularePotenz(hashVerschluesselt, oeffentlich)\n",
        "if hashEmpfangeneNachricht == hashEntschluesselt:\n",
        "    print(\"Die Nachricht wurde vermutlich nicht verändert.\")\n",
        "else:\n",
        "    print(\"Die Nachricht wurde verändert.\")\n",
        "```"
      ]
    },
    {
      "cell_type": "markdown",
      "id": "cc2dca17",
      "metadata": {},
      "source": [
        "Hier kommt das komplette Python-Programm zum Testen:"
      ]
    },
    {
      "cell_type": "code",
      "execution_count": 5,
      "id": "7f273b48",
      "metadata": {},
      "outputs": [
        {
          "name": "stdout",
          "output_type": "stream",
          "text": [
            "(1) 17\n",
            "(2) 30\n",
            "(3) ('HI', 30)\n",
            "(4) ('HO', 30)\n",
            "Die Nachricht wurde verändert.\n"
          ]
        }
      ],
      "source": [
        "def zahl(c):\n",
        "    \"\"\"\n",
        "    >>> zahl('A')\n",
        "    1\n",
        "    \"\"\"\n",
        "    if c == ' ':\n",
        "        return 0\n",
        "    else:\n",
        "        return ord(c)-65+1\n",
        "\n",
        "''' Die folgende Funktion berechnet die modulare Potenz,\n",
        "    je nach Einsatz und übergebenem Schlüssel dient sie dabei dem Verschlüsseln,\n",
        "    dem Entschlüsseln, dem Signieren oder dem Überprüfen der Signatur.'''\n",
        "def modularePotenz(zahl, schluessel):\n",
        "    return (zahl**schluessel[0])%schluessel[1]\n",
        "\n",
        "def hashBerechnen(text):\n",
        "    summe = 0\n",
        "    for zeichen in text:\n",
        "        # zahl(zeichen) bestimmt die Stelle im Alphabet, also zahl(\"A\")=1, zahl(\"B\")=2 usw.\n",
        "        summe = summe + zahl(zeichen) \n",
        "    return summe % 27\n",
        "\n",
        "e = 103\n",
        "d = 7\n",
        "n = 143\n",
        "oeffentlich = (e,n) # Bastians öffentlicher Schlüssel\n",
        "geheim = (d,n) # Bastians geheimer Schlüssel\n",
        "\n",
        "# Erstellen der signierten Nachricht\n",
        "text = 'HI'\n",
        "hashText = hashBerechnen(text)\n",
        "print(\"(1)\", hashText) # (1)\n",
        "hashVerschluesselt = modularePotenz(hashText, geheim)\n",
        "print(\"(2)\", hashVerschluesselt) # (2)\n",
        "nachricht = (text, hashVerschluesselt)\n",
        "print(\"(3)\", nachricht) #(3)\n",
        "\n",
        "# Veränderung des Nachrichtentextes \"unterwegs\"\n",
        "text = 'HO'\n",
        "nachrichtEmpfangen = (text, hashVerschluesselt)\n",
        "print(\"(4)\", nachrichtEmpfangen) # (4)\n",
        "\n",
        "# Überprüfen der empfangenen Nachricht\n",
        "hashEmpfangeneNachricht = hashBerechnen(text)\n",
        "hashEntschluesselt = modularePotenz(hashVerschluesselt, oeffentlich)\n",
        "if hashEmpfangeneNachricht == hashEntschluesselt:\n",
        "    print(\"Die Nachricht wurde vermutlich nicht verändert.\")\n",
        "else:\n",
        "    print(\"Die Nachricht wurde verändert.\")"
      ]
    },
    {
      "cell_type": "markdown",
      "id": "72ea671a",
      "metadata": {},
      "source": [
        "### Aufgabe 6\n",
        "Handelt es sich bei der verwendeten Hash-Funktion um eine gute Wahl? Begründen Sie. "
      ]
    },
    {
      "cell_type": "markdown",
      "id": "fba1f300",
      "metadata": {},
      "source": [
        "#### Lösung"
      ]
    },
    {
      "cell_type": "markdown",
      "id": "ed6672b8",
      "metadata": {},
      "source": [
        "Die Hashfunktion ist nicht geschickt gewählt, da alle möglichen Nachrichtentexte nur auf 27 Hash-Werte abgebildet werden. Die Chance, dass ein veränderter Nachrichtentext zufälligerweise oder bei einem Angriff auch absichtlich auf die gleiche Zahl führt, ist also sehr hoch (-> schwache Kollisionsresistenz)."
      ]
    },
    {
      "cell_type": "code",
      "execution_count": null,
      "id": "f173e9f3",
      "metadata": {},
      "outputs": [],
      "source": []
    }
  ],
  "metadata": {
    "kernelspec": {
      "display_name": "Python 3",
      "language": "python",
      "name": "python3"
    },
    "language_info": {
      "codemirror_mode": {
        "name": "ipython",
        "version": 3
      },
      "file_extension": ".py",
      "mimetype": "text/x-python",
      "name": "python",
      "nbconvert_exporter": "python",
      "pygments_lexer": "ipython3",
      "version": "3.12.4"
    }
  },
  "nbformat": 4,
  "nbformat_minor": 5
}