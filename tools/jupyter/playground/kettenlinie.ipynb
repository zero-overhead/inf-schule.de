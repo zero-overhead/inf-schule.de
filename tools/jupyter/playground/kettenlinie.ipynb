{
  "cells": [
    {
      "cell_type": "markdown",
      "id": "413a3aa1-c854-44fe-82ee-1923e5b1b16f",
      "metadata": {},
      "source": [
        "Der Code wird im Folgenden erst beschrieben und unter der jeweiligen Beschreibung eingebunden."
      ]
    },
    {
      "cell_type": "markdown",
      "id": "f1a2865a-876d-4e4f-b63b-8e77511ca6b0",
      "metadata": {},
      "source": [
        "# Python Porgramm frei stehender Bogen"
      ]
    },
    {
      "cell_type": "markdown",
      "id": "63c08711-8f4b-4316-aed0-233ffe53c7e7",
      "metadata": {},
      "source": [
        "Zu Beginn werden die für das Programm benötigten Python Bibliotheken importiert."
      ]
    },
    {
      "cell_type": "code",
      "execution_count": 1,
      "id": "86ce8273-2d4f-47b5-ad48-c66b8353c873",
      "metadata": {},
      "outputs": [
        {
          "name": "stderr",
          "output_type": "stream",
          "text": [
            "<frozen importlib._bootstrap>:488: FutureWarning: Passing (type, 1) or '1type' as a synonym of type is deprecated; in a future version of numpy, it will be understood as (type, (1,)) / '(1,)type'.\n"
          ]
        }
      ],
      "source": [
        "import math\n",
        "import numpy as np\n",
        "import matplotlib.pyplot as plt\n",
        "from shapely.geometry import Polygon\n",
        "from stl import mesh # pip install nump-stl"
      ]
    },
    {
      "cell_type": "markdown",
      "id": "a1c2b0b9-7a22-479e-9f06-975ae957f39b",
      "metadata": {},
      "source": [
        "-------------------"
      ]
    },
    {
      "cell_type": "markdown",
      "id": "e480a639-8795-4dcd-a36b-d95f66805076",
      "metadata": {},
      "source": [
        "## Bestimmung der Funktionsgleichung"
      ]
    },
    {
      "cell_type": "markdown",
      "id": "8087decc-2c9c-4b5f-a5ed-e1ea3ea17711",
      "metadata": {},
      "source": [
        "Für den Bau des Bogens, hab ich bestimmte Parameter festgelegt, die der Bogen erfüllen soll.<br> \n",
        "Einerseits die Länge $L$ des Bogens (Bogenlänge zwischen den Nullstellen) und die Nullstelle $x_0$, bzw. die Hälfte der Bogenbreite (siehe Abbildung). Zu dem ist die Anzahl an Klötzen, die Breite eines Klotzes und die durch einen Klotz beschriebene Bogenlänge determiniert.<br>\n",
        "Der Bogen wird durch eine hängende Kette beschrieben."
      ]
    },
    {
      "cell_type": "markdown",
      "id": "61872242-1f95-45fb-a71c-2d656c05dc49",
      "metadata": {},
      "source": [
        "<center>\n",
        "<img src=\"bilder/geogebra_x0_l.png\" alt=\"Graph Kettenlinie\" style=\"width:500px;\"/>\n",
        "</center>"
      ]
    },
    {
      "cell_type": "markdown",
      "id": "c77fca36-d3b3-4298-a533-a1188844d756",
      "metadata": {},
      "source": [
        "Hier werden die Parameter des Bogens initialisiert. Die Bogenlänge $L$ hat hier den Variablennamen L. Die Nullstelle $x_0$ den Namen x0."
      ]
    },
    {
      "cell_type": "code",
      "execution_count": 2,
      "id": "3ab49f12-f51f-42a7-955a-c7e0b52f52e0",
      "metadata": {},
      "outputs": [],
      "source": [
        "L = 136\n",
        "x0 = 30\n",
        "anzahlKloetze = 17\n",
        "laengeDurchKlotzSimuliert = 8 #die Bogenlänge, die durch einen Klotz simuliert wird\n",
        "breiteKloetze = 4"
      ]
    },
    {
      "cell_type": "markdown",
      "id": "1e12f161-44bb-4310-9212-1d651548862d",
      "metadata": {},
      "source": [
        "-------------------"
      ]
    },
    {
      "cell_type": "markdown",
      "id": "efccc241-9e64-40a3-9b1a-9922c3a4834a",
      "metadata": {},
      "source": [
        "# Ermittlung Faktor $a$ als Nullstelle von $g(a)$ mittels Intervallhalbierung durch eine rekursive Python-Funktion"
      ]
    },
    {
      "cell_type": "markdown",
      "id": "84e4b349-686e-4a86-a544-c0fabb0eb256",
      "metadata": {},
      "source": [
        "Für die Funktion, welche die Kette beschreibt, gilt: $f(x)= a \\cdot \\cosh \\left( \\frac{1}{a}x \\right) + y_{0}$ (siehe PDF, Kapitel 5)\n",
        "\n",
        "Der Faktor $a$ ist die Nullstelle der Funktion $g(a) := L - 2a \\cdot \\sinh \\left( \\frac{1}{a} x_{0} \\right)$ (siehe PDF, Kapitel 6.2)<br>\n",
        "Die numerische Bestimmung **der Nullstelle** erfolgt hier mit Hilfe von Intervallhalbierung:\n",
        "\n",
        "Beim Funktionsaufruf, wird eine untere und eine obere Grenze festgelegt. Für die Variable a wird die Mitte zwischen diesen Werten gewählt.\n",
        "Danach wird in der Variable f_a der aktuelle Wert von $g(a) = L - 2a \\cdot \\sinh \\left( \\frac{1}{a} x \\right)$ abgelegt.\n",
        "\n",
        "Ist dieser Wert kleiner als $\\frac{1}{10000000}$, also näherungsweise Null, wird der Wert von a zurückgegeben.\n",
        "\n",
        "Andernfalls wird geprüft ob der Wert der Variablenwert f_a größer oder kleiner ist als Null.\n",
        "Dann folgt ein **rekursiver** Funktionsaufruf, ist f_a größer Null wird der Variablenwert von a als obere Grenze übergeben und die untere Grenze bleibt gleich. Ist f_a kleiner erfolgt der **rekursive** Aufruf mit dem Variablenwert von a als untere Grenze, die obere Grenze bleibt gleich. "
      ]
    },
    {
      "cell_type": "code",
      "execution_count": 3,
      "id": "637830ee-d505-4e20-82de-f6626c45b185",
      "metadata": {},
      "outputs": [],
      "source": [
        "def a_bestimmen(unterGrenze,oberGrenze):\n",
        "    a = (unterGrenze+oberGrenze)/2\n",
        "    f_a = (L-2*a*math.sinh(1/a*x0))\n",
        "    if( abs(f_a) < 1/10000000 ):\n",
        "        return a\n",
        "    elif (f_a < 0):\n",
        "            return a_bestimmen(a,oberGrenze);\n",
        "    else:\n",
        "        return a_bestimmen(unterGrenze,a);"
      ]
    },
    {
      "cell_type": "code",
      "execution_count": 4,
      "id": "ccda0986-14d6-48b8-a4cf-d6ee0eb36db2",
      "metadata": {},
      "outputs": [
        {
          "name": "stdout",
          "output_type": "stream",
          "text": [
            "a :  12.541937507689\n"
          ]
        }
      ],
      "source": [
        "a = a_bestimmen(10,16)\n",
        "print(\"a : \", a)"
      ]
    },
    {
      "cell_type": "markdown",
      "id": "bcb77a3c-1746-4d29-8918-ee55473746aa",
      "metadata": {},
      "source": [
        "---------"
      ]
    },
    {
      "cell_type": "markdown",
      "id": "dbe13536-f423-4d1e-8ee2-874cfff0d7fc",
      "metadata": {},
      "source": [
        "Setzt man $f(x_0) = 0$ und formt nach $y_0$ um erhält man: <br>\n",
        "$y_{0} = -a \\cdot \\cosh \\left( \\frac{1}{a}x \\right)$ (siehe Kapitel 6.2)<br>\n",
        "Dieser Wert wird in der Variablen y0 abgespeichert."
      ]
    },
    {
      "cell_type": "code",
      "execution_count": 5,
      "id": "8391330e-fcdc-460a-b18c-9a5598210548",
      "metadata": {},
      "outputs": [],
      "source": [
        "y0 = -a*math.cosh(1/a*x0)"
      ]
    },
    {
      "cell_type": "markdown",
      "id": "4beca8b8-1344-4347-b5a3-ba16f38c6471",
      "metadata": {},
      "source": [
        "-------------------"
      ]
    },
    {
      "cell_type": "markdown",
      "id": "5bed6bba-b57b-497f-89d2-52c7986d0bb6",
      "metadata": {},
      "source": [
        "Jetzt sind alle Größe der Funktion $f(x)= a \\cdot \\cosh \\left( \\frac{1}{a}x \\right) + y_{0}$ bekannt und die Funktion der Kettenlinie und deren Ableitung werden hier initialisiert, damit in anderen Funktionen der Funktionswert nicht händisch über die Funktionsgleichung bestimmt werden muss, sondern einfach kettenlinie(x) benutzt werden kann."
      ]
    },
    {
      "cell_type": "code",
      "execution_count": 6,
      "id": "7e636eab-0205-4e21-bfbc-642f2fd0164b",
      "metadata": {},
      "outputs": [],
      "source": [
        "kettenlinie = lambda x: (a*np.cosh(1/a * x)+y0)\n",
        "ableitung = lambda x: (np.sinh(1/a * x)) #siehe Ableitungsregeln PDF"
      ]
    },
    {
      "cell_type": "markdown",
      "id": "45f12e29-8263-4f3d-bebb-2537e2760862",
      "metadata": {},
      "source": [
        "## Bestimmung der x und y-Werte"
      ]
    },
    {
      "cell_type": "markdown",
      "id": "db52ecff-ddfb-40c5-892a-83289ba5bb3b",
      "metadata": {},
      "source": [
        "Die Funktion $x(l) = a \\cdot arcsinh \\left( \\frac{l}{a} \\right)$ (siehe PDF Kapitel 6.3) liefert einen x-Wert in Abhängigkeit von einer Bogenlänge $l$.<br>\n",
        "Hier liefert die Funktion x_werte_l(l) den x-Wert zur zugehörigen Bogenlänge l."
      ]
    },
    {
      "cell_type": "code",
      "execution_count": 7,
      "id": "caeff7b0-873d-48cd-a982-c249b5ae3bcf",
      "metadata": {},
      "outputs": [],
      "source": [
        "x_werte_l = lambda l: (np.arcsinh(l/a) * a)"
      ]
    },
    {
      "cell_type": "markdown",
      "id": "c3a2ef40-a9d2-4ee1-ae80-301459e26fe2",
      "metadata": {},
      "source": [
        "-------------------"
      ]
    },
    {
      "cell_type": "markdown",
      "id": "c9f29087-7c45-4b7a-aa71-813e6495979d",
      "metadata": {},
      "source": [
        "Um eine Liste der benötigten x-Werte zu erhalten, läuft in der folgenden Funktion eine for Schleife von -(der Hälfte der vorgegebenen Bogenlänge (Nullstelle im negativen Bereich)) bis zur +(Hälfte der vorgegeben Bogenlänge (Nullstelle auf positiver Seite)).<br>\n",
        "In jedem Schleifendurchlauf, wird i um die größe der Variable laengeDurchHolzStueckeSimuliert (Länge vom Bogen, welche durch einen Klotz beschrieben wird) erhöht, und mit diesem i wird die Funktion x_werte_l(l) aufgerufen. i ist also praktisch die momentane Bogenlänge. Der Rückgabewert wird zur Liste hinzugefügt."
      ]
    },
    {
      "cell_type": "code",
      "execution_count": 8,
      "id": "f1619320-a599-4a39-be38-77be9bf69ead",
      "metadata": {},
      "outputs": [],
      "source": [
        "def x_werte_holzstuecke():\n",
        "    x_werte_holzstuecke = [] #die Liste wird initialisiert\n",
        "    for i in range (-int(L/2), int(L/2+1), laengeDurchKlotzSimuliert): #for-Schleife die über die Bogenlänge iteriert\n",
        "        x_werte_holzstuecke.append(x_werte_l(i)) #die Liste wird um den Rückgabewert der Funktion x_werte_l(i) erweitert\n",
        "    return x_werte_holzstuecke #die Liste wird zurückgegeben"
      ]
    },
    {
      "cell_type": "code",
      "execution_count": 9,
      "id": "9b3fd694-5659-4f83-979e-7de26b03f9d4",
      "metadata": {},
      "outputs": [
        {
          "name": "stdout",
          "output_type": "stream",
          "text": [
            "x Werte:\n",
            "[-30.000000004186834, -28.459695195406937, -26.708667641693076, -24.682268897417455, -22.282466596571965, -19.352603653310144, -15.629065100279782, -10.666755857440647, -3.9351171525557147, 3.9351171525557147, 10.666755857440647, 15.629065100279782, 19.352603653310144, 22.282466596571965, 24.682268897417455, 26.708667641693076, 28.459695195406937, 30.000000004186834]\n"
          ]
        }
      ],
      "source": [
        "x_werte = x_werte_holzstuecke() #in der Variable x_werte wird die Liste der x-Werte gespeichert\n",
        "print(\"x Werte:\")\n",
        "print(x_werte)"
      ]
    },
    {
      "cell_type": "markdown",
      "id": "99f20cb7-3e7c-4f5f-8a56-6b01440e9640",
      "metadata": {},
      "source": [
        "-------------------"
      ]
    },
    {
      "cell_type": "markdown",
      "id": "01c89fe9-c22f-438a-a5d2-fe9f029ff168",
      "metadata": {},
      "source": [
        "Um eine Liste mit den zugehörigen y-Werte zu bekommen, läuft die folgende Funktion durch die Liste der x-Werte, welche als Parameter übergeben wird, und fügt den jeweiligen Funktionswert von kettenlinie = lambda x: (a*np.cosh(1/a * x)+y0) zur Liste hinzu."
      ]
    },
    {
      "cell_type": "code",
      "execution_count": 10,
      "id": "88ead2c3-dbf1-41fe-8c35-2b355a288160",
      "metadata": {},
      "outputs": [],
      "source": [
        "def y_werte_holzstuecke(xWerteListe):\n",
        "    yWerte = []\n",
        "    for i in xWerteListe:\n",
        "        yWerte.append(kettenlinie(i))\n",
        "    return yWerte"
      ]
    },
    {
      "cell_type": "code",
      "execution_count": 11,
      "id": "dc3c15a4-ec52-4c43-92f7-feca7cc154cd",
      "metadata": {},
      "outputs": [
        {
          "name": "stdout",
          "output_type": "stream",
          "text": [
            "y Werte:\n",
            "[2.2700234580952383e-08, -7.8501259341093075, -15.655823782564553, -23.39434867569104, -31.024771774511088, -38.466330404901925, -45.53973992575219, -51.78894544268181, -55.982593128987965, -55.982593128987965, -51.78894544268181, -45.53973992575219, -38.466330404901925, -31.024771774511088, -23.39434867569104, -15.655823782564553, -7.8501259341093075, 2.2700234580952383e-08]\n"
          ]
        }
      ],
      "source": [
        "y_werte = y_werte_holzstuecke(x_werte)\n",
        "print(\"y Werte:\")\n",
        "print(y_werte)"
      ]
    },
    {
      "cell_type": "markdown",
      "id": "ef5b01e3-0c7e-4f38-a256-bce578fca20f",
      "metadata": {},
      "source": [
        "## Bestimmung der Winkel zwischen den Klötzen"
      ]
    },
    {
      "cell_type": "markdown",
      "id": "4c623460-feb7-4303-a95a-1e7ca7470660",
      "metadata": {},
      "source": [
        "Um die Winkel zwischen den Klötzen zu bestimmen, werden die Sekanten-Steigungswinkel der Klötze benötigt.<br>\n",
        "Die folgende Funktion bestimmt den Steigungswinkel der Sekante durch die Punkte p1 und p2:"
      ]
    },
    {
      "cell_type": "code",
      "execution_count": 12,
      "id": "2ba5b3b8-00d7-4ef9-bf4d-254d8a9550fe",
      "metadata": {},
      "outputs": [],
      "source": [
        "def sekantenSteigungsWinkel(p1, p2): #p1 und p2 werden als Parameter übergeben\n",
        "    m = (kettenlinie(p1)-kettenlinie(p2))/(p1-p2) #Steigung wird bestimmt\n",
        "    return (np.arctan(m)/(2 * math.pi) * 360) #bestimmung des Steigungswinkels und umrechnen von Radiant in Grad"
      ]
    },
    {
      "cell_type": "markdown",
      "id": "3b169ef2-db04-4d9b-9639-824e927c8aa7",
      "metadata": {},
      "source": [
        "--------"
      ]
    },
    {
      "cell_type": "markdown",
      "id": "e46dc600-6633-4e0f-8b2e-f94440d79275",
      "metadata": {},
      "source": [
        "Die folgende Funktion liefert eine Liste mit den Sekantensteiungswinkeln, welche jeweils durch einen Klotz laufen.<br>\n",
        "Dafür wird erst der erste Steiungswinkel hinzugefügt und zu letzt der letzte (siehe PDF Kapitel 6.4). Dazwischen läuft eine for-Schleife durch die Liste der x-Werte und ruf jeweils die Funktion sekantenSteigungsWinkel(x_werte[i], x_werte[i+1]) mit dem momentanen und dem darauf folgenden x-Wert auf."
      ]
    },
    {
      "cell_type": "code",
      "execution_count": 13,
      "id": "6afa89b3-285a-4bd5-96b9-a7530474637b",
      "metadata": {},
      "outputs": [],
      "source": [
        "def sekantenSteigungsWinkelListe(x_werte):\n",
        "    steigungsWinkel = []\n",
        "    steigungsWinkel.append( np.arctan( (kettenlinie(x_werte[0])-(-1)*kettenlinie(x_werte[1]))/(x_werte[0]-x_werte[1]) ) / (2*math.pi)*360 ) # siehe PDF Besonderheiten erster und letzter Klotz\n",
        "    for i in range(0,len(x_werte)-1): # von 0 bis len-1\n",
        "        steigungsWinkel.append(sekantenSteigungsWinkel(x_werte[i], x_werte[i+1]))\n",
        "    \n",
        "    steigungsWinkel.append( np.arctan( (kettenlinie(x_werte[len(x_werte)-1])-(-1)*kettenlinie(x_werte[len(x_werte)-2]))/(x_werte[len(x_werte)-1]-x_werte[len(x_werte)-2]) ) / (2*math.pi)*360 ) ##\n",
        "    return steigungsWinkel"
      ]
    },
    {
      "cell_type": "code",
      "execution_count": 14,
      "id": "b9ce0464-23c4-4dc4-a4bf-5c0f4aca462f",
      "metadata": {},
      "outputs": [
        {
          "name": "stdout",
          "output_type": "stream",
          "text": [
            "Sekanten-Steigungswinkel:\n",
            "[78.898795820709, -78.898795883317, -77.35633239230725, -75.32608580825179, -72.54140437136391, -68.50963158917503, -62.2370737375766, -51.54795029298983, -31.92190536112552, -0.0, 31.92190536112552, 51.54795029298983, 62.2370737375766, 68.50963158917503, 72.54140437136391, 75.32608580825179, 77.35633239230725, 78.898795883317, -78.898795820709]\n"
          ]
        }
      ],
      "source": [
        "sekantenSteigungswinkelWerteListe = sekantenSteigungsWinkelListe(x_werte)\n",
        "print(\"Sekanten-Steigungswinkel:\")\n",
        "print(sekantenSteigungswinkelWerteListe)"
      ]
    },
    {
      "cell_type": "markdown",
      "id": "28ed540b-29c5-45f0-bdc0-1313846ffbfb",
      "metadata": {},
      "source": [
        "-------------"
      ]
    },
    {
      "cell_type": "markdown",
      "id": "3163f2e9-f4fb-4d8c-8689-ec88c3d07e00",
      "metadata": {},
      "source": [
        "Mit Hilfe dieser Sekanten-Steigungswinkel wird nun der \"Schneidewinkel\", bzw. die Hälfte des Winkels zwischen den Klötzen (siehe PDF Kapitel 6.4), bestimmt.<br>\n",
        "Dafür läuft die nachfolgende Funktion durch die Liste der Sekanten-Steigungswinkel und bestimmt nach Gleichung (30) (siehe PDF Kapitel 6.4) den Winkel $\\lambda$ (Hälfte des Winkels zwischen den Klötzen)."
      ]
    },
    {
      "cell_type": "code",
      "execution_count": 15,
      "id": "cc793bd2-4a9b-44fd-8ce7-5f9f628e2a1f",
      "metadata": {},
      "outputs": [],
      "source": [
        "def winkelZwischenKloetzenHalbe(sekantenSteigungsWinkel):\n",
        "    listeWinkel = []\n",
        "    listeWinkel.append(sekantenSteigungsWinkel[0])\n",
        "    for i in range(1,len(sekantenSteigungsWinkel)-2):\n",
        "        listeWinkel.append((180 - sekantenSteigungsWinkel[i+1] + sekantenSteigungsWinkel[i])/2)\n",
        "    listeWinkel.append(abs(sekantenSteigungsWinkel[len(sekantenSteigungsWinkel)-1]))\n",
        "    return listeWinkel"
      ]
    },
    {
      "cell_type": "code",
      "execution_count": 16,
      "id": "35e038db-b2cd-40b7-ba2c-58836f2fbab9",
      "metadata": {},
      "outputs": [
        {
          "name": "stdout",
          "output_type": "stream",
          "text": [
            "Winkel zwischen den Klötzen halbe (Schneidewinkel):\n",
            "[78.898795820709, 89.22876825449512, 88.98487670797226, 88.60765928155607, 87.98411360890556, 86.86372107420078, 84.65543827770662, 80.18697753406784, 74.03904731943724, 74.03904731943724, 80.18697753406784, 84.65543827770662, 86.86372107420078, 87.98411360890556, 88.60765928155607, 88.98487670797226, 89.22876825449512, 78.898795820709]\n"
          ]
        }
      ],
      "source": [
        "winkelZwischenKloetzenHalbeWerte = winkelZwischenKloetzenHalbe(sekantenSteigungswinkelWerteListe)\n",
        "print(\"Winkel zwischen den Klötzen halbe (Schneidewinkel):\")\n",
        "print(winkelZwischenKloetzenHalbeWerte)"
      ]
    },
    {
      "cell_type": "markdown",
      "id": "5541065a-2fe5-4f67-b24a-c113fedd8cf1",
      "metadata": {},
      "source": [
        "## Bestimmung der Klotzmaße"
      ]
    },
    {
      "cell_type": "markdown",
      "id": "48d1f336-244c-45b7-b782-5f821d99925a",
      "metadata": {},
      "source": [
        "Zu Beginn wird die Länge der Sekanten, welche die Klötze beschreiben, bestimmt.<br>\n",
        "Dies erfolgt, indem die Funktion mittels einer for-Schleife durch die Liste der x-Werte läuft und immer den aktuellen und den folgenden x-Wert nimmt und zu diesen die y-Werte bestimmt. Mit Hilfe des Satz von Pythagoras wird die Länge der Sekanten bestimmt. (siehe PDF Kapitel 6.5.1)"
      ]
    },
    {
      "cell_type": "code",
      "execution_count": 17,
      "id": "dfdc45f4-0c53-4826-9c2f-1357eb00e5b0",
      "metadata": {},
      "outputs": [],
      "source": [
        "def sekantenLaengen(xWerteListe):\n",
        "    sekantenLaengen = []\n",
        "    for i in range(0, len(xWerteListe)-1):\n",
        "        y1 = kettenlinie(xWerteListe[i])\n",
        "        y2 = kettenlinie(xWerteListe[i+1])\n",
        "        sekantenLaengen.append(math.sqrt((xWerteListe[i+1]-xWerteListe[i])**2 + (y2-y1)**2))\n",
        "    return sekantenLaengen"
      ]
    },
    {
      "cell_type": "code",
      "execution_count": 18,
      "id": "f311d609-2f7a-4633-b5d2-812189f24101",
      "metadata": {},
      "outputs": [
        {
          "name": "stdout",
          "output_type": "stream",
          "text": [
            "Sekantenlängen:\n",
            "[7.99981352543454, 7.999688518638961, 7.999441192504645, 7.998900408815565, 7.997555358723262, 7.993613801376608, 7.97979214105169, 7.931055451197266, 7.870234305111429, 7.931055451197266, 7.97979214105169, 7.993613801376608, 7.997555358723262, 7.998900408815565, 7.999441192504645, 7.999688518638961, 7.99981352543454]\n"
          ]
        }
      ],
      "source": [
        "sekantenLaengenWerte = sekantenLaengen(x_werte)\n",
        "print(\"Sekantenlängen:\")\n",
        "print(sekantenLaengenWerte)"
      ]
    },
    {
      "cell_type": "markdown",
      "id": "91ebf4b9-577c-4226-a82f-b1807e3764d2",
      "metadata": {},
      "source": [
        "--------------"
      ]
    },
    {
      "cell_type": "markdown",
      "id": "41d16f4b-f0d4-4ce1-a707-adb6629325c6",
      "metadata": {},
      "source": [
        "Da die Sekanten durch die Mitte der Klötze läuft, kommen durch die Schräge beim schneiden auf der Außenseite des Bogens noch Längen dazu und innerhalb fallen genau diese weg (siehe PDF Kapitel 6.5.2).<br>\n",
        "Die zusetzlichen Längen werden bestimmt, indem die Hälfte der Breite mit dem Tangens des jeweiligen Winkels im Klotz multipliziert wird, (siehe PDF Gleichung (33))."
      ]
    },
    {
      "cell_type": "code",
      "execution_count": 19,
      "id": "33a12fd6-d35c-4187-ab39-bdb9ab89ff68",
      "metadata": {},
      "outputs": [],
      "source": [
        "def zusetzlicheLaengenstuecke(winkelInHolzStueck):\n",
        "    langeSeite = []\n",
        "    for i in range(0,len(winkelInHolzStueck)):\n",
        "        langeSeite.append(2 / math.tan(math.radians(winkelInHolzStueck[i])))\n",
        "    return langeSeite"
      ]
    },
    {
      "cell_type": "code",
      "execution_count": 20,
      "id": "0772897b-8fd3-4eb0-b689-543c48dabdfe",
      "metadata": {},
      "outputs": [
        {
          "name": "stdout",
          "output_type": "stream",
          "text": [
            "Zusetzliche Längenelemente:\n",
            "[0.39242805176953294, 0.026922692534157827, 0.03543819562185135, 0.04861142898944077, 0.07039676027437022, 0.10958625970258735, 0.18710338770379092, 0.3459281360982313, 0.5720159803737838, 0.5720159803737838, 0.3459281360982313, 0.18710338770379092, 0.10958625970258735, 0.07039676027437022, 0.04861142898944077, 0.03543819562185135, 0.026922692534157827, 0.39242805176953294]\n"
          ]
        }
      ],
      "source": [
        "zusetzlicheLaengenstueckeWerte = zusetzlicheLaengenstuecke(winkelZwischenKloetzenHalbeWerte) #als Parameter wird winkelZwischenKloetzenHalbeWerte übergeben, da diese Winkel jenen in den Klötzen sind\n",
        "print(\"Zusetzliche Längenelemente:\")\n",
        "print(zusetzlicheLaengenstueckeWerte)"
      ]
    },
    {
      "cell_type": "markdown",
      "id": "c21e8025-1ec8-4a5f-93c2-8536f16f2ae2",
      "metadata": {},
      "source": [
        "-------------------"
      ]
    },
    {
      "cell_type": "markdown",
      "id": "9f5b8864-ac5b-4109-afc2-21d0765b6794",
      "metadata": {},
      "source": [
        "Da nun alle Größen bekannt sind, kann die außere Länge der Klotze bestimmt werden. Da der erste und letzte Klotz von den anderen unterscheiden, liefert die folgende Methode nur die Mittleren Längen.<br>\n",
        "Es wird die jeweilige Sekantenlänge mit den beiden zusetzlichen Länge addiert. Zu beachten ist, dass die beiden zusatzlängen Längen in einem Klotz verschieden voneinander sind."
      ]
    },
    {
      "cell_type": "code",
      "execution_count": 21,
      "id": "b14bd61a-99b1-402e-b432-e6e7c9450f13",
      "metadata": {},
      "outputs": [],
      "source": [
        "def laengeKloetzeAussenListe(sekantenLaengenListe, zusetzlicheLaengenListe):\n",
        "    laengen = []\n",
        "    for i in range(0,len(sekantenLaengenListe)):#1 bis len-1\n",
        "        laengen.append(sekantenLaengenListe[i] + zusetzlicheLaengenListe[i] + zusetzlicheLaengenListe[i+1])\n",
        "    return laengen"
      ]
    },
    {
      "cell_type": "code",
      "execution_count": 22,
      "id": "8327d488-9852-48be-9d77-0777ee501e87",
      "metadata": {},
      "outputs": [
        {
          "name": "stdout",
          "output_type": "stream",
          "text": [
            "Klotzelängen Außen:\n",
            "[8.41916426973823, 8.062049406794971, 8.083490817115937, 8.117908598079376, 8.177538378700218, 8.290303448782986, 8.512823664853713, 8.848999567669281, 9.014266265858998, 8.848999567669281, 8.512823664853713, 8.290303448782986, 8.17753837870022, 8.117908598079376, 8.083490817115939, 8.06204940679497, 8.41916426973823]\n"
          ]
        }
      ],
      "source": [
        "laengeKloetzeAussenWerteListe = laengeKloetzeAussenListe(sekantenLaengenWerte, zusetzlicheLaengenstueckeWerte)\n",
        "print(\"Klotzelängen Außen:\")\n",
        "print(laengeKloetzeAussenWerteListe)"
      ]
    },
    {
      "cell_type": "markdown",
      "id": "77edc1c0-0a1e-4bac-b623-f3f28b17f321",
      "metadata": {},
      "source": [
        "Das gleiche geschieht in der nachfolgenden Funktion für die innere Länge. Hier werden die zusetzlichen Längenelemente von der Sekantenlänge subtrahiert."
      ]
    },
    {
      "cell_type": "code",
      "execution_count": 23,
      "id": "e79ceac0-5fd2-410c-bfc3-c6979a075b07",
      "metadata": {},
      "outputs": [],
      "source": [
        "def laengeKloetzeInnenListe(sekantenLaengenListe, zusetzlicheLaengenListe):\n",
        "    laengen = []\n",
        "    for i in range(0,len(sekantenLaengenListe)):#1 bis len-1\n",
        "        laengen.append(sekantenLaengenListe[i] - zusetzlicheLaengenListe[i] - zusetzlicheLaengenListe[i+1])\n",
        "    return laengen"
      ]
    },
    {
      "cell_type": "code",
      "execution_count": 24,
      "id": "01b20f18-9494-4d33-bbaf-faa0474ff3a8",
      "metadata": {},
      "outputs": [
        {
          "name": "stdout",
          "output_type": "stream",
          "text": [
            "Klotzelängen Innen:\n",
            "[7.580462781130849, 7.937327630482952, 7.915391567893353, 7.8798922195517545, 7.817572338746304, 7.696924153970229, 7.446760617249668, 7.013111334725251, 6.7262023443638626, 7.013111334725251, 7.446760617249668, 7.696924153970229, 7.817572338746304, 7.8798922195517545, 7.915391567893353, 7.937327630482952, 7.580462781130849]\n"
          ]
        }
      ],
      "source": [
        "laengeKloetzeInnenWerteListe = laengeKloetzeInnenListe(sekantenLaengenWerte, zusetzlicheLaengenstueckeWerte)\n",
        "print(\"Klotzelängen Innen:\")\n",
        "print(laengeKloetzeInnenWerteListe)"
      ]
    },
    {
      "cell_type": "markdown",
      "id": "2b6ddb0a-8d53-4673-b6df-52dbfd38a082",
      "metadata": {},
      "source": [
        "---------------------------------------------------------"
      ]
    },
    {
      "cell_type": "markdown",
      "id": "e4be9d96-970d-4f70-88c1-ba8dfa7ed3d7",
      "metadata": {},
      "source": [
        "## Zeichnen der Kettenlinie"
      ]
    },
    {
      "cell_type": "markdown",
      "id": "ecfd3f00-b85a-4568-99d0-27174dbaf4d0",
      "metadata": {},
      "source": [
        "Die folgende Funktion zeichnet eine Funktion f, die als Parameter übergeben wird.<br>\n",
        "Hier ist diese Funktion nützlich, da man sich so ein Bild von der Kettenlinie machen kann."
      ]
    },
    {
      "cell_type": "code",
      "execution_count": 25,
      "id": "1a4beb78-7c3e-4ca1-b71b-42fb2e53b78e",
      "metadata": {},
      "outputs": [],
      "source": [
        "def funktionZeichnen(f, xmin, xmax, label=None):\n",
        "    x_values = np.linspace(xmin, xmax, 300) #eine Liste an x-Werten wird erzeugt. 300 x-Werte im Bereich zwischen xmin und xmax\n",
        "    y_values = f(x_values) #die zugehörigen y-Werte werden bestimmt\n",
        "\n",
        "    plt.axhline(0, color='black',linewidth=1)\n",
        "    plt.axvline(0, color='black',linewidth=1)\n",
        "\n",
        "    plt.plot(x_values, y_values, label=label) #die Punkte, die die x- und y-Werte bilden werden eingezeichnet, da es relativ viele sind, sieht es nach einer Kurve aus\n",
        "\n",
        "    plt.xlabel('x') #Achsenbeschriftung\n",
        "    plt.ylabel('y')\n",
        "    plt.title(f'Graph der Funktion {label}')\n",
        "    plt.grid(True)\n",
        "    plt.legend()\n",
        "    plt.show()"
      ]
    },
    {
      "cell_type": "code",
      "execution_count": 26,
      "id": "e38bb9a1-d75a-4c18-8a90-99440c86b9c4",
      "metadata": {},
      "outputs": [
        {
          "data": {
            "image/png": "[encoded data removed]",
            "text/plain": [
              "<Figure size 640x480 with 1 Axes>"
            ]
          },
          "metadata": {},
          "output_type": "display_data"
        }
      ],
      "source": [
        "funktionZeichnen(kettenlinie,-35,35, \"Kettenlinie\") #Funktionsaufruf mit der Gleichung der zuvor bestimmten Kettenlinie"
      ]
    },
    {
      "cell_type": "markdown",
      "id": "24621baf-a941-4462-99d7-e4b71d455386",
      "metadata": {},
      "source": [
        "---------"
      ]
    },
    {
      "cell_type": "markdown",
      "id": "9d84c195-940d-475a-a37b-33c1e764eb49",
      "metadata": {},
      "source": [
        "## Speichern der Klötze und graphische Kontrolle"
      ]
    },
    {
      "cell_type": "markdown",
      "id": "d1a54bb8-8c2a-4562-be72-a858f181157c",
      "metadata": {},
      "source": [
        "Die nachfolgende Funktion, speichert die Klötze als stl-Datei ab und zeichnet die Klötze zur Kontrolle. Da diese Funktion realativ komplex ist, sind einzelne Befehle erklärt. Die Erklärungen sind direkt hinter den Zeilen."
      ]
    },
    {
      "cell_type": "code",
      "execution_count": 27,
      "id": "3bc11f67-f08e-4d66-bbce-02320ee6c6ea",
      "metadata": {},
      "outputs": [],
      "source": [
        "def kloetzeAbspeichern(sekantenLaengen, laengeKloetzeAussen, zusetzlicheLaenge, x_werte, y_werte, sekantenSteigungswinkelListe):\n",
        "    for n in range (0, len(laengeKloetzeAussen)): #Schleife läuft von Null bis zur Anzahl der Klötze\n",
        "        theta = np.radians(sekantenSteigungswinkelListe[n+1]) + np.radians(180) #theta ist der Winkel, um den der Klotz gedreht wird, bei n+1 weil trick mit erster und letzter klotz +180 da rechtsrum gedreht wird\n",
        "        c, s = np.cos(theta), np.sin(theta) #in c wird der cosinus von theta geschrieben, in s der sin\n",
        "        R = np.array(((c, -s), (s, c))) #Drehmatrix R wird initialisiert (siehe PDF Gleichung (7))\n",
        "\n",
        "        #die Koordinaten der Punkte werden bestimmt (siehe PDF Abbildung 26). Hier liegt der Klotz noch an dem Nullpunkt\n",
        "        a = np.array([-zusetzlicheLaenge[n+1], 2])\n",
        "        b = np.array([ zusetzlicheLaenge[n+1],-2])\n",
        "        c = np.array([-zusetzlicheLaenge[n+1]+laengeKloetzeAussen[n], 2])\n",
        "        d = np.array([-zusetzlicheLaenge[n+1]+laengeKloetzeAussen[n]-2*zusetzlicheLaenge[n],-2])\n",
        "\n",
        "        v = np.array([x_werte[n+1], y_werte[n+1]]) #v ist der Ortsvektor des Punktes, der beim bestimmen der Koordinaten auf den Nullpunkt gelegt wurde\n",
        "\n",
        "        #die die Punkte a,b,c,d werden mit der Drehmatrix R multipliziert und mit dem Vektor v addiert und liegen jetzt auf der richtigen Stelle auf dem Funktionsgraphen\n",
        "        a1 = np.dot(R,a)+v\n",
        "        b1 = np.dot(R,b)+v\n",
        "        c1 = np.dot(R,c)+v\n",
        "        d1 = np.dot(R,d)+v\n",
        "\n",
        "        plt.rcParams[\"figure.figsize\"] = [7.00, 3.50] #legt die Größe der Matplotlib-Figuren fest (Größen in Zoll)\n",
        "        plt.rcParams[\"figure.autolayout\"] = True #aktivieren das automatische Layout\n",
        "\n",
        "        polygon2 = Polygon([a1,c1,d1,b1,]) #eine Figur des Klotzes wird erstellt. Hierbei sind die Seiten a1c1 c1d1 d1b1 und b1a1\n",
        "\n",
        "        x, y = polygon2.exterior.xy #der Variable x werden die x-Werte der Koordinaten zugeordnet, der Variable y die y-Werte\n",
        "        plt.plot(x, y, c=\"black\") #Die Punkte werden gezeichnet und gezeichnet (mit den Seiten des polygon2)\n",
        "\n",
        "        #definition der Eckpunkte eines Klotzes a[0]/b[0]/... sind die x-Koordinaten der jeweiligen Punkte, a[1]/b[1]/... die y-Koordinaten\n",
        "        #0 und vier sind die z-Koordinaten. Also ist ein Klotz hier 4LE hoch\n",
        "        vertices = np.array([\\\n",
        "            [a[0], a[1] , 0], #[-1, -1, -1], #0\n",
        "            [b[0], b[1] , 0], #[+1, -1, -1], #1\n",
        "            [d[0], d[1] , 0], #[+1, +1, -1], #2\n",
        "            [c[0], c[1] , 0], #[-1, +1, -1], #3\n",
        "            [a[0], a[1] , 4], #[-1, -1, +1], #4 \n",
        "            [b[0], b[1] , 4], #[+1, -1, +1], #5 \n",
        "            [d[0], d[1] , 4], #[+1, +1, +1], #6\n",
        "            [c[0], c[1] , 4]]) #[-1, +1, +1]]) #7\n",
        "        #die Flächen des Klotzes werden durch Dreiecke definiert\n",
        "        faces = np.array([\\\n",
        "            [0,3,1],\n",
        "            [1,3,2],\n",
        "            [0,4,7],\n",
        "            [0,7,3],\n",
        "            [4,5,6],\n",
        "            [4,6,7],\n",
        "            [5,1,2],\n",
        "            [5,2,6],\n",
        "            [2,3,6],\n",
        "            [3,7,6],\n",
        "            [0,1,5],\n",
        "            [0,5,4]])\n",
        "\n",
        "        cube = mesh.Mesh(np.zeros(faces.shape[0], dtype=mesh.Mesh.dtype)) #ein Würfel mit den Flächen aus dem Array faces wird erzeugt\n",
        "        for i, f in enumerate(faces): #schleife läuft über alle einträge im faces array\n",
        "            for j in range(3): #schleife läuft über die drei Eckpunkte eines Dreiecks im faces Array\n",
        "                cube.vectors[i][j] = vertices[f[j],:] #jetzt werden die Eckepunkte des cubes mit den Koordinaten aus dem vertices array gefüllt, also beschreibt dieser cube jetzt den aktuellen Klotz\n",
        "\n",
        "        #der cube wird als stl datei gespeichert (dateityp der für den druck verwendet wird). Hier ist der Befehl auskommentiert, da sonst beim Ausführen der Funktion direkt ohen Nachfrage die stl Dateien der Klötze abgespeichert werden                \n",
        "        #cube.save('cube'+str(n)+'.stl')\n",
        "\n",
        "    #die Funktion der Kettenlinie wird gezeichnet (gleiches Verfahren wie in der Funktion zeichnen)\n",
        "    x_values = np.linspace(-35, 35, 300)\n",
        "    y_values = kettenlinie(x_values)\n",
        "\n",
        "    plt.axhline(0, color='black',linewidth=1)\n",
        "    plt.axvline(0, color='black',linewidth=1)\n",
        "    \n",
        "    \n",
        "    plt.plot(x_values, y_values)\n",
        "    plt.show()"
      ]
    },
    {
      "cell_type": "code",
      "execution_count": 28,
      "id": "ba91a333-f6ca-412f-94b7-fd60af22b7d3",
      "metadata": {},
      "outputs": [
        {
          "data": {
            "image/png": "[encoded data removed]",
            "text/plain": [
              "<Figure size 700x350 with 1 Axes>"
            ]
          },
          "metadata": {},
          "output_type": "display_data"
        }
      ],
      "source": [
        "kloetzeAbspeichern(sekantenLaengenWerte, laengeKloetzeAussenWerteListe, zusetzlicheLaengenstueckeWerte, x_werte, y_werte, sekantenSteigungswinkelWerteListe)"
      ]
    },
    {
      "cell_type": "markdown",
      "id": "0a3fcf21-ac75-4683-8330-e1fab9d0a187",
      "metadata": {},
      "source": [
        "Die Graphik ist verzerrt, führt man das Programm lokal aus, kann man die Fenstergröße anpassen, sodass die Maßstäbe passend sind."
      ]
    },
    {
      "cell_type": "markdown",
      "id": "9ac9e651-8ec8-4bba-9d7b-a7b7b01dd3e9",
      "metadata": {},
      "source": [
        "----"
      ]
    },
    {
      "cell_type": "markdown",
      "id": "c623e6a9-bff2-41d6-94d3-0d55e08863a4",
      "metadata": {},
      "source": [
        "Diese Programmdokumentation kann unter [https://andreas-di.github.io/jupyter/lab/index.html](https://andreas-di.github.io/jupyter/lab/index.html) aufgerufen werden."
      ]
    }
  ],
  "metadata": {
    "kernelspec": {
      "display_name": "Python 3 (ipykernel)",
      "language": "python",
      "name": "python3"
    },
    "language_info": {
      "codemirror_mode": {
        "name": "ipython",
        "version": 3
      },
      "file_extension": ".py",
      "mimetype": "text/x-python",
      "name": "python",
      "nbconvert_exporter": "python",
      "pygments_lexer": "ipython3",
      "version": "3.12.2"
    }
  },
  "nbformat": 4,
  "nbformat_minor": 5
}