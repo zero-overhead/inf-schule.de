{
  "cells": [
    {
      "cell_type": "markdown",
      "id": "a18f543d",
      "metadata": {},
      "source": [
        "# Jupyter-Notebook\n",
        "Hier kannst du sofort loslegen. Klicke in das Eingabefeld unten und drücke dort die Tastenkombination \"Shift\" + \"Enter\", um das Beispielprogramm zu starten."
      ]
    },
    {
      "cell_type": "code",
      "execution_count": null,
      "id": "unsigned-content",
      "metadata": {},
      "outputs": [],
      "source": [
        "text=\"❤\"\n",
        "leertext=\" \"\n",
        "for i in range(3,0,-1):\n",
        "  print(leertext*(2*i)+text*((5-i)*4)+leertext*(4*i)+text*((5-i)*4))\n",
        "print(\"  \" +text*4 + \" I N F - \" + text*8 + \" S C H U L E \" + text *2)\n",
        "for i in range(9):\n",
        "  print(leertext*(2*i+3)+text*((9-i)*4-2))"
      ]
    },
    {
      "cell_type": "code",
      "execution_count": null,
      "id": "e037dc4c",
      "metadata": {},
      "outputs": [],
      "source": []
    }
  ],
  "metadata": {
    "kernelspec": {
      "display_name": "Python 3 (ipykernel)",
      "language": "python",
      "name": "python3"
    },
    "language_info": {
      "codemirror_mode": {
        "name": "ipython",
        "version": 3
      },
      "file_extension": ".py",
      "mimetype": "text/x-python",
      "name": "python",
      "nbconvert_exporter": "python",
      "pygments_lexer": "ipython3",
      "version": "3.11.8"
    }
  },
  "nbformat": 4,
  "nbformat_minor": 5
}