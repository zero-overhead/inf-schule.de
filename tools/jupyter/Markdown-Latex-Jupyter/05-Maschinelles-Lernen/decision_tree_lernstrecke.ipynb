{
  "cells": [
    {
      "cell_type": "markdown",
      "id": "2727a2c3",
      "metadata": {
        "tags": []
      },
      "source": [
        "# Entscheidungsbäume mit Python berechnen lassen\n",
        "Dieses Jupyter-Notebook verwendet die gleichen Daten wie die Kids-Lernstrecke [Entscheide wie eine KI](https://www.inf-schule.de/kids/computerinalltag/entscheide-wie-eine-KI) auf inf-schule.de. Falls du diese Lernstrecke noch nicht kennst, dann arbeite sie vorher durch, um dich in die Thematik einzufinden. Anschließend kannst du dann mit diesem Notebook Entscheidungsbäume völlig automatisiert erstellen lassen.\n",
        "\n",
        "## Was kann ich hier tun?\n",
        "Dieses Notebook verwendet verschiedene **Python-Bibliotheken** zur Erstellung und Anzeige von Entscheidungsbäumen:\n",
        "- **pandas**: Die Daten aus CSV-Dateien einlesen und sichten\n",
        "- **sklearn**: Entscheidungsbäume zu den Daten berechnen\n",
        "- **matplotlib**: Entscheidungsbäume grafisch darstellen\n",
        "\n",
        "Die folgenden Dateien stehen zum Einlesen zur Verfügung. Sie enthalten Daten von Lebensmitteln.\n",
        "- **d14.csv**:   Daten von 14 ausgewählten Lebensmitteln\n",
        "- **d28.csv**:   Daten von 28 ausgewählten Lebensmitteln\n",
        "- **d55.csv**:   Daten von allen 55 Lebensmitteln\n"
      ]
    },
    {
      "cell_type": "markdown",
      "id": "152b9657",
      "metadata": {},
      "source": [
        "# Kapitel 1: Daten aus der CSV-Datei einlesen"
      ]
    },
    {
      "cell_type": "code",
      "execution_count": null,
      "id": "1757094a",
      "metadata": {},
      "outputs": [],
      "source": [
        "import pandas as pd\n",
        "daten = pd.read_csv('d14.csv')  # Einlesen der Daten, hier kann man den Dateinamen anpassen."
      ]
    },
    {
      "cell_type": "code",
      "execution_count": null,
      "metadata": {},
      "outputs": [],
      "source": [
        "display(daten)"
      ]
    },
    {
      "cell_type": "markdown",
      "id": "5452e81e",
      "metadata": {},
      "source": [
        "# Kapitel 2: Den Entscheidungsbaum berechnen lassen und darstellen"
      ]
    },
    {
      "cell_type": "code",
      "execution_count": null,
      "id": "5eb8372e",
      "metadata": {},
      "outputs": [],
      "source": [
        "import sklearn.tree\n",
        "import matplotlib"
      ]
    },
    {
      "cell_type": "markdown",
      "id": "cb41ad3f",
      "metadata": {},
      "source": [
        "## Parameter für die Entscheidungsfindung wählen\n",
        "Für die Berechnung des Entscheidungsbaums müssen einige Vorgaben gemacht werden. Im Einzelnen musst du dem System folgende Informationen mitteilen:\n",
        "- **Attribute**: Definiere, welche Eigenschaften der Lebensmittel zum Berechnen des Entscheidungsbaums verwendet werden sollen.\n",
        "- **Zielkriterium**: Definiere, welche Eigenschaft durch den Baum entschieden werden soll.\n",
        "- **Baumtiefe**: Definiere, welche Tiefe der Entscheidungsbaum maximal haben soll."
      ]
    },
    {
      "cell_type": "code",
      "execution_count": null,
      "id": "d2467021",
      "metadata": {},
      "outputs": [],
      "source": [
        "attribute  = [\"Energie\",\"Fett\"]\n",
        "zielkriterium = \"Label\"\n",
        "baumtiefe = 2"
      ]
    },
    {
      "cell_type": "markdown",
      "id": "76e8f54b",
      "metadata": {},
      "source": [
        "## Berechnung des Entscheidungsbaums\n"
      ]
    },
    {
      "cell_type": "code",
      "execution_count": null,
      "id": "0254ca20",
      "metadata": {},
      "outputs": [],
      "source": [
        "baum = sklearn.tree.DecisionTreeClassifier(max_depth=baumtiefe) # Erzeugen des Baums\n",
        "baum.fit( daten[attribute], daten[zielkriterium] )              # Berechnung des Baums"
      ]
    },
    {
      "cell_type": "markdown",
      "id": "63d47366-ad8c-4c4f-b332-b04202a4e5d3",
      "metadata": {},
      "source": [
        "## Darstellung des Entscheidungsbaums\n",
        "Für die Darstellung des Baums können verschiedene Optionen gewählt werden. Eine [Dokumentation der Parameter kann hier aufgerufen werden.](https://scikit-learn.org/stable/modules/generated/sklearn.tree.plot_tree.html)   "
      ]
    },
    {
      "cell_type": "code",
      "execution_count": null,
      "id": "f52a3616-412e-4020-abbc-1a57faa40fcd",
      "metadata": {},
      "outputs": [],
      "source": [
        "sklearn.tree.plot_tree( baum, feature_names=attribute, label=\"none\", filled=True,\n",
        "                        class_names=[\"ungesund\",\"gesund\"], impurity=False,\n",
        "                        proportion=False, fontsize=8 )\n",
        "matplotlib.pyplot.show()"
      ]
    },
    {
      "cell_type": "markdown",
      "id": "c51f8a98-a5ee-4df2-824b-4f3e5c298fac",
      "metadata": {},
      "source": [
        "<div style=\"padding: 5px; border: 5px solid #0077b6;\">\n",
        "\n",
        "### Aufgabe 1\n",
        "- Verändere die Parameter **Attribute** und **Baumtiefe** und beobachte die Veränderungen im Entscheidungsbaum.\n",
        "- Verändere die Darstellung des Entscheidungsbaums.\n"
      ]
    },
    {
      "cell_type": "markdown",
      "id": "3f0ecb30",
      "metadata": {},
      "source": [
        "# Kapitel 3: Wie gut ist meine KI?\n",
        "Die Daten der Lebensmittel aus der Berechnung (die Trainingsdaten) kann man nun in einem ersten Schritt zur Kontrolle verwenden, ob der berechnete Entscheidungsbaum gut funktioniert. Dazu testen wir für die einzelnen Datensätze nacheinander, ob sie mit dem Entscheidungsbaum richtig zugeordnet werden. Dies geschieht mit der Funktion **predict**.\n",
        "\n",
        "## Die Funktion predict\n",
        "Die Funktion bekommt einen Datensatz übergeben und gibt die Zuordnung zurück, die sich aus dem trainierten Entscheidungsbaum ergibt."
      ]
    },
    {
      "cell_type": "code",
      "execution_count": null,
      "id": "a341ef0a",
      "metadata": {},
      "outputs": [],
      "source": [
        "korrekt = 0\n",
        "falsch = 0\n",
        "for datensatz in daten.index:  #Schleife über alle Datensätze\n",
        "    if( baum.predict(daten.loc[[datensatz]][attribute]) == (daten.loc[datensatz]['Label']) ):  # Vorhersage ist wie im Label hinterlegt?\n",
        "        korrekt += 1\n",
        "    else:\n",
        "        falsch += 1\n",
        "        print(\"Fehler bei\", daten.loc[datensatz]['Name'])\n",
        "gesamt = korrekt + falsch\n",
        "print( \"Anzahl falsch klassifiziert: \",  falsch, \"(\" , round(falsch/gesamt*100,2), \"% )\")  \n",
        "print( \"Anzahl korrekt klassifiziert: \", korrekt, \"(\" , round(korrekt/gesamt*100,2), \"% )\")  "
      ]
    },
    {
      "cell_type": "markdown",
      "id": "0394124f",
      "metadata": {},
      "source": [
        "## Verbesserung des Modells"
      ]
    },
    {
      "cell_type": "markdown",
      "id": "4756981d",
      "metadata": {},
      "source": [
        "<div style=\"padding: 5px; border: 5px solid #0077b6;\">\n",
        "\n",
        "### Aufgabe 2\n",
        "\n",
        "Durchlaufe für die falsch eingeordneten Lebensmittel den Entscheidungsbaum oben von Hand und analysiere, warum sie falsch klassifiziert wurden. Passe anschließend die Parameter der Berechnung gezielt an, um die Fehlerzahl zu minimieren.\n",
        "\n"
      ]
    },
    {
      "cell_type": "markdown",
      "id": "e1ddc257",
      "metadata": {},
      "source": [
        "---\n",
        "# Wie geht es weiter?\n",
        "Du hast deinen Entscheidungsbaum auf dieser Seite für eine fest vorgegebene Zahl von Trainingsdaten optimiert. Das Ergebnis hängt dabei aber stark von den gewählten Beispielen ab. Getestet wurde der Baum zudem nur mit den Trainingsdaten.  \n",
        "\n",
        "Im nächsten Schritt soll daher bei der Berechnung des Entscheidungsbaums die Auswahl und die Anzahl der Trainings- und Testdaten verändert werden können. Öffne dazu das Notebook im nächsten Kapitel..."
      ]
    },
    {
      "cell_type": "markdown",
      "id": "1185689b",
      "metadata": {},
      "source": []
    }
  ],
  "metadata": {
    "kernelspec": {
      "display_name": "Python 3",
      "language": "python",
      "name": "python3"
    },
    "language_info": {
      "codemirror_mode": {
        "name": "ipython",
        "version": 3
      },
      "file_extension": ".py",
      "mimetype": "text/x-python",
      "name": "python",
      "nbconvert_exporter": "python",
      "pygments_lexer": "ipython3",
      "version": "3.12.4"
    }
  },
  "nbformat": 4,
  "nbformat_minor": 5
}