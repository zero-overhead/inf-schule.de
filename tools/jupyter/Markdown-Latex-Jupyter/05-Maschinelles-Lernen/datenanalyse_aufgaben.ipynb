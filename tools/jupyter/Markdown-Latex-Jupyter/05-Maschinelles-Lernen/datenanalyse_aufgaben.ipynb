{
  "cells": [
    {
      "cell_type": "markdown",
      "id": "2727a2c3",
      "metadata": {
        "tags": []
      },
      "source": [
        "# Datenanalyse mit der Bibliothek *pandas*\n",
        "Dieses Jupyter-Notebook verwendet die gleichen Daten wie die Kids-Lernstrecke [Entscheide wie eine KI](https://www.inf-schule.de/kids/computerinalltag/entscheide-wie-eine-KI) auf inf-schule.de. Wenn du möchtest, dann kannst du diese Lernstrecke vorher durcharbeiten, um die Daten schon einmal kennenzulernen. Du kannst aber auch direkt mit der Datenanalyse in diesem Jupyter-Notebook beginnen.\n",
        "\n",
        "## Was kann ich hier tun?\n",
        "Hier lernst du die Python-Bibliotheken **pandas** kennen und erfährst, wie mit deren Hilfe Daten aus CSV-Dateien eingelesen und analysiert werden können.\n",
        "\n",
        "Die folgenden Dateien stehen zum Einlesen zur Verfügung. Sie enthalten Daten von Lebensmitteln.\n",
        "- **d14.csv**:   Daten von 14 ausgewählten Lebensmitteln\n",
        "- **d28.csv**:   Daten von 28 ausgewählten Lebensmitteln\n",
        "- **d55.csv**:   Daten von allen 55 Lebensmitteln\n"
      ]
    },
    {
      "cell_type": "markdown",
      "id": "b54ecde2",
      "metadata": {},
      "source": [
        "## Daten aus einer CSV-Datei einlesen"
      ]
    },
    {
      "cell_type": "code",
      "execution_count": null,
      "id": "a05f2473",
      "metadata": {},
      "outputs": [],
      "source": [
        "import pandas as pd\n",
        "daten = pd.read_csv('d14.csv')  # Einlesen der Daten, hier kann man den Dateinamen anpassen."
      ]
    },
    {
      "cell_type": "markdown",
      "id": "5ed579a2-0081-4943-8bcf-33fdec2d973a",
      "metadata": {},
      "source": [
        "## Ausgabe aller eingelesenen Daten"
      ]
    },
    {
      "cell_type": "code",
      "execution_count": null,
      "id": "2578536d",
      "metadata": {
        "tags": []
      },
      "outputs": [],
      "source": [
        "display(daten )"
      ]
    },
    {
      "cell_type": "markdown",
      "id": "5006b51c-95fd-491e-bed5-f7203e1df152",
      "metadata": {
        "tags": []
      },
      "source": [
        "## Die Ausgabe auf bestimmte Attribute der Daten beschränken (Projektion)"
      ]
    },
    {
      "cell_type": "markdown",
      "id": "4b1b5699",
      "metadata": {},
      "source": [
        "<div style=\"padding: 5px; border: 5px solid #0077b6;\">\n",
        "\n",
        "### Aufgabe 1\n",
        "Ergänze die Projektion um die Spalten für Zucker und Salz."
      ]
    },
    {
      "cell_type": "code",
      "execution_count": null,
      "id": "81549c52-631b-41ca-9df5-63e2ab4ada05",
      "metadata": {
        "tags": []
      },
      "outputs": [],
      "source": [
        "display(daten[['Name','Fett']]) # nur einzelne Spalten"
      ]
    },
    {
      "cell_type": "markdown",
      "id": "d6bc598d-03d2-4ff8-a335-07e7d19c5bf4",
      "metadata": {},
      "source": [
        "## Die Ausgabe auf bestimmte Datensätze beschränken (Selektion)"
      ]
    },
    {
      "cell_type": "markdown",
      "id": "e577ebd0",
      "metadata": {},
      "source": [
        "<div style=\"padding: 5px; border: 5px solid #0077b6;\">\n",
        "\n",
        "### Aufgabe 2\n",
        "Führe die einzelnen Programmzeilen aus, indem du das Kommentarzeichen am Anfang entfernst. Welche Daten werden jeweils ausgegeben? Halte deine Beobachtungen schriftlich fest.\n"
      ]
    },
    {
      "cell_type": "code",
      "execution_count": null,
      "id": "6228d252-a548-4980-b211-4b6fb8c21d15",
      "metadata": {
        "tags": []
      },
      "outputs": [],
      "source": [
        "#display(daten[daten.Label==0]) \n",
        "#display(daten[(daten.Label==0) & (daten.Fett<10)]) \n",
        "#display(daten[daten.Name==\"Waffel\"]) "
      ]
    },
    {
      "cell_type": "markdown",
      "id": "3c4e9367",
      "metadata": {},
      "source": [
        "Ergebnisse bitte hierher"
      ]
    },
    {
      "cell_type": "markdown",
      "id": "ec351b2b",
      "metadata": {},
      "source": [
        "<div style=\"padding: 5px; border: 5px solid #0077b6;\">\n",
        "\n",
        "### Aufgabe 3\n",
        "Gib alle gesunden Lebensmittel mit viel Eiweiss aus (>10)."
      ]
    },
    {
      "cell_type": "code",
      "execution_count": null,
      "id": "9bfcbbc5",
      "metadata": {},
      "outputs": [],
      "source": [
        "# Lösung bitte hierher"
      ]
    },
    {
      "cell_type": "markdown",
      "id": "7a2fb31b-e08c-4095-8007-c0bf85a60ed1",
      "metadata": {},
      "source": [
        "## Die Ausgabe sortieren"
      ]
    },
    {
      "cell_type": "markdown",
      "id": "9907d4d6",
      "metadata": {},
      "source": [
        "<div style=\"padding: 5px; border: 5px solid #0077b6;\">\n",
        "\n",
        "### Aufgabe 4\n",
        "Teste die Ausgaben und sortiere dann die Daten nach ihrem Zuckergehalt."
      ]
    },
    {
      "cell_type": "code",
      "execution_count": null,
      "id": "67d1a19d-9b18-4c57-9197-ee9c843ec33e",
      "metadata": {
        "tags": []
      },
      "outputs": [],
      "source": [
        "#display(daten.sort_values(by=['Fett'])) # Sortierung nach Attribut\n",
        "#display(daten.sort_values(by=['Label','Fett'])) # Sortierung nach 2 Attributen"
      ]
    },
    {
      "cell_type": "code",
      "execution_count": null,
      "id": "6862c5da",
      "metadata": {},
      "outputs": [],
      "source": [
        "# Lösung bitte hierher"
      ]
    },
    {
      "cell_type": "markdown",
      "id": "1acd7ccd-c8cc-46c6-ae08-55b4bb1d67e2",
      "metadata": {},
      "source": [
        "## Kombination der bisherigen Techniken\n",
        "Projektion, Selektion und Sortierung können auch beliebig kombiniert werden."
      ]
    },
    {
      "cell_type": "markdown",
      "id": "3396170f",
      "metadata": {},
      "source": [
        "<div style=\"padding: 5px; border: 5px solid #0077b6;\">\n",
        "\n",
        "### Aufgabe 5\n",
        "Teste die beiden Ausgaben und finde heraus, welche Daten angezeigt werden! Halte deine Beobachtungen schriftlich fest.\n"
      ]
    },
    {
      "cell_type": "code",
      "execution_count": null,
      "id": "6cd5636c-9592-4de3-bcb2-92aa2cbf643d",
      "metadata": {
        "tags": []
      },
      "outputs": [],
      "source": [
        "#display(daten[['Name','Fett']][daten.Label==0 ]) \n",
        "#display(daten[['Name','Fett']][daten.Label==0 ].sort_values(by=['Name'])) "
      ]
    },
    {
      "cell_type": "markdown",
      "id": "f5441a58",
      "metadata": {},
      "source": [
        "Beobachtungen bitte hierher"
      ]
    },
    {
      "cell_type": "markdown",
      "id": "5d4dcd76",
      "metadata": {},
      "source": [
        "<div style=\"padding: 5px; border: 5px solid #0077b6;\">\n",
        "\n",
        "### Aufgabe 6\n",
        "Gib den Namen und den Zucker- und Fettgehalt aller Lebensmittel aus, die ungesund sind. Sortiere nach Fettgehalt!"
      ]
    },
    {
      "cell_type": "code",
      "execution_count": null,
      "id": "9f769f12",
      "metadata": {},
      "outputs": [],
      "source": [
        "# Lösung bitte hierher"
      ]
    }
  ],
  "metadata": {
    "kernelspec": {
      "display_name": "Python ()",
      "language": "python",
      "name": "liteenv"
    },
    "language_info": {
      "codemirror_mode": {
        "name": "ipython",
        "version": 3
      },
      "file_extension": ".py",
      "mimetype": "text/x-python",
      "name": "python",
      "nbconvert_exporter": "python",
      "pygments_lexer": "ipython3",
      "version": "3.12.4"
    }
  },
  "nbformat": 4,
  "nbformat_minor": 5
}