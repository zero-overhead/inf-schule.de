{
  "cells": [
    {
      "cell_type": "markdown",
      "id": "ee628ca6",
      "metadata": {},
      "source": [
        "# Training mittels Linearer Regression\n",
        "Bisher haben wir zum Training Entscheidungsbäume verwendet. In diesem Kapitel wollen wir nun ein anderes Modell betrachten, die so genannte **lineare Regression**.\n",
        "\n",
        "Wie vorher teilen wir die Daten wieder auf in die drei Gruppen:\n",
        "- Trainingsdaten\n",
        "- Validierungsdaten\n",
        "- Testdaten\n",
        "\n"
      ]
    },
    {
      "cell_type": "markdown",
      "id": "81210778",
      "metadata": {},
      "source": [
        "<center>\n",
        "<img width=\"60%\" src=\"trainingsprozess.png\"/>\n",
        "<center>"
      ]
    },
    {
      "cell_type": "markdown",
      "id": "b37373c0",
      "metadata": {},
      "source": [
        "## Einlesen der Daten und erster Überblick"
      ]
    },
    {
      "cell_type": "code",
      "execution_count": null,
      "id": "a05f2473",
      "metadata": {
        "trusted": true
      },
      "outputs": [],
      "source": [
        "import pandas as pd\n",
        "daten = pd.read_csv('d55.csv')\n",
        "display(daten.head(5))   # Anzeige der ersten n Datensätze"
      ]
    },
    {
      "cell_type": "markdown",
      "id": "15c345b3",
      "metadata": {},
      "source": [
        "## Aufteilung der Daten in zufällige Gruppen\n",
        "Im folgenden Quelltext kann man die **Größe der einzelnen Gruppen angeben**. Die Summe muss dabei natürlich der Anzahl der Datensätze entsprechen. \n",
        "\n",
        "Oft wird für die Aufteilungverhältnis der Trainigs-, Validierungs und Testdaten von 70% : 15% : 15% gewählt."
      ]
    },
    {
      "cell_type": "code",
      "execution_count": null,
      "id": "87c6d08e",
      "metadata": {
        "trusted": true
      },
      "outputs": [],
      "source": [
        "anzahl_training    = 35\n",
        "anzahl_validierung = 15\n",
        "anzahl_test        = len(daten) - anzahl_training - anzahl_validierung   # der Rest\n",
        "print( \"Aufteilungsverhältnis:\", \n",
        "       round(anzahl_training/len(daten)*100,1) ,\"% :\",\n",
        "       round(anzahl_validierung/len(daten)*100,1) ,\"% :\",\n",
        "       round(anzahl_test/len(daten)*100,1) ,\"%\" )"
      ]
    },
    {
      "cell_type": "markdown",
      "id": "31e5f472-452d-43aa-a098-2a8d0147027b",
      "metadata": {},
      "source": [
        "Für die zufällige Verteilung auf die drei Gruppen erzeugen wir eine **Zufallsliste** mit den Nummern der Datensätze, in der die Elemente mit **random.shuffle** durchgemischt werden.\n",
        "Du kannst diesen Block mehrmals ausführen und dabei das wiederholte Neumischen in der Ausgabe beobachten."
      ]
    },
    {
      "cell_type": "code",
      "execution_count": null,
      "id": "da5eda24",
      "metadata": {
        "trusted": true
      },
      "outputs": [],
      "source": [
        "import random\n",
        "zufallsliste= list( range(len(daten)) ) # Liste mit den Nummern von 0 bis Anzahl der Datensätze\n",
        "random.shuffle( zufallsliste )          # Liste wird zufällig durchgeschüttelt\n",
        "print( zufallsliste )                   # Ausgabe zur Kontrolle"
      ]
    },
    {
      "cell_type": "markdown",
      "id": "45b8d097-269b-43a8-a40f-182e549c31bc",
      "metadata": {},
      "source": [
        "Jetzt müssen noch die **Daten in die einzelnen Gruppen** aufgeteilt werden. Dazu verwenden wir natürlich die Zufallsliste."
      ]
    },
    {
      "cell_type": "code",
      "execution_count": null,
      "id": "4469e7ce",
      "metadata": {
        "trusted": true
      },
      "outputs": [],
      "source": [
        "daten_training    = daten.loc[ zufallsliste[:anzahl_training] ] \n",
        "daten_validierung = daten.loc[ zufallsliste[anzahl_training:anzahl_training+anzahl_validierung] ] \n",
        "daten_test        = daten.loc[ zufallsliste[anzahl_training+anzahl_validierung:] ]\n",
        "#print(daten_training['Name'])"
      ]
    },
    {
      "cell_type": "markdown",
      "id": "3a68f545",
      "metadata": {},
      "source": [
        "## Training des Modells\n",
        "Hier können die Attribute ausgewählt werden, die bei der linearen Regression berücksichtigt werden."
      ]
    },
    {
      "cell_type": "code",
      "execution_count": null,
      "id": "6fb6f7c0",
      "metadata": {},
      "outputs": [],
      "source": [
        "import sklearn.linear_model\n",
        "\n",
        "attribute = ['Salz','Eiweiss']\n",
        "\n",
        "model = sklearn.linear_model.LinearRegression()\n",
        "model.fit(daten_training[attribute], daten_training['Label'])\n",
        "model.score(daten_training[attribute], daten_training['Label'])"
      ]
    },
    {
      "cell_type": "markdown",
      "id": "8b72a721",
      "metadata": {},
      "source": [
        "## Validierung\n",
        "Die Validierung wird nun mit den **Validierungsdaten** durchgeführt. "
      ]
    },
    {
      "cell_type": "code",
      "execution_count": null,
      "id": "dcfeb93e",
      "metadata": {
        "trusted": true
      },
      "outputs": [],
      "source": [
        "def validierung(datenliste):\n",
        "  korrekt = 0\n",
        "  falsch = 0\n",
        "  for datensatz in datenliste.index:  #Schleife über alle Validierungs-Datensätze\n",
        "#      if( int(model.predict(daten.loc[[datensatz]][attribute])[0] + 0.5 ) \n",
        "#          == (daten.loc[datensatz]['Label']) ):\n",
        "      if daten.loc[datensatz]['Label'] == 1 and model.predict(daten.loc[[datensatz]][attribute])[0] >= 0.5 or \\\n",
        "         daten.loc[datensatz]['Label'] == 0 and model.predict(daten.loc[[datensatz]][attribute])[0] < 0.5: \n",
        "           korrekt += 1\n",
        "      else:\n",
        "          falsch += 1\n",
        "          print(\"Fehlklassifizierung bei\", \"{:>2}\".format(datensatz), datenliste.loc[datensatz]['Name'])\n",
        "  gesamt = korrekt + falsch\n",
        "  print( \"Anzahl falsch  klassifiziert: \",  falsch, \"(\" , round(falsch/gesamt*100,2), \"% )\")  \n",
        "  print( \"Anzahl korrekt klassifiziert: \", korrekt, \"(\" , round(korrekt/gesamt*100,2), \"% )\") \n"
      ]
    },
    {
      "cell_type": "code",
      "execution_count": null,
      "id": "6892f8fc",
      "metadata": {},
      "outputs": [],
      "source": [
        "print(\"**************  V A L I D I E R U N G  *************\")\n",
        "validierung(daten_validierung)\n"
      ]
    },
    {
      "cell_type": "code",
      "execution_count": null,
      "id": "0859081f",
      "metadata": {},
      "outputs": [],
      "source": [
        "daten_validierung.loc[[21]]"
      ]
    },
    {
      "cell_type": "markdown",
      "id": "9e2072bd",
      "metadata": {},
      "source": [
        "<div style=\"padding: 5px; border: 5px solid #0077b6;\">\n",
        "\n",
        "### Aufgabe 1: Iterative Verbesserung des Modells\n",
        "Gehe nun zurück zum Abschnitt [Training des Modells](##Training-des-MOdells) und verändere die Auswahl der für die lineare Regression berücksichtigten Attribute solange, bis du zufrieden bist mit dem Ergebnis.\n",
        "\n",
        "Ebenso kannst du natürlich auch wieder das Aufteilungsverhältnis der Daten in Traings-, Validierung- und Testdaten abändern."
      ]
    },
    {
      "cell_type": "markdown",
      "id": "b84203ee",
      "metadata": {},
      "source": [
        "Ergebnisse bitte hierher"
      ]
    },
    {
      "cell_type": "markdown",
      "id": "19720d0c",
      "metadata": {},
      "source": [
        "<div style=\"padding: 5px; border: 5px solid #0077b6;\">\n",
        "\n",
        "### Aufgabe 2: Regressionskoeffizienten\n",
        "Untersuche systematisch, welche Attribute wie stark mit dem Label korrelieren. Verwende dazu die Funktion `model.score` und halte deine Ergebnisse in einer Tabelle fest.\n",
        "\n",
        "Kannst du mit Hilfe der Tabelle erklären, welche Auswahl an Attributen sich gut für unser Modell eignet und welche nicht so gut geeignet ist?"
      ]
    },
    {
      "cell_type": "markdown",
      "id": "19ec67c1",
      "metadata": {},
      "source": [
        "Ergebnisse bitte hierher"
      ]
    },
    {
      "cell_type": "markdown",
      "id": "fc94a278",
      "metadata": {},
      "source": [
        "---\n",
        "# Akzeptanz-Test\n",
        "Erst **nach** dem vollständigen Abschluss des iterativen Trainigsprozesses wird nur die Akzeptanzkontrolle mittels der **Testdaten** durchgeführt. Beachte, dass die Testdaten nun völlig neu für unser Modell sind, da wir diese im Trainingsprozess niemals verwendet haben."
      ]
    },
    {
      "cell_type": "code",
      "execution_count": null,
      "id": "0d90094a",
      "metadata": {},
      "outputs": [],
      "source": [
        "print(\"**************      T E S T U N G      *************\")\n",
        "print(\"** mit Attributen: \", model.feature_names_in_ , \"**\")\n",
        "validierung(daten_test)"
      ]
    },
    {
      "cell_type": "markdown",
      "id": "da204f98",
      "metadata": {},
      "source": [
        "Wenn das Erbebnis zufriedenstellend ist, dann wird das nun fertig trainierte und getestete Modell im produktiven Einsatz verwedendet.\n",
        "\n",
        "Andernfalls wird es verworfen und es wird ein anderes Modell entworfen."
      ]
    },
    {
      "cell_type": "markdown",
      "id": "c727ab60",
      "metadata": {},
      "source": [
        "<div style=\"padding: 5px; border: 5px solid #0077b6;\">\n",
        "\n",
        "### Aufgabe 3: Beurteile dein fertiges Modell\n",
        "Beurteile dein fertiges Modell. Falls du nicht zufrieden damit bist, dann äußere Vermutungen darüber, was schief gegangen sein könnte."
      ]
    },
    {
      "cell_type": "markdown",
      "id": "ecc988bc",
      "metadata": {},
      "source": [
        "Ergebnisse bitte hierher"
      ]
    }
  ],
  "metadata": {
    "kernelspec": {
      "display_name": "Python 3",
      "language": "python",
      "name": "python3"
    },
    "language_info": {
      "codemirror_mode": {
        "name": "ipython",
        "version": 3
      },
      "file_extension": ".py",
      "mimetype": "text/x-python",
      "name": "python",
      "nbconvert_exporter": "python",
      "pygments_lexer": "ipython3",
      "version": "3.12.2"
    }
  },
  "nbformat": 4,
  "nbformat_minor": 5
}