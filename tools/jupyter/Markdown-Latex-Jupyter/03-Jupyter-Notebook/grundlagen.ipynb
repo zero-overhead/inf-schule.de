{
  "cells": [
    {
      "cell_type": "markdown",
      "id": "c0ba881b",
      "metadata": {},
      "source": [
        "# Ausführungs-Reihenfolge der Python-Felder\n",
        "Bei Jupyter-Notebooks kommt es auf die Reihenfolge an, in der Python-Felder ausgeführt werden."
      ]
    },
    {
      "cell_type": "markdown",
      "id": "f3d6aa4e",
      "metadata": {},
      "source": [
        "<div style=\"padding: 5px; border: 5px solid #0077b6;\">\n",
        "\n",
        "## Aufgabe 1\n",
        "Führe die folgenden Python-Eingabefelder in unterschiedlicher Reihenfolge aus. Verändere dabei zwischendurch auch immer wieder die Werte der Variablen a und b. Beobachte genau, was dabei passiert und halte deine Beobachtungen schriftlich fest."
      ]
    },
    {
      "cell_type": "code",
      "execution_count": null,
      "id": "contrary-seminar",
      "metadata": {},
      "outputs": [],
      "source": [
        "print(a)"
      ]
    },
    {
      "cell_type": "code",
      "execution_count": null,
      "id": "uniform-cross",
      "metadata": {},
      "outputs": [],
      "source": [
        "a = 23"
      ]
    },
    {
      "cell_type": "code",
      "execution_count": null,
      "id": "classical-mileage",
      "metadata": {},
      "outputs": [],
      "source": [
        "b = 42"
      ]
    },
    {
      "cell_type": "code",
      "execution_count": null,
      "id": "thorough-canberra",
      "metadata": {},
      "outputs": [],
      "source": [
        "print (a)"
      ]
    },
    {
      "cell_type": "code",
      "execution_count": null,
      "id": "committed-filename",
      "metadata": {},
      "outputs": [],
      "source": [
        "print(b)"
      ]
    },
    {
      "cell_type": "markdown",
      "id": "lasting-garden",
      "metadata": {},
      "source": [
        "Beobachtungen bitte hierher"
      ]
    },
    {
      "cell_type": "code",
      "execution_count": null,
      "id": "98505016",
      "metadata": {},
      "outputs": [],
      "source": []
    }
  ],
  "metadata": {
    "kernelspec": {
      "display_name": "Python 3 (ipykernel)",
      "language": "python",
      "name": "python3"
    },
    "language_info": {
      "codemirror_mode": {
        "name": "ipython",
        "version": 3
      },
      "file_extension": ".py",
      "mimetype": "text/x-python",
      "name": "python",
      "nbconvert_exporter": "python",
      "pygments_lexer": "ipython3",
      "version": "3.11.1"
    }
  },
  "nbformat": 4,
  "nbformat_minor": 5
}