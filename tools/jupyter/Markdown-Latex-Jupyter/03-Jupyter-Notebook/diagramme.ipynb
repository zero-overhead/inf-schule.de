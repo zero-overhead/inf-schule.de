{
  "cells": [
    {
      "cell_type": "markdown",
      "id": "6a54a481",
      "metadata": {},
      "source": [
        "# Kenntnis von Programmiersprachen"
      ]
    },
    {
      "cell_type": "markdown",
      "id": "white-gather",
      "metadata": {},
      "source": [
        "<div style=\"padding: 5px; border: 5px solid #0077b6;\">\n",
        "\n",
        "## Aufgabe 1\n",
        "Führt eine Umfrage in eurer Klasse durch, welche Programmiersprachen ihr schon kennt zusammen mit der jeweiligen Anzahl von Schüler:innen, die diese Programiersprachen schon kennen. \"Kennen\" ist hier in dem Sinne zu verstehen, dass ihr den Namen der Programmiersprache schon einmal gehört habt, es ist also dazu nicht nötig, dass ihr die Programmiersprache auch in allen Details beherrscht.\n",
        "\n",
        "Haltet eure Ergebnisse hier schriftlich in Form einer Marksown-Tabelle fest."
      ]
    },
    {
      "cell_type": "markdown",
      "id": "e01e982f",
      "metadata": {},
      "source": [
        "Ergebnisse bitte hierher"
      ]
    },
    {
      "cell_type": "markdown",
      "id": "canadian-springer",
      "metadata": {},
      "source": [
        "<div style=\"padding: 5px; border: 5px solid #0077b6;\">\n",
        "\n",
        "## Aufgabe 2 \n",
        "Stelle die Ergebnisse aus Aufgabe 1 als Säulendiagramm graphisch dar, indem du das folgende Python-Programm entsprechend abänderst. Ändere auch die Größe des Diagramms, die Beschriftungen und die Farbe der Säule ab, bis du zufrieden mit dem Ergebnis bist. Recherchiere auch im Internet, wie zum Beipiel ein Diagrammtitel und ein Gitternetz hinzugefügt werden kann.\n",
        "\n",
        "```\n",
        "import matplotlib.pyplot as plt\n",
        "\n",
        "# Sample data\n",
        "categories = ['A', 'B', 'C', 'D', 'E']\n",
        "values = [25, 30, 35, 40, 45]\n",
        "\n",
        "# Create a bar chart\n",
        "plt.bar(categories, values)\n",
        "\n",
        "# Add labels and title\n",
        "plt.xlabel('Categories')\n",
        "plt.ylabel('Values')\n",
        "plt.title('Sample Bar Chart')\n",
        "\n",
        "# Show the plot\n",
        "plt.show()\n",
        "```"
      ]
    },
    {
      "cell_type": "code",
      "execution_count": 2,
      "id": "4fa4a772",
      "metadata": {},
      "outputs": [],
      "source": [
        "# Lösung bitte hierher"
      ]
    },
    {
      "cell_type": "markdown",
      "id": "commercial-experiment",
      "metadata": {},
      "source": [
        "<div style=\"padding: 5px; border: 5px solid #0077b6;\">\n",
        "\n",
        "## Aufgabe 3\n",
        "Recherchiere im Internet, wie man mit der Python-Biblipthek Matplotlib Kreisdiagramme erzeugt und stelle die Daten aus Aufgabe 1 als Kreisdiagramm dar."
      ]
    },
    {
      "cell_type": "code",
      "execution_count": 3,
      "id": "15d538c1",
      "metadata": {},
      "outputs": [],
      "source": [
        "# Lösung bitte hierher"
      ]
    }
  ],
  "metadata": {
    "kernelspec": {
      "display_name": "Python ()",
      "language": "python",
      "name": "liteenv"
    },
    "language_info": {
      "codemirror_mode": {
        "name": "ipython",
        "version": 3
      },
      "file_extension": ".py",
      "mimetype": "text/x-python",
      "name": "python",
      "nbconvert_exporter": "python",
      "pygments_lexer": "ipython3",
      "version": "3.11.8"
    }
  },
  "nbformat": 4,
  "nbformat_minor": 5
}