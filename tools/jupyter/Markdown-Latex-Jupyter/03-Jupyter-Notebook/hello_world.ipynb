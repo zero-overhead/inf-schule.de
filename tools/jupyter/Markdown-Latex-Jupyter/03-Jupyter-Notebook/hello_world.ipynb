{
  "cells": [
    {
      "cell_type": "markdown",
      "id": "abandoned-calculator",
      "metadata": {},
      "source": [
        "# Markdown in Jupyter-Notebooks\n",
        "Dieses Eingabe feld ist ein Markdown-Feld. Du kannst es bearbeiten, indem du darauf klickt und es editierst. Zum Abschlus kannst du dann Shift+Eingabetaste drücken, damit es wieder gerendert wierd. Auf diese Weise könntest du zum Beisbiel **Felhler ihn disem Felt behebn**, fals du welsche vinten soltest."
      ]
    },
    {
      "cell_type": "markdown",
      "id": "super-taiwan",
      "metadata": {},
      "source": [
        "<div style=\"padding: 5px; border: 5px solid #0077b6;\">\n",
        "\n",
        "## Aufgabe 1\n",
        "Erstelle in dem folgenden Markdown-Feld eine Todo-Liste mit Dingen, die du in dieser Woche noch erledigen möchtest. Verwende dabei eine Überschrift und eine ungeordnete Liste."
      ]
    },
    {
      "cell_type": "markdown",
      "id": "motivated-ticket",
      "metadata": {},
      "source": [
        "Lösung bitte hierher"
      ]
    },
    {
      "cell_type": "markdown",
      "id": "musical-entry",
      "metadata": {},
      "source": [
        "---\n",
        "# Latex-Formeln in Markdown-Feldern\n",
        "In Markdown-Feldern kannst du auch Latex-Formeln wie zum Beispiel $\\alpha + \\beta + \\gamma = 180°$ verwenden."
      ]
    },
    {
      "cell_type": "markdown",
      "id": "martial-fishing",
      "metadata": {},
      "source": [
        "<div style=\"padding: 5px; border: 5px solid #0077b6;\">\n",
        "\n",
        "## Aufgabe 2\n",
        "Schreibe in dem folgenden Markdown-Feld die allgemeine Form einer quadratischen Gleichung, so wie deren Lösung (also die pq-Formel) in $\\LaTeX$ auf."
      ]
    },
    {
      "cell_type": "markdown",
      "id": "resistant-venue",
      "metadata": {},
      "source": [
        "Lösung bitte hierher"
      ]
    },
    {
      "cell_type": "markdown",
      "id": "endangered-movie",
      "metadata": {},
      "source": [
        "---\n",
        "# Python in Jupyter-Notebooks\n",
        "In Jupyter-Notebooks kannst du Pythoncode direkt ausführen. Führe das folgende Python-Feld aus, indem du das Feld mit der Maus markierst und anschließend Shift+Eingabetaste drückst."
      ]
    },
    {
      "cell_type": "code",
      "execution_count": null,
      "id": "lyric-package",
      "metadata": {},
      "outputs": [],
      "source": [
        "print(\"Hallo Welt\")"
      ]
    },
    {
      "cell_type": "markdown",
      "id": "julian-browser",
      "metadata": {},
      "source": [
        "<div style=\"padding: 5px; border: 5px solid #0077b6;\">\n",
        "\n",
        "## Aufgabe 3\n",
        "Schreibe in dem folgenden Python-Feld ein Python-Programm, welches den Wert der folgenden Summe berechnet:\n",
        "    $$\\sum_{i=1}^{100} i := 1+ \\dots + 100$$\n"
      ]
    },
    {
      "cell_type": "code",
      "execution_count": null,
      "id": "487f9573",
      "metadata": {},
      "outputs": [],
      "source": [
        "# Lösung bitte hierher"
      ]
    }
  ],
  "metadata": {
    "kernelspec": {
      "display_name": "Python ()",
      "language": "python",
      "name": "liteenv"
    },
    "language_info": {
      "codemirror_mode": {
        "name": "ipython",
        "version": 3
      },
      "file_extension": ".py",
      "mimetype": "text/x-python",
      "name": "python",
      "nbconvert_exporter": "python",
      "pygments_lexer": "ipython3",
      "version": "3.11.8"
    }
  },
  "nbformat": 4,
  "nbformat_minor": 5
}