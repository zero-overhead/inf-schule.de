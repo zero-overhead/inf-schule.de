{
  "cells": [
    {
      "cell_type": "markdown",
      "id": "1b21332f",
      "metadata": {},
      "source": [
        "# Jupyter als CAS-Programm\n",
        " Jupyter-Notebooks sind ähnlich aufgebaut wie typische Computer-Algebra-Systeme (CAS) wie zum Beispiel das freie Programm *WxMaxima* und die proprietären Programme *Mathematica* und *Maple*. Wer also die Bedienung von CAS-Programmen schon kennt, der/dem wird auch die Bedienung von Jupyter-Notebooks leicht fallen.\n",
        "\n",
        "Zusammen mit Bibliotheken wie *NumPy* (Lineare Algebra) oder *Matplotlib* (Graphikausgaben) werden auch typische fortgeschrittene Funktionalitäten von CAS-Programmen in Jupyter-Notebooks bereitgestellt. "
      ]
    },
    {
      "cell_type": "markdown",
      "id": "organized-lewis",
      "metadata": {},
      "source": [
        "<div style=\"padding: 5px; border: 5px solid #0077b6;\">\n",
        "\n",
        "## Aufgabe 1: (Vektoren)\n",
        "Definiere in Python zwei Vektoren $\\vec{a} := \\left( \\begin{array}{c} 1\\\\2\\\\3 \\end{array} \\right)$ und $\\vec{b} := \\left( \\begin{array}{c} 5\\\\4\\\\6 \\end{array} \\right)$\n",
        "\n",
        "Verwende dazu die Klasse `array` aus dem Paket `numpy`. Einen Vektor kannst du damit dann wie folgt definieren:  \n",
        "```\n",
        "import numpy as np  \n",
        "u = np.array([0,8,15])\n",
        "```"
      ]
    },
    {
      "cell_type": "code",
      "execution_count": 1,
      "id": "301590e8",
      "metadata": {},
      "outputs": [],
      "source": [
        "# Lösung bitte hierher"
      ]
    },
    {
      "cell_type": "markdown",
      "id": "falling-piano",
      "metadata": {},
      "source": [
        "<div style=\"padding: 5px; border: 5px solid #0077b6;\">\n",
        "\n",
        "## Aufgabe 2: (Rechnen mit Vektoren)\n",
        "Berechne für die beiden Vektoren aus Aufgabe 1\n",
        "1. die Summe $\\vec{a}+\\vec{b}$.\n",
        "2. die Differenz $\\vec{a}-\\vec{b}$.\n",
        "3. das Skalarprodukt $\\vec{a} \\cdot \\vec{b}$.\n",
        "4. das Vektorprodukt $\\vec{a} \\times \\vec{b}$.\n",
        "Recherchiere dazu im Intenet nach den numpy-Befehlen, die man dazu benötigt.\n"
      ]
    },
    {
      "cell_type": "code",
      "execution_count": 2,
      "id": "71448eec",
      "metadata": {},
      "outputs": [],
      "source": [
        "# Lösung bitte hierher"
      ]
    },
    {
      "cell_type": "markdown",
      "id": "healthy-triumph",
      "metadata": {},
      "source": [
        "<div style=\"padding: 5px; border: 5px solid #0077b6;\">\n",
        "\n",
        "## Aufgabe 3: (Matrix-Vektor-Multiplikation, 2D)\n",
        "Definiere eine Matrix \n",
        "$A := \\left( \\begin{array}{ccc}\n",
        "    1 & 2 \\\\\n",
        "    -1 & 4\n",
        "\\end{array}\\right)$\n",
        "und einen Vektor $\\vec{b} := \\left( \\begin{array}{c} 1\\\\2 \\end{array} \\right)$ in Python und berechne anschließend das Matrix-Vektor-Produkt $A \\cdot \\vec{b}$ in Python.\n",
        "\n",
        "Falls du noch nicht weiss, wie das Matrix-Vektor-Produkt definiert ist, kann du dies [hier](https://de.wikipedia.org/wiki/Matrix-Vektor-Produkt) nachschlagen.\n",
        "\n",
        "In Python kannst du eine Matrix wie folgt definieren:\n",
        "```\n",
        "A = np.array([ [1,2], \n",
        "               [-1,4] ])\n",
        "```\n",
        "Recherchiere im Internet, wie man damit dann das Matrix-Vektor-Produkt berechnet."
      ]
    },
    {
      "cell_type": "code",
      "execution_count": 3,
      "id": "a9af4bb1",
      "metadata": {},
      "outputs": [],
      "source": [
        "# Lösung bitte hierher"
      ]
    },
    {
      "cell_type": "markdown",
      "id": "affecting-samba",
      "metadata": {},
      "source": [
        "<div style=\"padding: 5px; border: 5px solid #0077b6;\">\n",
        "\n",
        "## Aufgabe 4: (Matrix-Vektor-Multiplikation, 3D)\n",
        "Sei $A := \\left( \\begin{array}{ccc}\n",
        "                  5 & 1 & 3 \\\\\n",
        "                  1 & 1 & 1 \\\\\n",
        "                  1 & 2 & 1\n",
        "                 \\end{array}\\right)$\n",
        "und $\\vec{b} := \\left( \\begin{array}{c} 1\\\\2\\\\3 \\end{array} \\right)$. Berechne das Matrix-Vektorprodukt $A \\cdot \\vec{b}$ mit Python. <br/>\n"
      ]
    },
    {
      "cell_type": "code",
      "execution_count": 4,
      "id": "6bc11ec1",
      "metadata": {},
      "outputs": [],
      "source": [
        "# Lösung bitte hierher"
      ]
    }
  ],
  "metadata": {
    "kernelspec": {
      "display_name": "Python ()",
      "language": "python",
      "name": "liteenv"
    },
    "language_info": {
      "codemirror_mode": {
        "name": "ipython",
        "version": 3
      },
      "file_extension": ".py",
      "mimetype": "text/x-python",
      "name": "python",
      "nbconvert_exporter": "python",
      "pygments_lexer": "ipython3",
      "version": "3.11.8"
    }
  },
  "nbformat": 4,
  "nbformat_minor": 5
}