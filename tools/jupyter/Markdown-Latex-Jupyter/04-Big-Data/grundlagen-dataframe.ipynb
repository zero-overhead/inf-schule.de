{
  "cells": [
    {
      "cell_type": "markdown",
      "id": "b957f4c7",
      "metadata": {},
      "source": [
        "# Bibiothek Pandas\n",
        "\n",
        "Die Python-Bibliothek Pandas dient zur Auswertung von großen Datenmengen. Um die Bibliothek kennenzulernen, beschränken wir uns jedoch zunächst auf eine gut überschaubare Menge an Daten und erzeugen ein so genanntes **pandas.DataFrame**. Zur Kontrolle lassen wird dieses anschließend ausgeben:"
      ]
    },
    {
      "cell_type": "code",
      "execution_count": null,
      "id": "12d2a05e",
      "metadata": {},
      "outputs": [],
      "source": [
        "import pandas as pd\n",
        "# Erzeuge ein DataFrame aus einem Pyton-Dictonary und verwende die Spalte \"Name\" als Index\n",
        "getraenke = pd.DataFrame({'Name': ['Ada', 'Grace', 'Alan',\n",
        "                                   'Dorothy', 'Grace', 'Alan',\n",
        "                                   'Alan', 'Grace', 'Ada'],\n",
        "                          'Wasser': [3, 1, 2, 4, 2, 2, 3, 1, 3],\n",
        "                          'Kaffee': [1, 4, 2, 0, 3, 0, 3, 3, 0],\n",
        "                          'Tee':    [2, 1, 1, 0, 3, 0, 1, 1, 4],\n",
        "                          'Cola':   [2, 1, 2, 1, 2, 1, 2, 2, 0],\n",
        "                          'Limo':   [0, 0, 1, 0, 1, 0, 2, 1, 2],\n",
        "                         }).set_index('Name')\n",
        "display(getraenke)"
      ]
    },
    {
      "cell_type": "markdown",
      "id": "6d1cdc73",
      "metadata": {},
      "source": [
        "Bei einem DataFrame handelt es sich also also um Daten, die in einer Tabelle angeordnet sind. In unsrem Beispiel sollen die Zeilen einzelne Wochen repräsentieren zusammen mit der Angabe, wie viele Getraenke die einzelnen Personen im Laufe dieser Woche getrunken haben."
      ]
    },
    {
      "cell_type": "markdown",
      "id": "66d9611a",
      "metadata": {},
      "source": [
        "## Summen und Mittelwerte\n",
        "Um einen ersten Überblick über die Daten zu bekommen, bilden wir zunächst einmal Summen und Mittelwerte über alle Getränke, die konsumiert worden sind:"
      ]
    },
    {
      "cell_type": "code",
      "execution_count": null,
      "id": "0e68507d",
      "metadata": {},
      "outputs": [],
      "source": [
        "getraenke.sum() "
      ]
    },
    {
      "cell_type": "code",
      "execution_count": null,
      "id": "04a59623",
      "metadata": {},
      "outputs": [],
      "source": [
        "getraenke.sum().sum()"
      ]
    },
    {
      "cell_type": "code",
      "execution_count": null,
      "id": "ac5e2cfc",
      "metadata": {},
      "outputs": [],
      "source": [
        "getraenke.mean() "
      ]
    },
    {
      "cell_type": "markdown",
      "id": "71d5e2d1",
      "metadata": {},
      "source": [
        "## Extrahieren von Zeilen\n",
        "Nun interessiert uns, wie viele Getraenke Grace und Dorothy zu sich genommen hab. Dazu können wir einzelne Zeilen des DataFrames wie folgt extrahieren und anschließend Summen über die Teiltabelle bilden:"
      ]
    },
    {
      "cell_type": "code",
      "execution_count": null,
      "id": "a010e88e",
      "metadata": {},
      "outputs": [],
      "source": [
        "getraenke.loc['Grace']"
      ]
    },
    {
      "cell_type": "code",
      "execution_count": null,
      "id": "67a158c7",
      "metadata": {},
      "outputs": [],
      "source": [
        "getraenke.loc[['Grace','Dorothy']]"
      ]
    },
    {
      "cell_type": "code",
      "execution_count": null,
      "id": "4d1e67b9",
      "metadata": {},
      "outputs": [],
      "source": [
        "getraenke.loc['Grace'].sum()"
      ]
    },
    {
      "cell_type": "code",
      "execution_count": null,
      "id": "34b935b8",
      "metadata": {},
      "outputs": [],
      "source": [
        "getraenke.loc['Grace'].sum().sum()"
      ]
    },
    {
      "cell_type": "markdown",
      "id": "526d0032",
      "metadata": {},
      "source": [
        "## Extrahieren von Spalten\n",
        "Spalten können wir wie folgt extrahieren, um zu sehen, wie viele Getränke einer Sorte insgesamt konsumiert worden sind:"
      ]
    },
    {
      "cell_type": "code",
      "execution_count": null,
      "id": "a6dbe64c",
      "metadata": {},
      "outputs": [],
      "source": [
        "getraenke['Wasser']"
      ]
    },
    {
      "cell_type": "code",
      "execution_count": null,
      "id": "02c0ad64",
      "metadata": {},
      "outputs": [],
      "source": [
        "getraenke[['Kaffee','Tee']]"
      ]
    },
    {
      "cell_type": "markdown",
      "id": "93dc291f",
      "metadata": {},
      "source": [
        "## Teiltabellen\n",
        "Nun interessiert auch uns, wie viel Tee oder Kaffe durch die beiden Personen Ada oder Alan konsumiert wurden. Dazu können wir wie folgt eine Teiltabelle extraheiren:"
      ]
    },
    {
      "cell_type": "code",
      "execution_count": null,
      "id": "c8b6a8da",
      "metadata": {},
      "outputs": [],
      "source": [
        "getraenke.loc[['Ada','Alan']] [['Tee','Kaffee']]"
      ]
    },
    {
      "cell_type": "markdown",
      "id": "c169d3d3",
      "metadata": {},
      "source": [
        "<div style=\"padding: 5px; border: 5px solid #0077b6;\">\n",
        "\n",
        "## Aufgabe 1\n",
        "Was ist das Lieblingsgetränk von Alan?"
      ]
    },
    {
      "cell_type": "code",
      "execution_count": null,
      "id": "aaa1cf04",
      "metadata": {},
      "outputs": [],
      "source": [
        "# Lösung Aufgabe 1\n"
      ]
    },
    {
      "cell_type": "markdown",
      "id": "f0c7e2de",
      "metadata": {},
      "source": [
        "<div style=\"padding: 5px; border: 5px solid #0077b6;\">\n",
        "\n",
        "## Aufgabe 2\n",
        "Wie viele Getraenke jeder Sorte haben Ada und Grace zusammen konsumiert? Wie viele Getraenke waren das insgesamt?"
      ]
    },
    {
      "cell_type": "code",
      "execution_count": null,
      "id": "70f0a3f1",
      "metadata": {},
      "outputs": [],
      "source": [
        "# Lösung Aufgabe 2\n"
      ]
    },
    {
      "cell_type": "markdown",
      "id": "721814cc",
      "metadata": {},
      "source": [
        "# Groupby\n",
        "Oft ist die Funktion **pandas.DataFrame.groupby** sehr nützlich. Wir schauen uns ihr Funktionsweise anhand eines Beipsiel an:"
      ]
    },
    {
      "cell_type": "code",
      "execution_count": null,
      "id": "c2800c8f",
      "metadata": {},
      "outputs": [],
      "source": [
        "getraenke.groupby('Name')"
      ]
    },
    {
      "cell_type": "markdown",
      "id": "a348b26c",
      "metadata": {},
      "source": [
        "Groupby liefert also ein DataFrameGroupBy-Objekt zurück. Um zu verstehen, wie dieses verwendet werden kann, speichern wir es zunächst in der Variable **grouped** ab:"
      ]
    },
    {
      "cell_type": "code",
      "execution_count": null,
      "id": "3040e4fd",
      "metadata": {},
      "outputs": [],
      "source": [
        "grouped = getraenke.groupby('Name')"
      ]
    },
    {
      "cell_type": "markdown",
      "id": "82e59af0",
      "metadata": {},
      "source": [
        "Anschließend können wir wir folgt über das DataFrameGroupBy-Objekt iterieren:"
      ]
    },
    {
      "cell_type": "code",
      "execution_count": null,
      "id": "496854da",
      "metadata": {},
      "outputs": [],
      "source": [
        "for name, obj in grouped:\n",
        "    print(f\"===== {name} =====\")\n",
        "    print(obj)"
      ]
    },
    {
      "cell_type": "markdown",
      "id": "b55d249b",
      "metadata": {},
      "source": [
        "Über DataFrameGroupBy-Objekt können auch Summen und Mittelwerte gebildet werden:"
      ]
    },
    {
      "cell_type": "code",
      "execution_count": null,
      "id": "9897431d",
      "metadata": {},
      "outputs": [],
      "source": [
        "getraenke.groupby('Name').sum()"
      ]
    },
    {
      "cell_type": "code",
      "execution_count": null,
      "id": "87c5a204",
      "metadata": {},
      "outputs": [],
      "source": [
        "getraenke.groupby('Name').mean()"
      ]
    },
    {
      "cell_type": "markdown",
      "id": "f37328fd",
      "metadata": {},
      "source": [
        "<div style=\"padding: 5px; border: 5px solid #0077b6;\">\n",
        "\n",
        "### Aufgabe 3\n",
        "Halte deine Beobachtungen fest, indem du knapp aber präzsise notierst, wozu die Funktion **groupby**\n",
        "verwendet wird."
      ]
    },
    {
      "cell_type": "markdown",
      "id": "38c2adea",
      "metadata": {},
      "source": [
        "Ergebnisse bitte hierher"
      ]
    },
    {
      "cell_type": "markdown",
      "id": "154fb55d",
      "metadata": {},
      "source": []
    }
  ],
  "metadata": {
    "kernelspec": {
      "display_name": "Python 3 (ipykernel)",
      "language": "python",
      "name": "python3"
    },
    "language_info": {
      "codemirror_mode": {
        "name": "ipython",
        "version": 3
      },
      "file_extension": ".py",
      "mimetype": "text/x-python",
      "name": "python",
      "nbconvert_exporter": "python",
      "pygments_lexer": "ipython3",
      "version": "3.11.5"
    }
  },
  "nbformat": 4,
  "nbformat_minor": 5
}