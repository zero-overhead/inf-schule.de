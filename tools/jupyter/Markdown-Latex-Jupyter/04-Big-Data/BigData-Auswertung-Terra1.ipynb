{
  "cells": [
    {
      "cell_type": "markdown",
      "id": "0b1a6cd9",
      "metadata": {},
      "source": [
        "# Towards Big Data - Auswertung goßer Datenmengen\n",
        "Schauen wir uns nun ein Beispiel mit einer etwas größeren Datenmenge an. Zunächst lesen wir die Daten aus einer vorgegebenen csv-Datei ein, und verschaffen uns einen ersten Überblick:"
      ]
    },
    {
      "cell_type": "code",
      "execution_count": null,
      "id": "99fbbb80",
      "metadata": {},
      "outputs": [],
      "source": [
        "import  pandas as pd\n",
        "df = pd.read_csv('terra1.csv', )\n",
        "df"
      ]
    },
    {
      "cell_type": "markdown",
      "id": "ad908086",
      "metadata": {},
      "source": [
        "OK, das ist noch nicht wirklich \"Big-Data\", aber immerhin eine Tabelle mit 26.851 Orten und damit zuviel, um sich alle Datenpunkte einzeln anzuschauen. Um einen Überblick über die Daten zu bekommen, benötigen wir also ein Werkzeug zur Aggregation und Auswertung. Wie wir bereits gesehen haben, stellt uns die Python-Bilbliothek Pandas solche Werzeuge zur Verfügung, so dass wir nicht alles \"from Scratch\" per Hand schreiben müssen.\n",
        "\n",
        "Die Daten stammen übrigens aus aus dem [Kapitel über Datenbanken](https://www.inf-schule.de/@/page/HU3DE5C572jZ8Kei) (dort die \"terra1\"-Datenbank). Beachte, dass die Daten rein zu Ausbildungszwecken dienen und keinen Anspruch auf Vollständigkeit oder Korrektheit erfüllen.\n",
        "\n",
        "\n",
        "Die Konvertierung des Datenbankformates in einen DataFrame ist übrigens relativ einfach, da der Konstruktor von DataFrame einen Datenbank-Cursor akzeptiert. Falls du das nachvolliehen möchtest, dann recherchiere im Internet einfach mal nach \"Konvertierung mysql in DataFrame\". Datenbank-Expert:innen unter euch können sich so weitere \"Big-Data\"-Datensätze herstellen zum Experimentieren mit der Bibliothek Pandas."
      ]
    },
    {
      "cell_type": "markdown",
      "id": "f1cb7610",
      "metadata": {},
      "source": [
        "<div style=\"padding: 5px; border: 5px solid #0077b6;\">\n",
        "\n",
        "### Aufgabe 1\n",
        "Verschaffe dir einen ersten Überblick über die Daten in dem DataFrame df. Beantworte dazu insbesondere die folgenden Fragen und dokumentiere den Python-Code, den du dazu verwendest:\n",
        "- Wie viele Einwohner:innen gibt es insgesamt?\n",
        "- Wie viele Einwohner gibt es im Mittel pro Ort?\n",
        "- Wie viele Einwohner:innen hat der kleinste Ort? Wie viele der größte Ort?\n",
        "\n",
        "Natürlich darfst du auch noch weitere Analysen machen. Dokumentiere sie einfach ebenfalls direkt hier im Notebook."
      ]
    },
    {
      "cell_type": "code",
      "execution_count": null,
      "id": "5b45f6b6",
      "metadata": {},
      "outputs": [],
      "source": [
        "# Lösung Aufgabe 1\n"
      ]
    },
    {
      "cell_type": "markdown",
      "id": "bd778512",
      "metadata": {},
      "source": [
        "<div style=\"padding: 5px; border: 5px solid #0077b6;\">\n",
        "\n",
        "### Aufgabe 2\n",
        "Jetzt wird es schon etwas komplizierter. Nach der ersten Analyse interessieren uns nur natürlich detaillierte Fragen:\n",
        "- Wie viele Einwohner:innen hat Berlin?\n",
        "- Welche Orte haben genau 33 Einwohner:innen?\n",
        "- Wie viele Megastädte mit mindestens 10 Mio. Einwohner gibt es? Welche sind es?\n",
        "- Wie heisst der kleinste Ort? Wie der größte?\n",
        "\n",
        "Tipp: Verwende die Funktion **pandas.DataFrame.loc**. Dokumentiere wieder den Python-Code, den du zur Beantwortung dieser Fragen verwendest."
      ]
    },
    {
      "cell_type": "code",
      "execution_count": null,
      "id": "5e438955",
      "metadata": {},
      "outputs": [],
      "source": [
        "# Lösung Aufgabe 2\n"
      ]
    },
    {
      "cell_type": "markdown",
      "id": "c7093654",
      "metadata": {},
      "source": [
        "<div style=\"padding: 5px; border: 5px solid #0077b6;\">\n",
        "\n",
        "### Aufgabe 3\n",
        "Welche Länder haben mindestens 4711 und höchstens 4715 Einwohner?\n",
        "\n",
        "Tipp: Verwende die Funktion **pandas.DataFrame.loc** und den elementweise logischen UND-Operator **&**"
      ]
    },
    {
      "cell_type": "code",
      "execution_count": null,
      "id": "5b3a176e",
      "metadata": {},
      "outputs": [],
      "source": [
        "# Lösung Aufgabe 3\n"
      ]
    },
    {
      "cell_type": "markdown",
      "id": "ceefe01f",
      "metadata": {},
      "source": [
        "<div style=\"padding: 5px; border: 5px solid #0077b6;\">\n",
        "\n",
        "### Aufgabe 4 \n",
        "Welches ist der einwohnermäßig \"mittelmäßigste\" Ort? Das heisst, die Einwohnerzahl welchen Ortes liegt am nächsten an der mittleren Einwohnerzahl aller Orte?\n",
        "\n",
        "Tipp: Hier kommst du wahrscheinlich nicht alleine mit einem einzigen eleganten Pandas-Befehl weiter, sondern musst etwas Pythoncode schreiben. Erweitere dazu schrittweise deine Lösung aus Aufgabe 3."
      ]
    },
    {
      "cell_type": "code",
      "execution_count": null,
      "id": "933c7d76",
      "metadata": {},
      "outputs": [],
      "source": [
        "# Lösung Aufgabe 4\n"
      ]
    },
    {
      "cell_type": "markdown",
      "id": "61e12b73",
      "metadata": {},
      "source": [
        "---\n",
        "# Städte nach Ländern sortiert\n",
        "Um den Datensatz nach Ländern sortiert auszuwerten, erstellen wir zunächst ein neues DataFrame mit Attribut \"Land\" als Index:"
      ]
    },
    {
      "cell_type": "code",
      "execution_count": null,
      "id": "705a7188",
      "metadata": {},
      "outputs": [],
      "source": [
        "df_land = df.set_index('Land')\n",
        "df_land"
      ]
    },
    {
      "cell_type": "markdown",
      "id": "05f5211c",
      "metadata": {},
      "source": [
        "<div style=\"padding: 5px; border: 5px solid #0077b6;\">\n",
        "\n",
        "### Aufgabe 5\n",
        "\n",
        "Beantworte die folgenden Fragen, indem du das neue DataFrame df_land verwendest:\n",
        "- Wieviele Einwohner haben alle deutschen Städte insgesamt?\n",
        "- Wie viele haben sie im Mittel?"
      ]
    },
    {
      "cell_type": "code",
      "execution_count": null,
      "id": "f7d085a0",
      "metadata": {},
      "outputs": [],
      "source": [
        "# Lösung Aufgabe 5\n"
      ]
    },
    {
      "cell_type": "markdown",
      "id": "90241f5b",
      "metadata": {},
      "source": [
        "<div style=\"padding: 5px; border: 5px solid #0077b6;\">\n",
        "\n",
        "### Aufgabe 6\n",
        "- Wie viele Einwohner gibt es in pro Land insgesamt? Ausgabe aufsteigend sortiert.\n",
        "- Wie viele Einwohner gibt es in pro Land im Mittel? Ausgabe aufsteigend sortiert.\n",
        "- Was fällt dir bei Südkorea auf?\n",
        "\n",
        "Tipp: Verwende die Funktion **pandas.DataFrame.groupby**"
      ]
    },
    {
      "cell_type": "code",
      "execution_count": null,
      "id": "4a3bf0b2",
      "metadata": {},
      "outputs": [],
      "source": [
        "# Lösung Aufgabe 6"
      ]
    },
    {
      "cell_type": "markdown",
      "id": "61cacadb",
      "metadata": {},
      "source": [
        "<div style=\"padding: 5px; border: 5px solid #0077b6;\">\n",
        "\n",
        "### Aufgabe 7\n",
        "- Wo liegt die \"Mitte Deutschlands\"? Gemeint ist hiermit die geographische Mitte, also die Mittelwerte der geographischen Koordinate aller Orte.\n",
        "- Welche Orte liegen in einem Quadtrat der Kantenlänge 0,1°, dass als MIttelpunkt die \"Mitte Deutschlands\" hat?"
      ]
    },
    {
      "cell_type": "code",
      "execution_count": null,
      "id": "54d5fe05",
      "metadata": {},
      "outputs": [],
      "source": [
        "# Lösung Aufgabe 7\n"
      ]
    }
  ],
  "metadata": {
    "kernelspec": {
      "display_name": "Python 3 (ipykernel)",
      "language": "python",
      "name": "python3"
    },
    "language_info": {
      "codemirror_mode": {
        "name": "ipython",
        "version": 3
      },
      "file_extension": ".py",
      "mimetype": "text/x-python",
      "name": "python",
      "nbconvert_exporter": "python",
      "pygments_lexer": "ipython3",
      "version": "3.11.5"
    }
  },
  "nbformat": 4,
  "nbformat_minor": 5
}