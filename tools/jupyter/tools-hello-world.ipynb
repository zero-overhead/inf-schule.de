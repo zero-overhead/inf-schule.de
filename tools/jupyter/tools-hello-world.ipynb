{
  "metadata": {
    "kernelspec": {
      "name": "python",
      "display_name": "Python (Pyodide)",
      "language": "python"
    },
    "language_info": {
      "codemirror_mode": {
        "name": "python",
        "version": 3
      },
      "file_extension": ".py",
      "mimetype": "text/x-python",
      "name": "python",
      "nbconvert_exporter": "python",
      "pygments_lexer": "ipython3",
      "version": "3.8"
    }
  },
  "nbformat_minor": 5,
  "nbformat": 4,
  "cells": [
    {
      "id": "a18f543d",
      "cell_type": "markdown",
      "source": "# Jupyter-Notebook\nHier kannst du sofort loslegen. Klicke in das Eingabefeld unten und drücke dort die Tastenkombination \"Shift\" + \"Enter\", um das Beispielprogramm zu starten.",
      "metadata": {}
    },
    {
      "id": "unsigned-content",
      "cell_type": "code",
      "source": "text=\"❤\"\nleertext=\" \"\nfor i in range(3,0,-1):\n  print(leertext*(2*i)+text*((5-i)*4)+leertext*(4*i)+text*((5-i)*4))\nprint(\"  \" +text*4 + \" I N F - \" + text*8 + \" S C H U L E \" + text *2)\nfor i in range(9):\n  print(leertext*(2*i+3)+text*((9-i)*4-2))",
      "metadata": {},
      "outputs": [],
      "execution_count": null
    }
  ]
}