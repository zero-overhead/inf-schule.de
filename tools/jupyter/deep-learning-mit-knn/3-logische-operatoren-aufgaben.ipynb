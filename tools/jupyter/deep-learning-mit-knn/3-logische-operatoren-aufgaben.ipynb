{
  "cells": [
    {
      "cell_type": "markdown",
      "metadata": {},
      "source": [
        "# Logische Operatoren"
      ]
    },
    {
      "cell_type": "markdown",
      "metadata": {},
      "source": [
        "## Perzeptron mit zwei Eingängen"
      ]
    },
    {
      "cell_type": "code",
      "execution_count": null,
      "metadata": {},
      "outputs": [],
      "source": [
        "# Definiere Gewichte und Schwellenwert als globlale Variablen\n",
        "w1 = 2\n",
        "w2 = 0\n",
        "theta = 1"
      ]
    },
    {
      "cell_type": "code",
      "execution_count": null,
      "metadata": {},
      "outputs": [],
      "source": [
        "# Definiere das Prezetron als Funktion\n",
        "def perceptron_output(x1,x2):\n",
        "    if  w1*x1+w2*x2>= theta:\n",
        "        return 1\n",
        "    else:\n",
        "        return 0"
      ]
    },
    {
      "cell_type": "code",
      "execution_count": null,
      "metadata": {},
      "outputs": [],
      "source": [
        "# Teste das Perzeptron\n",
        "perceptron_output(1,0)"
      ]
    },
    {
      "cell_type": "markdown",
      "metadata": {},
      "source": [
        "## Heatmap\n",
        "Eine Heatmap ist ein Diagrammm, um das Perzeptron zu visualisieren."
      ]
    },
    {
      "cell_type": "code",
      "execution_count": null,
      "metadata": {},
      "outputs": [],
      "source": [
        "# Lege fest, ob das Notebook in der lite-Version asugeführt wird\n",
        "# (Bei lokaler Ausführung müssen einige Zeilen geringfügig angepasst werden)\n",
        "run_in_lite_version = True"
      ]
    },
    {
      "cell_type": "code",
      "execution_count": null,
      "metadata": {},
      "outputs": [],
      "source": [
        "if run_in_lite_version:\n",
        "    # Installiere benötigte Pakete\n",
        "    %pip install -q plotly\n",
        "    from IPython.display import display, HTML"
      ]
    },
    {
      "cell_type": "code",
      "execution_count": null,
      "metadata": {},
      "outputs": [],
      "source": [
        "import pandas as pd\n",
        "import plotly.express as px\n",
        "\n",
        "def plot_heatmap(x_min=0, x_max=1, y_min=0, y_max=1,resolution = 50):\n",
        "    delta_x = x_max-x_min\n",
        "    delta_y = y_max-y_min\n",
        "\n",
        "    heatmap = pd.DataFrame(index = [y_min+i*delta_y/resolution \\\n",
        "                                    for i in reversed(range(resolution+1))])\n",
        "\n",
        "    for x in [x_min+i*delta_x/resolution for i in range(resolution+1)]:\n",
        "        heatmap[x] = [perceptron_output(x,y_min+i*delta_y/resolution) \\\n",
        "                      for i in reversed(range(resolution+1))]\n",
        "    \n",
        "    #display(heatmap)\n",
        "    fig = px.imshow(heatmap, text_auto=False, color_continuous_scale=\"RdBu_r\", \\\n",
        "                    height=300, width=300,\\\n",
        "                    origin='lower',zmin=0,zmax=1,\\\n",
        "                    labels=dict(x=\"x1\", y=\"x2\", color=\"output\"))\n",
        "\n",
        "    if run_in_lite_version:\n",
        "        display(HTML(fig.to_html())) # jupyter lite\n",
        "    else:\n",
        "        fig.show() # jupyter notebook lokal"
      ]
    },
    {
      "cell_type": "code",
      "execution_count": null,
      "metadata": {},
      "outputs": [],
      "source": [
        "plot_heatmap()"
      ]
    },
    {
      "cell_type": "markdown",
      "metadata": {},
      "source": []
    },
    {
      "cell_type": "markdown",
      "metadata": {},
      "source": [
        "<div style=\"padding: 5px; border: 5px solid #0077b6;\">\n",
        "\n",
        "### Aufgabe 1 (Heatmap)\n",
        "Erläutere, was die Funktion `plot_heatmap` macht. Was ist die Bedeutung der Parameter `x_min`, `x_max`, `y_min`, `y_max` und `resolution`? Wie ist eine Heatmap zu interpretieren?"
      ]
    },
    {
      "cell_type": "markdown",
      "metadata": {},
      "source": [
        "Ergebnisse bitte hierher"
      ]
    },
    {
      "cell_type": "markdown",
      "metadata": {},
      "source": [
        "## Wahrheitstafel"
      ]
    },
    {
      "cell_type": "code",
      "execution_count": null,
      "metadata": {},
      "outputs": [],
      "source": [
        "def print_table():\n",
        "    print( \"x1 | x2 | output\")\n",
        "    print(\"-----------------\")\n",
        "    for i,j in [(0,0),(0,1),(1,0),(1,1)]:\n",
        "        print( i, \" |\", j, \" |  \", perceptron_output(i,j) )"
      ]
    },
    {
      "cell_type": "code",
      "execution_count": null,
      "metadata": {},
      "outputs": [],
      "source": [
        "print_table()"
      ]
    },
    {
      "cell_type": "markdown",
      "metadata": {},
      "source": [
        "# AND-Perzeptron"
      ]
    },
    {
      "cell_type": "code",
      "execution_count": null,
      "metadata": {},
      "outputs": [],
      "source": [
        "w1 = 2/3\n",
        "w2 = 2/3\n",
        "theta = 1"
      ]
    },
    {
      "cell_type": "code",
      "execution_count": null,
      "metadata": {},
      "outputs": [],
      "source": [
        "print_table()   \n",
        "plot_heatmap()"
      ]
    },
    {
      "cell_type": "markdown",
      "metadata": {},
      "source": [
        "# NAND-Perzeptron"
      ]
    },
    {
      "cell_type": "markdown",
      "metadata": {},
      "source": [
        "<div style=\"padding: 5px; border: 5px solid #0077b6;\">\n",
        "\n",
        "### Aufgabe 2 \n",
        "Erstelle nach obigen Beispiel ein NAND-Perzeptron."
      ]
    },
    {
      "cell_type": "code",
      "execution_count": null,
      "metadata": {},
      "outputs": [],
      "source": [
        "# Lösung bitte hierher"
      ]
    },
    {
      "cell_type": "markdown",
      "metadata": {},
      "source": [
        "# OR-Perzeptron"
      ]
    },
    {
      "cell_type": "markdown",
      "metadata": {},
      "source": [
        "<div style=\"padding: 5px; border: 5px solid #0077b6;\">\n",
        "\n",
        "### Aufgabe 3 \n",
        "Erstelle nach obigen Beispiel ein OR-Perzeptron."
      ]
    },
    {
      "cell_type": "code",
      "execution_count": null,
      "metadata": {},
      "outputs": [],
      "source": [
        "# Lösung bitte hierher"
      ]
    },
    {
      "cell_type": "markdown",
      "metadata": {},
      "source": [
        "# NOR-Perzeptron"
      ]
    },
    {
      "cell_type": "markdown",
      "metadata": {},
      "source": [
        "<div style=\"padding: 5px; border: 5px solid #0077b6;\">\n",
        "\n",
        "### Aufgabe 4 \n",
        "Erstelle nach obigen Beispiel ein NOR-Perzeptron."
      ]
    },
    {
      "cell_type": "code",
      "execution_count": null,
      "metadata": {},
      "outputs": [],
      "source": [
        "# Lösung bitte hierher"
      ]
    }
  ],
  "metadata": {
    "kernelspec": {
      "display_name": "Python 3",
      "language": "python",
      "name": "python3"
    },
    "language_info": {
      "codemirror_mode": {
        "name": "ipython",
        "version": 3
      },
      "file_extension": ".py",
      "mimetype": "text/x-python",
      "name": "python",
      "nbconvert_exporter": "python",
      "pygments_lexer": "ipython3",
      "version": "3.11.9"
    }
  },
  "nbformat": 4,
  "nbformat_minor": 2
}