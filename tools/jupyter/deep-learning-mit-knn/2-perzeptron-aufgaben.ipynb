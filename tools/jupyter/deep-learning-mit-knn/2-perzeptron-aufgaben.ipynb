{
  "cells": [
    {
      "cell_type": "markdown",
      "metadata": {},
      "source": [
        "# Perzeptron als Python-Funktion\n",
        "Zunächst definieren wir ein Perzeptron mit Gewichten $w_1=1, w_2=0.5$ und dem Schwellenwert $\\Theta = 2$ als Python-Funktion. Diese Funktion wird dann in den weiteren Aufgaben benötigt."
      ]
    },
    {
      "cell_type": "code",
      "execution_count": 2,
      "metadata": {},
      "outputs": [],
      "source": [
        "# Definiere Gewichte und Schwellenwert als globale Variablen\n",
        "w1 = 1\n",
        "w2 = 0.5\n",
        "theta = 2"
      ]
    },
    {
      "cell_type": "markdown",
      "metadata": {},
      "source": [
        "# Aufgabe 1\n",
        "Ergänze den Rumpf der Funktion für das Perzetron und teste dieses. In dem Funktionsrumpf darf auf die gerade definierten globlen Variablen zugegriffen werden.\n",
        "\n",
        "Anmerkung: Der Zugriff auf globle Variablen ist natürlich eigentlich kein guter Programmierstil, hat aber an dieser Stelle bestimmt Vorteile, die im nächsten Kapitel deutlich werden.\n"
      ]
    },
    {
      "cell_type": "code",
      "execution_count": 3,
      "metadata": {},
      "outputs": [],
      "source": [
        "def perceptron_output(x1,x2):\n",
        "    # Quellcode bitte hier einfügen\n",
        "    pass"
      ]
    },
    {
      "cell_type": "code",
      "execution_count": null,
      "metadata": {},
      "outputs": [],
      "source": [
        "# Aufruf der Funktion zum Testen\n",
        "perceptron_output( 23,42 )"
      ]
    },
    {
      "cell_type": "markdown",
      "metadata": {},
      "source": [
        "# Aufgabe 2:\n",
        "Klassifiziere die folgenden Tiere (a,b,c,d) mit dem oben definierten Perzeptron ($w_1= 1, w_2=0,5, \\Theta=2$) nach ihrer Gefährlichkeit. Die Eingabewerte der Tiere werden jeweils in Tupelform $(x_1, x_2)$\n",
        "geschrieben:\n",
        "> a = (3,0)  \n",
        "> b = (0,3)     \n",
        "> c = (0.5,2)       \n",
        "> c = (2,0.5)\n"
      ]
    },
    {
      "cell_type": "code",
      "execution_count": 1,
      "metadata": {},
      "outputs": [],
      "source": [
        "# Lösung bitte hierher"
      ]
    },
    {
      "cell_type": "markdown",
      "metadata": {},
      "source": [
        "<img src=\"aufgabe_klassifikation_tiere_anhand_diagramm.png\" width=\"40%\" style=\"float:right\">\n",
        "\n",
        "\n",
        "\n",
        "# Aufgabe 3:\n",
        "Die Punkte A, B, C, D, E, F sollen Tiere symbolisieren, die nach ihrer Gefährlichkeit klassifiziert werden sollen.  \n",
        "\n",
        "Klassifiziere die Tiere mit dem oben definierten Perzeptron ($w_1= 1, w_2=0,5, \\Theta=2$) nach ihrer Gefährlichkeit. Gib jeweils drei weitere Beispiele für gefährliche Tiere und für ungefährliche Tiere an.\n",
        "\n",
        "Verwende für diese Aufgabe Python. Die Ausgabe könnte z.B. wie folgt aussehen:\n",
        "\n",
        "Tier [1 1] ist ungefährlich  \n",
        "Tier [1.5 0.5] ist ..."
      ]
    },
    {
      "cell_type": "code",
      "execution_count": 1,
      "metadata": {},
      "outputs": [],
      "source": [
        "# Lösung bitte hier einfügen"
      ]
    },
    {
      "cell_type": "markdown",
      "metadata": {},
      "source": [
        "<img src=\"aufgabe_klassifikation_tiere_anhand_diagramm.png\" width=\"40%\" style=\"float:right\">\n",
        "\n",
        "# Aufgabe 4:\n",
        "Klassifiziere die Tiere aus Aufgabe 3 und stelle die Ergebnisse graphisch in der Zahlenebene dar, indem du die Punkte entsprechend einfärbst. \n",
        "\n",
        "Rot: gefährliche Tiere  \n",
        "Grün: ungefährliche Tiere\n",
        "\n",
        "Tipps: \n",
        "\n",
        "- Verwende die Python-Bibliotheken Numpy und Matplotlib\n",
        "- Verwende die Klasse matlibplot.plt.scatter. Recherchiere dazu im Internt, wie genau diese Klasse verwendet wird."
      ]
    },
    {
      "cell_type": "markdown",
      "metadata": {},
      "source": [
        "**Tipp:** Du kannst die Aufgabe lösen, indem du das folgende Programm-Fragment entspechend anpasst/erweiterst. Erstelle damit ein ansprechendes Diagramm, passe die Achsenbeschriftungen an und füge auch noch einen aussagekräftigen Diagramm-Titel hinzu. Die Funktion matplotlib.pyplot hat recht viele mögliche Parameter. [Hier](https://matplotlib.org/3.5.3/api/_as_gen/matplotlib.pyplot.html) kannst du eine Dokumentation der Funktion finden.¶"
      ]
    },
    {
      "cell_type": "code",
      "execution_count": 31,
      "metadata": {},
      "outputs": [
        {
          "data": {
            "image/png": "[encoded data removed]",
            "text/plain": [
              "<Figure size 300x300 with 1 Axes>"
            ]
          },
          "metadata": {},
          "output_type": "display_data"
        }
      ],
      "source": [
        "import matplotlib.pyplot as plt\n",
        "plt.figure(figsize=(3,3)) # Größe des Diagramms festlegen\n",
        "plt.scatter(1,2, s=300, color='blue') # Einen Punkt zeichnen\n",
        "plt.xlabel('x-Achse'); plt.ylabel('y-Achse') # Label für die Koordinatenachsen\n",
        "plt.axis([0, 5, 0, 5]) # Achsen-Bereiche festlegen; Syntax: plt.axis([xmin, xmax, ymin, ymax])\n",
        "plt.grid(True)         # Diagramm-Gitter einblenden\n",
        "plt.show()             # Diagramm anzeigen"
      ]
    },
    {
      "cell_type": "code",
      "execution_count": 32,
      "metadata": {},
      "outputs": [],
      "source": [
        "# Lösung bitte hier einfügen"
      ]
    }
  ],
  "metadata": {
    "kernelspec": {
      "display_name": "Python 3 (ipykernel)",
      "language": "python",
      "name": "python3"
    },
    "language_info": {
      "codemirror_mode": {
        "name": "ipython",
        "version": 3
      },
      "file_extension": ".py",
      "mimetype": "text/x-python",
      "name": "python",
      "nbconvert_exporter": "python",
      "pygments_lexer": "ipython3",
      "version": "3.12.2"
    }
  },
  "nbformat": 4,
  "nbformat_minor": 2
}