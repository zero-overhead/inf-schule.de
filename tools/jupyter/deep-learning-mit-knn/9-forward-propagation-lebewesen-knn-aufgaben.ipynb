{
  "cells": [
    {
      "cell_type": "markdown",
      "metadata": {},
      "source": [
        "# Forward-Propagation mit Matrizen\n",
        "Wir betrachten wieder das folgende KNN, für das wir weiter oben bereits mit Papier und Bleistift die Aktivierungen am Ausgang für die drei Lebewewesen *Wolf*, *Elefant* und *Großmutter* berechnet hatten. \n",
        "\n",
        "In diesem Notebook sollen diese Aktivierungen jetzt mit Hilfe von Matrix-Vektor-Multiplikationen berechnet werden. Dazu wird die Python Bilbliothek `numpy` verwedet."
      ]
    },
    {
      "cell_type": "markdown",
      "metadata": {},
      "source": [
        "<div style=\"background-color: white; padding: 10px;\">\n",
        "\n",
        "![KNN](knn-4-3-2-Lebewesen.png)"
      ]
    },
    {
      "cell_type": "markdown",
      "metadata": {},
      "source": [
        "## Importieren der benötigten Bibliotheken"
      ]
    },
    {
      "cell_type": "code",
      "execution_count": null,
      "metadata": {},
      "outputs": [],
      "source": [
        "import numpy as np\n",
        "from scipy.special import expit as sigmoid"
      ]
    },
    {
      "cell_type": "markdown",
      "metadata": {},
      "source": [
        "## Matrix-Vektor-Multiplikation\n",
        "Zunächst schauen wir uns in einem einfachen Beispiel an, wie mit `numpy` Matrizen und Vektoren definiert werden können und wie das Matrix-Vektor-Produkt berechnet wird."
      ]
    },
    {
      "cell_type": "code",
      "execution_count": null,
      "metadata": {},
      "outputs": [],
      "source": [
        "# Definiere eine (2x3)-Matrix\n",
        "A = np.array([[1,2,3],[4,5,6]])\n",
        "A"
      ]
    },
    {
      "cell_type": "code",
      "execution_count": null,
      "metadata": {},
      "outputs": [],
      "source": [
        "# Definiere einen 3-dimensionalen stehenenden Vektor\n",
        "# (also eine (3x1)-Matrix)\n",
        "v = np.array([[1],[2],[3]])\n",
        "v"
      ]
    },
    {
      "cell_type": "code",
      "execution_count": null,
      "metadata": {},
      "outputs": [],
      "source": [
        "# Berechen das Matrix-Vektorprodukt\n",
        "np.dot(A,v)"
      ]
    },
    {
      "cell_type": "markdown",
      "metadata": {},
      "source": [
        "<div style=\"padding: 5px; border: 5px solid #0077b6;\">\n",
        "\n",
        "### Aufgabe:\n",
        "Rechne mit Papier und Bleistift nach, dass das von Python berechnete Matrix-Vektorprodukt korrekt ist."
      ]
    },
    {
      "cell_type": "markdown",
      "metadata": {},
      "source": [
        "## Definition der Klasse für das KNN"
      ]
    },
    {
      "cell_type": "markdown",
      "metadata": {},
      "source": [
        "<div style=\"padding: 5px; border: 5px solid #0077b6;\">\n",
        "\n",
        "### Aufgabe:\n",
        "In der folgenden Klassendefinition des KNN sind zunächst noch alle Gewichte und Biases auf den Wert 0 gesetzt. Lasse zunächst einmal das Notebook komplett laufen und schaue einmal, welche Ausgangsaktivierung sich für diesen Fall ergibt.\n",
        "\n",
        "Ändere danach die Gewichte und die Biases so ab, dass sie das obige KNN repräsentieren."
      ]
    },
    {
      "cell_type": "code",
      "execution_count": null,
      "metadata": {},
      "outputs": [],
      "source": [
        "# Klassendefinition des Neuronalen Netzes\n",
        "class neuralNetwork:\n",
        "        \n",
        "    # Initialisierung des Neuronalen Netzes\n",
        "    def __init__(self, inputnodes, hiddennodes, outputnodes):\n",
        "           # Anzahl der Knoten in den Eingabe-, Hidden- und Ausgabeschichten\n",
        "            self.inodes = inputnodes\n",
        "            self.hnodes = hiddennodes\n",
        "            self.onodes = outputnodes\n",
        "            \n",
        "            # Gewichtsmatrizen für die Verbindungen zwischen den Schichten\n",
        "            # wih: weights input-hidden\n",
        "            # who: weights hidden-output\n",
        "\n",
        "            #### Hier müssen die Einträge der Gewichtsmatrizen abgeändert werden ####\n",
        "            self.wih = np.array( [[ 0, 0, 0, 0],\n",
        "                                  [ 0, 0, 0, 0],\n",
        "                                  [ 0, 0, 0, 0]] )\n",
        "            self.who = np.array( [[ 0, 0, 0 ],\n",
        "                                  [ 0, 0, 0 ]])\n",
        "\n",
        "            # Bias-Werte für die Hidden- und Ausgabeschicht          \n",
        "\n",
        "            #### Hier müssen die Einträger der Bias-Vektoren abgeändert werden ####\n",
        "            self.bias_h = np.array( [[ 0], [0], [ 0]] )\n",
        "            self.bias_o = np.array( [[ 0], [0]] )\n",
        "\n",
        "            # Aktivierungsfunktion\n",
        "            self.activation_function = sigmoid\n",
        "            \n",
        "            pass      \n",
        "       \n",
        "    # Ausgabefunktion für die Gewichtsmatirzen und die Bias-Werte\n",
        "    def print(self):\n",
        "        print(\"Gewichtsmatrix input-hidden:\")\n",
        "        print(self.wih)\n",
        "        print(\"Bias hidden:\")\n",
        "        print(self.bias_h)\n",
        "        print(\"Gewichtsmatrix hidden-output:\")\n",
        "        print(self.who)\n",
        "        print(\"Bias output:\")\n",
        "        print(self.bias_o)\n",
        "        pass\n",
        "\n",
        "    # Abfrage der Ausgabe des Neuronalen Netzes\n",
        "    def knn_output(self, inputs_list):\n",
        "        # Umwandlung der Eingabeliste in ein 2D Array\n",
        "        inputs = np.array(inputs_list, ndmin=2).T\n",
        "        \n",
        "        # Berechnung der Eingaben und Ausgaben für die Hidden-Schicht\n",
        "        hidden_inputs  = np.dot(self.wih, inputs) + self.bias_h\n",
        "        hidden_outputs = self.activation_function(hidden_inputs)\n",
        "\n",
        "        # Berechnung der Eingaben und Ausgaben für die Ausgabe-Schicht\n",
        "        final_inputs  = np.dot(self.who, hidden_outputs) + self.bias_o\n",
        "        final_outputs = self.activation_function(final_inputs)\n",
        "\n",
        "        return final_outputs"
      ]
    },
    {
      "cell_type": "markdown",
      "metadata": {},
      "source": [
        "## Erzeugen des KNN und Forward-Propagation"
      ]
    },
    {
      "cell_type": "code",
      "execution_count": null,
      "metadata": {},
      "outputs": [],
      "source": [
        "# Erzeugen des KNN\n",
        "knn = neuralNetwork(4,3,2)"
      ]
    },
    {
      "cell_type": "code",
      "execution_count": null,
      "metadata": {},
      "outputs": [],
      "source": [
        "# Überprüfen, ob die Gewichtsmatrizen und Bias-Werte korrekt korrekt eingegebnen worden sind\n",
        "knn.print()"
      ]
    },
    {
      "cell_type": "code",
      "execution_count": null,
      "metadata": {},
      "outputs": [],
      "source": [
        "# Definition der Lebewesen\n",
        "a_1 = [8,2,3,10]     # Wolf\n",
        "a_2 = [150,1,40,120] # Elefant\n",
        "a_3 = [4,3,25,7]     # Großmutter"
      ]
    },
    {
      "cell_type": "code",
      "execution_count": null,
      "metadata": {},
      "outputs": [],
      "source": [
        "# Ausgabe der Ausgangsaktivierungen des KNN für die Lebewesen\n",
        "print(\"----------------------------\")\n",
        "print(\"Lebewesen:\", a_1)\n",
        "print(\"Aktivierung am Ausgang:\")\n",
        "print( np.round(knn.knn_output(a_1),2 ))\n",
        "print(\"----------------------------\")\n",
        "print(\"Lebewesen:\", a_2)\n",
        "print(\"Aktivierung am Ausgang:\")\n",
        "print( np.round(knn.knn_output(a_2),2 ))\n",
        "print(\"----------------------------\")\n",
        "print(\"Lebewesen:\", a_3)\n",
        "print(\"Aktivierung am Ausgang:\")\n",
        "print( np.round(knn.knn_output(a_3),2 ))\n",
        "print(\"----------------------------\")"
      ]
    },
    {
      "cell_type": "code",
      "execution_count": null,
      "metadata": {},
      "outputs": [],
      "source": []
    }
  ],
  "metadata": {
    "kernelspec": {
      "display_name": "Python 3",
      "language": "python",
      "name": "python3"
    },
    "language_info": {
      "codemirror_mode": {
        "name": "ipython",
        "version": 3
      },
      "file_extension": ".py",
      "mimetype": "text/x-python",
      "name": "python",
      "nbconvert_exporter": "python",
      "pygments_lexer": "ipython3",
      "version": "3.11.8"
    }
  },
  "nbformat": 4,
  "nbformat_minor": 2
}