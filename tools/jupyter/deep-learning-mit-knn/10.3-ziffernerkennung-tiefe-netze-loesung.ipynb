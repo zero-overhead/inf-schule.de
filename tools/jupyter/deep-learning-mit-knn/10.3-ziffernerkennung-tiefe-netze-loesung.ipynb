{
  "cells": [
    {
      "cell_type": "markdown",
      "metadata": {},
      "source": [
        "# Deep-Learning: Ziffernerkennung mit KNN (Tiefe Netze)\n",
        "Nachdem wir im letzten Kapitel lediglich einziges Hidden Layer verwendet haben, erweitern wir dies nun auf sogenannte tiefe Netze, welche beliebig viele Hidden Layer enthalten können. Dieses Notebook ist sehr ähnlich zu dem aus dem letzten Kapitel, aber du kannst hier nun solche **tiefe Netze mit beliebig vielen Hidden Layern** erzeugen."
      ]
    },
    {
      "cell_type": "code",
      "execution_count": 1,
      "metadata": {},
      "outputs": [],
      "source": [
        "# Die notwendigen Bibliotheken werden geladen\n",
        "import numpy as np\n",
        "from scipy.special import expit as sigmoid\n",
        "from matplotlib.pyplot import imshow\n",
        "import matplotlib.pyplot as plt"
      ]
    },
    {
      "cell_type": "markdown",
      "metadata": {},
      "source": [
        "## Kantengewichte zufällig erzeugen"
      ]
    },
    {
      "cell_type": "markdown",
      "metadata": {},
      "source": [
        "<div style=\"padding: 5px; border: 5px solid #0077b6;\">\n",
        "\n",
        "### Aufgabe 1\n",
        "\n",
        "Finde heraus, was der untenstehende Befehl tut. Du kannst dafür mit den 3 Eingabewerten etwas herum experimentieren. Halte deine Beobachtungen schriftlich fest."
      ]
    },
    {
      "cell_type": "code",
      "execution_count": 2,
      "metadata": {},
      "outputs": [
        {
          "data": {
            "text/plain": [
              "array([[ 0.10711969,  0.22556148, -0.05877255],\n",
              "       [-0.05093554, -0.03850708,  0.011028  ]])"
            ]
          },
          "execution_count": 2,
          "metadata": {},
          "output_type": "execute_result"
        }
      ],
      "source": [
        "np.random.normal(0.0, 0.1, (2, 3))"
      ]
    },
    {
      "cell_type": "markdown",
      "metadata": {},
      "source": [
        "Beobachtungen bitte hierher"
      ]
    },
    {
      "cell_type": "markdown",
      "metadata": {},
      "source": [
        "#### Lösung\n",
        "Es wird eine (2x3)-Matrix erzeugt. Die Einträge der Matrix werden mit normalverteilten Zufallswerten mit Mittelwert 0 und Standardabweichung 0.1 belegt.\n"
      ]
    },
    {
      "cell_type": "markdown",
      "metadata": {},
      "source": [
        "## KNN als Klasse definieren\n",
        "Zunächst definieren wir eine Python-Klasse für unser künstliches neuronales Netz. Die Funktionen `__init__` und `knn_output` kannst du sicherlich schon im Detail verstehen.\n",
        "\n",
        "Die Funktion `train` wird zum Trainieren des KNN mittels Gradientenabstiegsverfahren verwendet. Die genaue Formulierung des Gradientenabstiegsverfahrens mit einer beliebigen Anzahl an Hidden-Layer-Neuronen ist etwas technischer und wird erst im nächsten Kapitel ausführlicher behandelt. Im Prinzip ist es aber genau dasselbe wie der weiter oben betrachtete Gradientenabstieg beim Beispiel mit den ungefährlichen und gefährlichen Tieren, nur halt mit sehr vielen Neuronen gleichzeitig."
      ]
    },
    {
      "cell_type": "markdown",
      "metadata": {},
      "source": [
        "<div style=\"padding: 5px; border: 5px solid #0077b6;\">\n",
        "\n",
        "### Aufgabe 2\n",
        "\n",
        "Beschreibe, was die beiden Funktionen `__init__` und `knn_output` tun. Liste auf, welche Parameter sie erhalten und was sie zurückgeben."
      ]
    },
    {
      "cell_type": "markdown",
      "metadata": {},
      "source": [
        "Ergebnisse bitte hierher"
      ]
    },
    {
      "cell_type": "markdown",
      "metadata": {},
      "source": [
        "#### Lösung\n",
        "**\\_\\_init\\_\\_:** Konstruktor\n",
        "\n",
        "- sizes: Die Größe der Input-, der versteckten und der Output-Schichten als Liste. Die Länge len(sizes) gibt die Anzahl der Schichten an.\n",
        "- sizes[0] muss gleich 784 sein, nämlich die Anzahl der künstlichen Neuronen in der Input-Schicht, hier $28\\cdot 28 = 784$\n",
        "- sizes[-1] muss gleich 10 sein, nämlich die Anzahl an Neuronen am Ausgang, hier 10 (Ziffern 0 bis 9)\n",
        "- learningrate: Die Lernrates für den Gradientenabstieg\n",
        "- self.weights Liste von Propagationsmatrizen zwischen den einzelnen Layern\n",
        "- self biases: Liste von Bias-Vektoren der einzelnen Layers\n",
        "\n",
        "**knn_output:** Berechnung der Aktivierung am Ausgang durch Forward-Propagation\n",
        "- inputs_list: Das Bild am Eingang als 784 reelle Zahlenwerte (28x28 Pixel-Graustufenbild)\n",
        "- Die Funktion knn_output berechnet die Ausgangsaktivierung sukzessive durch Matrix-Vektormultiplikation mit anschließender komponentenweiser Anwendung der Aktivierungsfunktion.\n"
      ]
    },
    {
      "cell_type": "code",
      "execution_count": 3,
      "metadata": {},
      "outputs": [],
      "source": [
        "# Klassendefinition des Neuronalen Netzes\n",
        "class neuralNetwork:\n",
        "    # Initialisierung des Neuronalen Netzes\n",
        "    def __init__(self, sizes, learningrate):\n",
        " \n",
        "        # Gewichtsmatrizen udn Biasvektoren initialisieren\n",
        "        self.weights = [np.random.normal(0.0, pow(x, -0.5), (y, x)) for x, y in zip(sizes[:-1], sizes[1:])]\n",
        "        self.biases  = [np.random.normal(0.0, pow(y,-0.5 ), (y, 1)) for y in sizes[1:]]\n",
        " \n",
        "        # Lernrate\n",
        "        self.lr = learningrate\n",
        " \n",
        "        # Definition der Aktivierungsfunktion (hier als Sigmoid-Funktion)\n",
        "        self.activation_function = lambda x: sigmoid(x)\n",
        " \n",
        "        pass\n",
        "\n",
        "    # Output des Künstlichen Neuronalen Netzes\n",
        "    # NB: alle arrays sind stehende Vektoren!\n",
        "    def knn_output(self, inputs_list):\n",
        "        \n",
        "        # Inputs in Array konvertieren \n",
        "        activation = np.array(inputs_list, ndmin=2).T # stehender Vektor\n",
        "\n",
        "        # Berechnung der Aktivierung der Neuronen\n",
        "        for w,b in zip(self.weights, self.biases):\n",
        "            activation = np.dot(w, activation) + b\n",
        "            activation = self.activation_function(activation)\n",
        "\n",
        "        return activation\n",
        "    \n",
        "\n",
        "    # Gewichte des Neuronalen Netzes aktualisieren\n",
        "    # siehe auch \n",
        "    # https://www.geeksforgeeks.org/backpropagation-in-machine-learning/\n",
        "    def train(self, inputs_list, targets_list):\n",
        "\n",
        "        # Inputs in 2-dimensionales Array konvertieren (Inputwerte und Zielwerte)\n",
        "        inputs  = np.array(inputs_list, ndmin=2).T   # stehender Vektor\n",
        "        targets = np.array(targets_list, ndmin=2).T # stehender Vektor\n",
        "        \n",
        "        activation = inputs\n",
        "        activations = [inputs]\n",
        "        zs=[]\n",
        "\n",
        "        # Feedforward, abspeichern aller zs und activations, layer by layer\n",
        "        for w,b in zip(self.weights, self.biases):\n",
        "            z = np.dot(w, activation) + b\n",
        "            zs.append(z)\n",
        "            activation = self.activation_function(z)\n",
        "            activations.append(activation)\n",
        "\n",
        "        # Berechnung Fehler und Delta, zunächst Outputlayer\n",
        "        errors = []\n",
        "        deltas = []\n",
        "        errors.insert(0, activations[-1]-targets )\n",
        "        deltas.insert(0, errors[0] * activations[-1] * (1.0 - activations[-1]))\n",
        "\n",
        "        # Berechnung der Fehler in den versteckten Schichten (Backpropagation)\n",
        "        for i in range( 1, len(self.weights) ):\n",
        "            #errors.insert(0, np.dot(self.weights[-i].T, errors[0]) ) #Version Yannik(?!)\n",
        "            errors.insert(0, np.dot(self.weights[-i].T, deltas[0]) ) # Version Ulla\n",
        "            deltas.insert(0, errors[0] * activations[-i-1] * (1.0 - activations[-i-1]))\n",
        "\n",
        "        # Update der Kantengewichte mit Hilfe der Ableitung \n",
        "        # NB: activations[-3].T ist liegender Vektor!\n",
        "        # activations[-2].T ist liegender Vektor!\n",
        "        # NB: Hadamard-Produkte von stehenden Vektoren, Ergebnis ist ein stehender Vektor:\n",
        "        #     (errors[-1] * activations[-1] * (1.0 - activations[-1])\n",
        "        # NB: stehender mal liegender Vektor, Ergebnis ist Matrix:\n",
        "        #    np.dot((errors[-1] * activations[-1] * (1.0 - activations[-1])), activations[-2].T)\n",
        "        for i in range(1, len(self.weights)+1):\n",
        "            self.weights[-i] -= self.lr * np.dot( deltas[-i], activations[-i-1].T )\n",
        "            self.biases[-i]  -= self.lr * deltas[-i]\n",
        "\n",
        "        pass\n",
        "\n",
        "    \n",
        "    "
      ]
    },
    {
      "cell_type": "markdown",
      "metadata": {},
      "source": [
        "## Festlegen der Parameter und Erstellen des KNN"
      ]
    },
    {
      "cell_type": "code",
      "execution_count": null,
      "metadata": {},
      "outputs": [],
      "source": [
        "# Anzahl der Neuronen in den einzelnen Schichten\n",
        "# 28x28 = 784 Pixel-Bild als Input\n",
        "#         100 künstl. Neuronen im ersten Hidden Layer\n",
        "#          50 künstl. Neuronen im ersten Hidden Layer\n",
        "#          10 Ziffern (0-9) als Output\n",
        "sizes = [784,100,50,10]\n",
        "\n",
        "#Lernrate\n",
        "learning_rate = 0.1\n",
        "\n",
        "# Neuronales Netz erstellen\n",
        "knn = neuralNetwork(sizes, learning_rate)"
      ]
    },
    {
      "cell_type": "markdown",
      "metadata": {},
      "source": [
        "## Trainingsdaten einlesen"
      ]
    },
    {
      "cell_type": "code",
      "execution_count": 5,
      "metadata": {},
      "outputs": [],
      "source": [
        "# Einlesen der Trainingsdaten\n",
        "training_data_file = open(\"mnist_dataset/mnist_train_1000.csv\", 'r')\n",
        "training_data_lines = training_data_file.readlines()\n",
        "training_data_file.close()"
      ]
    },
    {
      "cell_type": "markdown",
      "metadata": {},
      "source": [
        "## Funktionen zum Plotten der Bilder"
      ]
    },
    {
      "cell_type": "code",
      "execution_count": 6,
      "metadata": {},
      "outputs": [],
      "source": [
        "# data_line ist eine Zeile aus dem Datensatz,\n",
        "# also ein String der Länge 1+28x28 = 1+784 = 785\n",
        "def plot(data_line):\n",
        "    pic_values = data_line.split(',')\n",
        "    image= np.asarray(pic_values[1:], dtype=float).reshape((28,28))\n",
        "    fig, axes = plt.subplots(figsize=(1,1))\n",
        "    axes.matshow(image, cmap=plt.cm.binary)\n",
        "    axes.set_xticks([])\n",
        "    axes.set_yticks([])\n",
        "    plt.show()"
      ]
    },
    {
      "cell_type": "code",
      "execution_count": 7,
      "metadata": {},
      "outputs": [],
      "source": [
        "# data_lines ist eine Liste von Zeilen aus dem Datensatz,\n",
        "# also eine Liste von Strings der Länge 1+28x28 = 1+784 = 785\n",
        "def plot_list(data_lines):\n",
        "    images=[]\n",
        "    for i in range(len(data_lines)):\n",
        "        pics_values = data_lines[i].split(',')\n",
        "        images.append(np.asarray(pics_values[1:], dtype=float).reshape((28,28)))\n",
        "    fig, axes = plt.subplots(nrows=1, ncols=len(images))\n",
        "    for j, ax in enumerate(axes):\n",
        "        ax.matshow(images[j].reshape(28,28), cmap = plt.cm.binary)\n",
        "        ax.set_xticks([])\n",
        "        ax.set_yticks([])\n",
        "    plt.show()"
      ]
    },
    {
      "cell_type": "code",
      "execution_count": 8,
      "metadata": {},
      "outputs": [
        {
          "data": {
            "image/png": "[encoded data removed]",
            "text/plain": [
              "<Figure size 100x100 with 1 Axes>"
            ]
          },
          "metadata": {},
          "output_type": "display_data"
        }
      ],
      "source": [
        "plot(training_data_lines[0])"
      ]
    },
    {
      "cell_type": "code",
      "execution_count": 9,
      "metadata": {},
      "outputs": [
        {
          "data": {
            "image/png": "[encoded data removed]",
            "text/plain": [
              "<Figure size 640x480 with 10 Axes>"
            ]
          },
          "metadata": {},
          "output_type": "display_data"
        }
      ],
      "source": [
        "plot_list(training_data_lines[0:10])"
      ]
    },
    {
      "cell_type": "markdown",
      "metadata": {},
      "source": [
        "## Funktionen zur Vorhersage der Ziffern"
      ]
    },
    {
      "cell_type": "code",
      "execution_count": 10,
      "metadata": {},
      "outputs": [],
      "source": [
        "# Vorhersage für einzelnes Bild\n",
        "def predict( pic):\n",
        "    #Inputdaten vorbereiten\n",
        "    pic_values = pic.split(',')\n",
        "    inputs = (np.asarray(pic_values[1:], dtype=float) / 255.0 * 0.99) \n",
        "\n",
        "    # Auswertung durch Neuronales Netz\n",
        "    outputs = knn.knn_output(inputs)\n",
        "\n",
        "    # Index mit dem höchsten Gewicht in der Ausgangsschicht sagt Ziffer vorher\n",
        "    return np.argmax(outputs)"
      ]
    },
    {
      "cell_type": "code",
      "execution_count": 11,
      "metadata": {},
      "outputs": [],
      "source": [
        "# Vorhersage für Lite von Bildern\n",
        "def predict_list( pics ):\n",
        "    predictions = []\n",
        "    for pic in pics:\n",
        "        #Inputdat   en vorbereiten\n",
        "        pic_values = pic.split(',')\n",
        "        # Inputdaten standardisieren\n",
        "        inputs = (np.asarray(pic_values[1:], dtype=float) / 255.0 * 0.99) + 0.01\n",
        "\n",
        "        # Auswertung durch Neuronales Netz\n",
        "        outputs = knn.knn_output(inputs)\n",
        "\n",
        "        # Index mit dem höchsten Gewicht in der Ausgangsschicht sagt Ziffer vorher\n",
        "        predictions.append(int(np.argmax(outputs)))\n",
        "    return predictions"
      ]
    },
    {
      "cell_type": "code",
      "execution_count": 12,
      "metadata": {},
      "outputs": [
        {
          "data": {
            "image/png": "[encoded data removed]",
            "text/plain": [
              "<Figure size 100x100 with 1 Axes>"
            ]
          },
          "metadata": {},
          "output_type": "display_data"
        },
        {
          "name": "stdout",
          "output_type": "stream",
          "text": [
            "3\n"
          ]
        }
      ],
      "source": [
        "plot(training_data_lines[0])\n",
        "print(predict(training_data_lines[0]))"
      ]
    },
    {
      "cell_type": "code",
      "execution_count": 13,
      "metadata": {},
      "outputs": [
        {
          "data": {
            "image/png": "[encoded data removed]",
            "text/plain": [
              "<Figure size 640x480 with 10 Axes>"
            ]
          },
          "metadata": {},
          "output_type": "display_data"
        },
        {
          "name": "stdout",
          "output_type": "stream",
          "text": [
            "[3, 3, 3, 3, 3, 3, 3, 3, 3, 3]\n"
          ]
        }
      ],
      "source": [
        "plot_list(training_data_lines[0:10])\n",
        "print(predict_list(training_data_lines[0:10]))"
      ]
    },
    {
      "cell_type": "markdown",
      "metadata": {},
      "source": [
        "## Neuronales Netz vor dem Training Testen"
      ]
    },
    {
      "cell_type": "code",
      "execution_count": 14,
      "metadata": {},
      "outputs": [],
      "source": [
        "# Liste falsch klassifizierte Bilder erzeugen\n",
        "def wrong_list(data_list):\n",
        "    wrong_list = []\n",
        "    for i in range(len(data_list)):\n",
        "        prediction = predict(data_list[i])\n",
        "        if prediction != int(data_list[i].split(',')[0]):\n",
        "            wrong_list.append(data_list[i])\n",
        "    return wrong_list"
      ]
    },
    {
      "cell_type": "code",
      "execution_count": 15,
      "metadata": {},
      "outputs": [
        {
          "data": {
            "text/plain": [
              "908"
            ]
          },
          "execution_count": 15,
          "metadata": {},
          "output_type": "execute_result"
        }
      ],
      "source": [
        "wl = wrong_list(training_data_lines)\n",
        "len(wrong_list(training_data_lines))"
      ]
    },
    {
      "cell_type": "code",
      "execution_count": 16,
      "metadata": {},
      "outputs": [
        {
          "data": {
            "image/png": "[encoded data removed]",
            "text/plain": [
              "<Figure size 640x480 with 10 Axes>"
            ]
          },
          "metadata": {},
          "output_type": "display_data"
        },
        {
          "name": "stdout",
          "output_type": "stream",
          "text": [
            "[3, 3, 3, 3, 3, 3, 3, 3, 3, 3]\n",
            "[5, 0, 4, 1, 9, 2, 1, 1, 4, 5]\n"
          ]
        }
      ],
      "source": [
        "plot_list(wl[0:10])\n",
        "print( predict_list(wl[0:10]) )\n",
        "print( [int(wl[i].split(',')[0]) for i in range(len(wl[0:10]))] )"
      ]
    },
    {
      "cell_type": "code",
      "execution_count": 17,
      "metadata": {},
      "outputs": [
        {
          "name": "stdout",
          "output_type": "stream",
          "text": [
            "Falsch klassifiziert: 908\n",
            "Korrekt klassifiziert: 91\n",
            "Anteil korrekt klassifiziert: 9.11 %\n"
          ]
        }
      ],
      "source": [
        "# Liste von falsch klassifizierte Bilder erzeugen\n",
        "wl = wrong_list(training_data_lines)\n",
        "print(\"Falsch klassifiziert:\", len(wl))\n",
        "print(\"Korrekt klassifiziert:\", len(training_data_lines)-len(wl))\n",
        "print(\"Anteil korrekt klassifiziert:\", round((len(training_data_lines)-len(wl))/len(training_data_lines)*100,2), \"%\")"
      ]
    },
    {
      "cell_type": "markdown",
      "metadata": {},
      "source": [
        "<div style=\"padding: 5px; border: 5px solid #0077b6;\">\n",
        "\n",
        "### Aufgabe 3\n",
        "Halte fest, was du beim Testen des KNN feststellst. Erkläre, warum das KNN die beobachtete Erkenntungsrate zeigt.\n"
      ]
    },
    {
      "cell_type": "markdown",
      "metadata": {},
      "source": [
        "Ergebnisse bitte hier notieren."
      ]
    },
    {
      "cell_type": "markdown",
      "metadata": {},
      "source": [
        "#### Lösung\n",
        "Die Vorhersage des KNN ist bisher noch völlig erratisch. Beim erneuten Erzeugen einer neuen Instanz der Klasse neuralNetwork können sich die Vorhersagen ändern.\n",
        "\n",
        "Das KNN \"rät\" also einfach nur zufällig eine Vorhersage. Die Vorhersage für ein einzelnes Bild ist dann mit einer Wahrscheinlichkeit von $10\\%$ korrekt. Der Erwartungswert für die Anzahl an Treffern bei 1000 Vorhersagen beträgt also $1000\\cdot 10\\% = 100$.\n",
        "\n",
        "Der Grund für dieses Verhalten ist, dass wir die Gewichte und Biases mit Zufallswerten initialisiert haben und das KNN bisher auch noch nicht trainiert haben."
      ]
    },
    {
      "cell_type": "markdown",
      "metadata": {},
      "source": [
        "## Das KNN trainieren"
      ]
    },
    {
      "cell_type": "markdown",
      "metadata": {},
      "source": [
        "<div style=\"padding: 5px; border: 5px solid #0077b6;\">\n",
        "\n",
        "### Aufgabe 4\n",
        "Stelle Vermutungen an, warum es in dem folgenden Trainingsprozess sinnvoll ist, die Input-Daten vor der Verarbeitung zu standardisieren."
      ]
    },
    {
      "cell_type": "markdown",
      "metadata": {},
      "source": [
        "Vermutungen bitte hierher"
      ]
    },
    {
      "cell_type": "markdown",
      "metadata": {},
      "source": [
        "#### Lösung:\n",
        "Die Startwerte für die Gewichte und Biases wurden weiter oben mit normalverteilten Zufallswerten mit dem Mittelwert Null initialisiert. Ohne Standardisierung auf den Bereich $[0,1]$ der Input-Daten würden diese nicht zu den initialen Gewichts- und Biaswerten passen. \n",
        "\n",
        "(Anmerkungen: Im Beipiel zu dem gefährlichen/ungefährlichen Tieren weiter oben waren die Input-Daten nicht standardisiert. Das war dort der Grund dafür, dass die Gewichte des Hidden-Layer so klein im Vergleich zu denen des Output-Layers waren. In tatsächlichen Anwendungen wie hier in der Ziffernerkennung möchte man das gerne vermeiden.)\n",
        "\n",
        "Der Grund für die weitere Einschränkung der Inputdaten auf den Bereich $[0.01,0.99]$ besteht darin, dass ansonsten die Gewichte in Laufe des Triningsprozesses immer größer werden würden, da die Werte 0 und 1 lediglich die asymptostischen Grenzwerte der Sigmoid-Funktion sind, aber durch dies niemals angenommen werden können. Im Gegensatz dazu können die Randwerte $0.01$ und $0.99$ durch die Sigmafunktion angenommen werden, wodurch die Konvergenz gegen stabile Werte für die Gewichte möglich wird.\n"
      ]
    },
    {
      "cell_type": "code",
      "execution_count": 36,
      "metadata": {},
      "outputs": [],
      "source": [
        "# Anzahl der Epochen\n",
        "epochs = 5\n",
        "\n",
        "# Schleife über die Epochenanzahl\n",
        "for e in range(epochs):\n",
        "    \n",
        "    # nacheinander alle Einträge des Trainingsdatensatzes durchgehen\n",
        "    for x in training_data_lines:\n",
        "        #Einträge anhand des Komma splitten\n",
        "        pic_values = x.split(',')\n",
        "        \n",
        "        #Inputs standardisieren\n",
        "        inputs = (np.asarray(pic_values[1:], dtype=float) / 255.0 * 0.99) + 0.01\n",
        "        \n",
        "        # Ergebnisvektor erstellen\n",
        "        targets = np.zeros(sizes[-1]) + 0.01\n",
        "        # Nur der richtige Wert wird auf 0.99 gesetzt\n",
        "        targets[int(pic_values[0])] = 0.99\n",
        "        \n",
        "        knn.train(inputs, targets)"
      ]
    },
    {
      "cell_type": "code",
      "execution_count": 37,
      "metadata": {},
      "outputs": [
        {
          "name": "stdout",
          "output_type": "stream",
          "text": [
            "Falsch klassifiziert: 18\n",
            "Korrekt klassifiziert: 981\n",
            "Anteil korrekt klassifiziert: 98.2 %\n"
          ]
        }
      ],
      "source": [
        "# Liste von falsch klassifizierte Bilder erzeugen\n",
        "wl = wrong_list(training_data_lines)\n",
        "print(\"Falsch klassifiziert:\", len(wl))\n",
        "print(\"Korrekt klassifiziert:\", len(training_data_lines)-len(wl))\n",
        "print(\"Anteil korrekt klassifiziert:\", round((len(training_data_lines)-len(wl))/len(training_data_lines)*100,2), \"%\")"
      ]
    },
    {
      "cell_type": "code",
      "execution_count": 38,
      "metadata": {},
      "outputs": [
        {
          "data": {
            "image/png": "[encoded data removed]",
            "text/plain": [
              "<Figure size 640x480 with 18 Axes>"
            ]
          },
          "metadata": {},
          "output_type": "display_data"
        },
        {
          "name": "stdout",
          "output_type": "stream",
          "text": [
            "[0, 9, 5, 7, 5, 1, 5, 1, 0, 4, 2, 2, 0, 7, 7, 7, 0, 2]\n",
            "[9, 5, 1, 1, 3, 5, 8, 2, 6, 9, 5, 3, 6, 9, 9, 2, 9, 3]\n"
          ]
        }
      ],
      "source": [
        "# False klassifizierte Bilder anzeigen\n",
        "plot_list(wl)\n",
        "print( predict_list(wl) )\n",
        "print( [int(wl[i].split(',')[0]) for i in range(len(wl))] )"
      ]
    },
    {
      "cell_type": "code",
      "execution_count": 39,
      "metadata": {},
      "outputs": [
        {
          "data": {
            "image/png": "[encoded data removed]",
            "text/plain": [
              "<Figure size 100x100 with 1 Axes>"
            ]
          },
          "metadata": {},
          "output_type": "display_data"
        },
        {
          "name": "stdout",
          "output_type": "stream",
          "text": [
            "Prediction: 0\n",
            "Classification 9\n"
          ]
        }
      ],
      "source": [
        "# Einzelnes falsch klassifiziertes Bild anzeigen\n",
        "number=0\n",
        "data_lines = training_data_lines\n",
        "plot(wrong_list(data_lines)[number])\n",
        "print(\"Prediction:\", predict(wrong_list(data_lines)[number]))\n",
        "print(\"Classification\", wrong_list(data_lines)[number].split(',')[0])"
      ]
    },
    {
      "cell_type": "code",
      "execution_count": 40,
      "metadata": {},
      "outputs": [
        {
          "data": {
            "image/png": "[encoded data removed]",
            "text/plain": [
              "<Figure size 640x480 with 10 Axes>"
            ]
          },
          "metadata": {},
          "output_type": "display_data"
        },
        {
          "data": {
            "text/plain": [
              "[5, 0, 4, 1, 9, 2, 1, 3, 1, 4]"
            ]
          },
          "execution_count": 40,
          "metadata": {},
          "output_type": "execute_result"
        }
      ],
      "source": [
        "# Vorhersage für Lite von Bildern anzeigen\n",
        "plot_list(training_data_lines[0:10])\n",
        "predict_list(training_data_lines[0:10])"
      ]
    },
    {
      "cell_type": "markdown",
      "metadata": {},
      "source": [
        "<div style=\"padding: 5px; border: 5px solid #0077b6;\">\n",
        "\n",
        "### Aufgabe 5\n",
        "Führe mehrere Trainingsepochen durch und beobachte, wie sich der Anteil an korrekt klassifizierten Bilder ändert. Halte deine Beobachtungen schriftlich fest."
      ]
    },
    {
      "cell_type": "markdown",
      "metadata": {},
      "source": [
        "Ergebnisse bitte hierher"
      ]
    },
    {
      "cell_type": "markdown",
      "metadata": {},
      "source": [
        "#### Lösung\n",
        "\n",
        "Für ein Netz mit 784-50-10 künstlichen Neuronen beispielhaft:\n",
        "\n",
        "Bereits nach einem Training mit 5 Epochen hat sich die vorher erratische Erkennungsrate deutlich erhöht.\n",
        "\n",
        "Weiteres Training erhöht die Erkennungsrate, aber die \"Konvergenzrate\" nimmt immer weiter ab. Als typische Werte für die Anzahl an korrekt erkannten Bilder ergibt sich bei den 1000 Trainingsbildern  in etwa:\n",
        "\n",
        "|Anzahl Epochen|Anzahl korrekt erkannter Bilder|\n",
        "|--------------|-------------------------------|\n",
        "|  5           |    900                        |\n",
        "| 10           |    950                        |\n",
        "| 15           |    960                        |\n",
        "| 20           |    965                        |"
      ]
    },
    {
      "cell_type": "markdown",
      "metadata": {},
      "source": [
        "## Das KNN mit den Testdaten testen\n",
        "Nun wollen wir schauen, ob das fertig trainierte KNN auch mit neuen Bildern zurecht kommt, die es im Laufe des Trainings noch niemals \"gesehen\" hat.\n",
        "\n",
        "Dazu lesen wir zunächst die neuen Test-Daten aus einer Datei ein."
      ]
    },
    {
      "cell_type": "code",
      "execution_count": 41,
      "metadata": {},
      "outputs": [],
      "source": [
        "# Einlesen der Testdaten\n",
        "test_data_file = open(\"mnist_dataset/mnist_test_100.csv\", 'r')\n",
        "test_data_lines = test_data_file.readlines()\n",
        "test_data_file.close()"
      ]
    },
    {
      "cell_type": "code",
      "execution_count": 42,
      "metadata": {},
      "outputs": [],
      "source": [
        "# Liste von korrekt klassifizierte Bilder erzeugen\n",
        "correct_list = []\n",
        "for i in range(len(test_data_lines)):\n",
        "    prediction = predict(test_data_lines[i])\n",
        "    if prediction == int(test_data_lines[i].split(',')[0]):\n",
        "        correct_list.append(test_data_lines[i])"
      ]
    },
    {
      "cell_type": "code",
      "execution_count": 43,
      "metadata": {},
      "outputs": [
        {
          "name": "stdout",
          "output_type": "stream",
          "text": [
            "Anzahl korrekt klassifiziert: 86\n",
            "Anteil korrekt klassifiziert: 86.87 %\n"
          ]
        }
      ],
      "source": [
        "print( \"Anzahl korrekt klassifiziert:\", len(correct_list) )\n",
        "print( \"Anteil korrekt klassifiziert:\", round(len(correct_list)/len(test_data_lines)*100,2) , \"%\" )"
      ]
    },
    {
      "cell_type": "code",
      "execution_count": 44,
      "metadata": {},
      "outputs": [],
      "source": [
        "# Liste falsch klassifizierte Bilder erzeugen\n",
        "wrong_list = []\n",
        "for i in range(len(test_data_lines)):\n",
        "    prediction = predict(test_data_lines[i])\n",
        "    if prediction != int(test_data_lines[i].split(',')[0]):\n",
        "        wrong_list.append(test_data_lines[i])"
      ]
    },
    {
      "cell_type": "code",
      "execution_count": null,
      "metadata": {},
      "outputs": [
        {
          "name": "stdout",
          "output_type": "stream",
          "text": [
            "Anzahl falsch klassifiziert: 13\n"
          ]
        },
        {
          "data": {
            "image/png": "[encoded data removed]",
            "text/plain": [
              "<Figure size 640x480 with 13 Axes>"
            ]
          },
          "metadata": {},
          "output_type": "display_data"
        },
        {
          "data": {
            "text/plain": [
              "[6, 7, 4, 6, 5, 5, 4, 3, 2, 7, 9, 5, 3]"
            ]
          },
          "execution_count": 45,
          "metadata": {},
          "output_type": "execute_result"
        }
      ],
      "source": [
        "print(\"Anzahl falsch klassifiziert:\", len(wrong_list))\n",
        "plot_list(wrong_list)\n",
        "print(predict_list(wrong_list))"
      ]
    },
    {
      "cell_type": "code",
      "execution_count": 46,
      "metadata": {},
      "outputs": [
        {
          "data": {
            "image/png": "[encoded data removed]",
            "text/plain": [
              "<Figure size 640x480 with 10 Axes>"
            ]
          },
          "metadata": {},
          "output_type": "display_data"
        },
        {
          "name": "stdout",
          "output_type": "stream",
          "text": [
            "[7, 2, 1, 0, 4, 1, 4, 9, 6, 9]\n"
          ]
        }
      ],
      "source": [
        "# predictions anzeigen\n",
        "for i in range(1):\n",
        "    plot_list(test_data_lines[i*10:(i+1)*10])\n",
        "    print( predict_list(test_data_lines[i*10:(i+1)*10]))"
      ]
    },
    {
      "cell_type": "markdown",
      "metadata": {},
      "source": [
        "<div style=\"padding: 5px; border: 5px solid #0077b6;\">\n",
        "\n",
        "### Aufgabe 6\n",
        "Teste, wie gut das KNN auf den unbekannten Testdaten abschneidet. Stelle Vermutungen über die Grenzen unseres bisherigen Modells an."
      ]
    },
    {
      "cell_type": "markdown",
      "metadata": {},
      "source": [
        "Ergebnisse bitte hierher"
      ]
    },
    {
      "cell_type": "markdown",
      "metadata": {},
      "source": [
        "#### Lösung:\n",
        "Das KNN erkennt einen recht hohen Anteil an Testdaten. Also liefert das Trainingsverfahren grundsätzlich schon einmal sinnvolle Ergebnisse.\n",
        "\n",
        "Allerdings gibt es auch Fehlklassifizierungen, die sich auch schlecht durch weiteres Training mit den Trainingsdaten beheben lassen. Der Grund hierfür ist die geringe Anzahl an Trainingsdaten. Wir haben zwar mit 1.000 Bildern trainiert und mit 100 unbekannten getestet, was für uns als Menschen vielleicht erst einmal als große Zahlen erscheinen mag. In realen Anwendungen werden allerdings deutlich größere Datensätze verwendet.\n",
        "\n",
        "Der Versuch, auf unserer relativ kleinen Anzahl an Trainingsdaten weiter zu trainieren und/oder die Anzahl an hidden Layern inklusive der Neuronenanzahl massiv zu erhöhen, sorgt nur für so genanntes *overfitting*. Dh. wir schaffen es zwar eventuell, noch einen größeren Anteil an Trainingsdaten korrekt zu erkennen. Aber bei den unbekannten Testdaten wird das Verfahren dadurch nicht notwendigerweise wesentlich besser.\n",
        "\n",
        "Im Folgenden werden wir daher auch noch den kompletten MNIST-Datensatz mit 70.000 Datensätzen betrachten, um das Training zu verbessern."
      ]
    },
    {
      "cell_type": "markdown",
      "metadata": {},
      "source": []
    }
  ],
  "metadata": {
    "kernelspec": {
      "display_name": "lite-venv",
      "language": "python",
      "name": "python3"
    },
    "language_info": {
      "codemirror_mode": {
        "name": "ipython",
        "version": 3
      },
      "file_extension": ".py",
      "mimetype": "text/x-python",
      "name": "python",
      "nbconvert_exporter": "python",
      "pygments_lexer": "ipython3",
      "version": "3.13.2"
    },
    "toc": {
      "base_numbering": 1,
      "nav_menu": {},
      "number_sections": true,
      "sideBar": true,
      "skip_h1_title": false,
      "title_cell": "Table of Contents",
      "title_sidebar": "Contents",
      "toc_cell": false,
      "toc_position": {},
      "toc_section_display": true,
      "toc_window_display": false
    }
  },
  "nbformat": 4,
  "nbformat_minor": 4
}