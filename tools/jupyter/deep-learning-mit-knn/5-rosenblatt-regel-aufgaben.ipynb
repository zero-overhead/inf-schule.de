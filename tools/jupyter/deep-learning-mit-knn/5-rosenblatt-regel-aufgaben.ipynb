{
  "cells": [
    {
      "cell_type": "markdown",
      "metadata": {},
      "source": [
        "# Rosenblatt-Lernregel"
      ]
    },
    {
      "cell_type": "markdown",
      "metadata": {},
      "source": [
        "## Einlesen und Vorbereiten der Daten"
      ]
    },
    {
      "cell_type": "code",
      "execution_count": null,
      "metadata": {},
      "outputs": [],
      "source": [
        "# Lege fest, ob das Notebook in der lite-Version asugeführt wird\n",
        "# (Bei lokaler Ausführung müssen einige Zeilen geringfügig angepasst werden)\n",
        "run_in_lite_version = True"
      ]
    },
    {
      "cell_type": "code",
      "execution_count": null,
      "metadata": {},
      "outputs": [],
      "source": [
        "# nur für jupyter lite notwendig\n",
        "if run_in_lite_version:\n",
        "    %pip install -q plotly \n",
        "    from IPython.display import display, HTML"
      ]
    },
    {
      "cell_type": "code",
      "execution_count": null,
      "metadata": {},
      "outputs": [],
      "source": [
        "# Importiere benötigte Pakete\n",
        "import pandas as pd\n",
        "import plotly.express as px"
      ]
    },
    {
      "cell_type": "code",
      "execution_count": null,
      "metadata": {},
      "outputs": [],
      "source": [
        "# Importiere Daten\n",
        "df_tiere = pd.read_csv('tiere_gefaehrlichkeit.csv', sep=';')\n",
        "df_tiere.head()"
      ]
    },
    {
      "cell_type": "code",
      "execution_count": null,
      "metadata": {},
      "outputs": [],
      "source": [
        "# Visualisiere Daten\n",
        "fig = px.scatter(df_tiere, x=\"Zahngröße\", y=\"Augengröße\",color=\"Gefahr\",height=350, width=400)\n",
        "if run_in_lite_version:\n",
        "    display(HTML(fig.to_html())) # jupyter lite\n",
        "else:\n",
        "    fig.show() # jupyter notebook lokal"
      ]
    },
    {
      "cell_type": "code",
      "execution_count": null,
      "metadata": {},
      "outputs": [],
      "source": [
        "# Erzeuge numerische Daten\n",
        "df_tiere_num = df_tiere.replace(['ungefährlich','gefährlich'],[0,1])\n",
        "df_tiere_num.head()"
      ]
    },
    {
      "cell_type": "markdown",
      "metadata": {},
      "source": [
        "## Perzeptron"
      ]
    },
    {
      "cell_type": "code",
      "execution_count": null,
      "metadata": {},
      "outputs": [],
      "source": [
        "# Definiere Gewichte und Schwellwert als globale Variablen\n",
        "w1 = 1\n",
        "w2 = 1\n",
        "theta = 1"
      ]
    },
    {
      "cell_type": "code",
      "execution_count": null,
      "metadata": {},
      "outputs": [],
      "source": [
        "#Funktion für den Output des KNN \n",
        "def perceptron_output(x1, x2): \n",
        "    if  w1*x1+w2*x2>= theta:\n",
        "        return 1\n",
        "    else:\n",
        "        return 0"
      ]
    },
    {
      "cell_type": "code",
      "execution_count": null,
      "metadata": {},
      "outputs": [],
      "source": [
        "# Teste Perzeptron\n",
        "perceptron_output(0,1)"
      ]
    },
    {
      "cell_type": "markdown",
      "metadata": {},
      "source": [
        "## Heatmap"
      ]
    },
    {
      "cell_type": "code",
      "execution_count": null,
      "metadata": {},
      "outputs": [],
      "source": [
        "def plot_heatmap(x_min=0, x_max=4, y_min=0, y_max=3,resolution = 50):\n",
        "    delta_x = x_max-x_min\n",
        "    delta_y = y_max-y_min\n",
        "\n",
        "    heatmap = pd.DataFrame(index = [y_min+i*delta_y/resolution \\\n",
        "                                    for i in reversed(range(resolution+1))])\n",
        "\n",
        "    for x in [x_min+i*delta_x/resolution for i in range(resolution+1)]:\n",
        "        heatmap[x] = [perceptron_output(x,y_min+i*delta_y/resolution) \\\n",
        "                      for i in reversed(range(resolution+1))]\n",
        "    \n",
        "    #display(heatmap)\n",
        "    fig = px.imshow(heatmap, text_auto=False, color_continuous_scale=\"RdBu_r\", \\\n",
        "                    height=300, width=300,\\\n",
        "                    origin='lower',zmin=0,zmax=1,\\\n",
        "                        labels=dict(x=\"Zahngröße\", y=\"Augengröße\", color=\"Gefahr\"))\n",
        "    \n",
        "    if run_in_lite_version:\n",
        "        display(HTML(fig.to_html())) # jupyter lite\n",
        "    else:\n",
        "        fig.show() # jupyter notebook lokal"
      ]
    },
    {
      "cell_type": "code",
      "execution_count": null,
      "metadata": {},
      "outputs": [],
      "source": [
        "plot_heatmap()"
      ]
    },
    {
      "cell_type": "markdown",
      "metadata": {},
      "source": [
        "## Funktion zum Testen der Vorhersage"
      ]
    },
    {
      "cell_type": "code",
      "execution_count": null,
      "metadata": {},
      "outputs": [],
      "source": [
        "# Funktion zur Berechnung der Genauigkeit des Perzeptrons\n",
        "# Die Funktion gibt den Anteil der korrekt klassifizierten Tiere zurück\n",
        "def accuracy():\n",
        "    #Erstelle Spalte mit interpretierten Outputs des KNN\n",
        "    Outputs=[]\n",
        "\n",
        "    for i in range(len(df_tiere)):\n",
        "        output = perceptron_output(df_tiere.iloc[i]['Zahngröße'],df_tiere.iloc[i]['Augengröße'])\n",
        "        \n",
        "        if output > 0:\n",
        "            Outputs.append('gefährlich')\n",
        "        elif output <= 0:\n",
        "            Outputs.append('ungefährlich')\n",
        "            \n",
        "    df_tiere['Vorhersagen'] = Outputs\n",
        "\n",
        "    #display(df_tiere.head() )\n",
        "    return sum(df_tiere['Gefahr'] == df_tiere['Vorhersagen']) / len(df_tiere)"
      ]
    },
    {
      "cell_type": "code",
      "execution_count": null,
      "metadata": {},
      "outputs": [],
      "source": [
        "accuracy()"
      ]
    },
    {
      "cell_type": "code",
      "execution_count": null,
      "metadata": {},
      "outputs": [],
      "source": [
        "# Falsch Klassifizierte Tiere\n",
        "df_tiere[df_tiere['Gefahr'] != df_tiere['Vorhersagen']]"
      ]
    },
    {
      "cell_type": "code",
      "execution_count": null,
      "metadata": {},
      "outputs": [],
      "source": [
        "# Berechne wie viele Beispiele korrekt klassifiziert werden \n",
        "sum(df_tiere['Gefahr'] == df_tiere['Vorhersagen'])"
      ]
    },
    {
      "cell_type": "markdown",
      "metadata": {},
      "source": [
        "## Lernprozess (Delta-Regel)"
      ]
    },
    {
      "cell_type": "code",
      "execution_count": null,
      "metadata": {},
      "outputs": [],
      "source": [
        "# Delta-Regel, alle Datenssätzen, Minibatch der Größe Eins\n",
        "def delta_regel(w1, w2, theta):\n",
        "    for i in range(len(df_tiere_num)):\n",
        "        Y = df_tiere_num.iloc[i]['Gefahr'] # Klassifikation des Tiers\n",
        "        y = perceptron_output(df_tiere_num.iloc[i]['Zahngröße'],df_tiere_num.iloc[i]['Augengröße'])\n",
        "        delta = Y-y # Outputfehler des Perzeptrons\n",
        "        w1    += lr*delta*df_tiere_num.iloc[i]['Zahngröße'] # lr: Lernrate\n",
        "        w2    += lr*delta*df_tiere_num.iloc[i]['Augengröße']\n",
        "        theta -= lr*delta \n",
        "    return w1, w2, theta"
      ]
    },
    {
      "cell_type": "markdown",
      "metadata": {},
      "source": [
        "## Einzelne Lern-Epoche"
      ]
    },
    {
      "cell_type": "code",
      "execution_count": null,
      "metadata": {},
      "outputs": [],
      "source": [
        "# Lernrate\n",
        "lr=0.3"
      ]
    },
    {
      "cell_type": "code",
      "execution_count": null,
      "metadata": {},
      "outputs": [],
      "source": [
        "# Parameter für das Perzeptron\n",
        "w1 = 1 #-1\n",
        "w2 = 0.5 #1\n",
        "theta = 1"
      ]
    },
    {
      "cell_type": "code",
      "execution_count": null,
      "metadata": {},
      "outputs": [],
      "source": [
        "print(\"Anteil korrekte Vorhersagen vor dem Training:  \", accuracy())\n",
        "w1, w2, theta = delta_regel(w1, w2, theta)\n",
        "print(\"Anteil korrekte Vorhersagen nach dem Training: \", accuracy())\n",
        "plot_heatmap()"
      ]
    },
    {
      "cell_type": "markdown",
      "metadata": {},
      "source": [
        "<div style=\"padding: 5px; border: 5px solid #0077b6;\">\n",
        "\n",
        "### Aufgabe 1:\n",
        "Führe die Delta-Regel für das Perzeptron für 10 Iterationen durch. Wie verändert sich die Genauigkeit des Perzeptrons? Halte deine Ergebnisse schriftlich fest.\n"
      ]
    },
    {
      "cell_type": "markdown",
      "metadata": {},
      "source": [
        "Ergebnisse bitte hierher"
      ]
    },
    {
      "cell_type": "markdown",
      "metadata": {},
      "source": [
        "## Mehrere Lern-Epochen auf einmal"
      ]
    },
    {
      "cell_type": "code",
      "execution_count": null,
      "metadata": {},
      "outputs": [],
      "source": [
        "# Berechne n Epochen, Abbbruch wenn 100% erreicht\n",
        "def calc_epochs_delta(n):\n",
        "    global w1, w2, theta\n",
        "    for epoch in range(n):\n",
        "        print(\" Calc epoch no.\", epoch, end=\" ... \")\n",
        "        w1, w2, theta = delta_regel(w1, w2, theta)\n",
        "        #print(w1,w2,theta, end=\" \")\n",
        "        print(\"Accuarcy: \", accuracy())\n",
        "        if accuracy() == 1:\n",
        "            return epoch"
      ]
    },
    {
      "cell_type": "code",
      "execution_count": null,
      "metadata": {},
      "outputs": [],
      "source": [
        "# Lernrate\n",
        "lr=1"
      ]
    },
    {
      "cell_type": "code",
      "execution_count": null,
      "metadata": {},
      "outputs": [],
      "source": [
        "#Festlegung der Parameter für das Perzeptron\n",
        "w1    =  1\n",
        "w2    = -1 \n",
        "theta =  1 "
      ]
    },
    {
      "cell_type": "code",
      "execution_count": null,
      "metadata": {},
      "outputs": [],
      "source": [
        "# Anzahl der Epochen bis 100% Genauigkeit erreicht sind\n",
        "print( \"Number of epochs to 100% :\", calc_epochs_delta(100) )"
      ]
    },
    {
      "cell_type": "code",
      "execution_count": null,
      "metadata": {},
      "outputs": [],
      "source": [
        "# Zeichne Heatmap und Vergleich mit den Daten\n",
        "plot_heatmap(x_min=0, x_max=4, y_min=0, y_max=4,resolution = 100)\n",
        "fig = px.scatter(df_tiere, x=\"Zahngröße\", y=\"Augengröße\",color=\"Gefahr\",\\\n",
        "                 height=280, width=350)\n",
        "\n",
        "if run_in_lite_version:\n",
        "    display(HTML(fig.to_html())) # jupyter lite\n",
        "else:\n",
        "    fig.show() # jupyter notebook lokal"
      ]
    },
    {
      "cell_type": "markdown",
      "metadata": {},
      "source": [
        "<div style=\"padding: 5px; border: 5px solid #0077b6;\">\n",
        "\n",
        "### Aufgabe 2:\n",
        "Teste die Konvergenzrate für unterschiedliche Lernraten und Parameter des Perzeptrons. Findest du eine Lernrate bzw. Paramter des Perzeptrons, für die das Verfahren nicht konvergiert?\n"
      ]
    },
    {
      "cell_type": "markdown",
      "metadata": {},
      "source": [
        "Ergebnisse bitte hierher"
      ]
    },
    {
      "cell_type": "markdown",
      "metadata": {},
      "source": [
        "## Fertiges Modell\n",
        "Im fertigen Modell werden die Gewichte und der Schwellenwert zufällig vorbelegt."
      ]
    },
    {
      "cell_type": "code",
      "execution_count": null,
      "metadata": {},
      "outputs": [],
      "source": [
        "import random"
      ]
    },
    {
      "cell_type": "code",
      "execution_count": null,
      "metadata": {},
      "outputs": [],
      "source": [
        "lr = 0.01\n",
        "w1 = random.normalvariate(-10,3)\n",
        "w2 = random.normalvariate(10,5)\n",
        "theta = random.normalvariate(3,3)"
      ]
    },
    {
      "cell_type": "code",
      "execution_count": null,
      "metadata": {},
      "outputs": [],
      "source": [
        "print( \"Number of epochs to 100% :\", calc_epochs_delta(100) )"
      ]
    },
    {
      "cell_type": "markdown",
      "metadata": {},
      "source": [
        "<div style=\"padding: 5px; border: 5px solid #0077b6;\">\n",
        "\n",
        "### Aufgabe 3:\n",
        "Teste das fertige Modell für unterschiedliche Lernraten und unterschiedliche zufällige Vorbelegung der Parameter des Perzeptrons. Dazu musst du recherchieren, was die Funktion `random.normalvariate` macht. Halte deine Beobachtungen schriftlich fest."
      ]
    },
    {
      "cell_type": "markdown",
      "metadata": {},
      "source": [
        "Ergebnisse bitte hierher"
      ]
    }
  ],
  "metadata": {
    "kernelspec": {
      "display_name": "Python 3",
      "language": "python",
      "name": "python3"
    },
    "language_info": {
      "codemirror_mode": {
        "name": "ipython",
        "version": 3
      },
      "file_extension": ".py",
      "mimetype": "text/x-python",
      "name": "python",
      "nbconvert_exporter": "python",
      "pygments_lexer": "ipython3",
      "version": "3.12.4"
    }
  },
  "nbformat": 4,
  "nbformat_minor": 2
}