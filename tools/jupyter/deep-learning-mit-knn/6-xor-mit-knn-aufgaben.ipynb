{
  "cells": [
    {
      "cell_type": "markdown",
      "metadata": {},
      "source": [
        "# XOR (mit einem künstlichen neuronalen Netz)"
      ]
    },
    {
      "cell_type": "markdown",
      "metadata": {},
      "source": [
        "## Funktionen für Heatmap und Wahrheitstafel"
      ]
    },
    {
      "cell_type": "code",
      "execution_count": null,
      "metadata": {},
      "outputs": [],
      "source": [
        "# Lege fest, ob das Notebook in der lite-Version asugeführt wird\n",
        "# (Bei lokaler Ausführung müssen einige Zeilen geringfügig angepasst werden)\n",
        "run_in_lite_version = True"
      ]
    },
    {
      "cell_type": "code",
      "execution_count": null,
      "metadata": {},
      "outputs": [],
      "source": [
        "# nur für jupyter lite notwendig\n",
        "if run_in_lite_version:\n",
        "    %pip install -q plotly \n",
        "    from IPython.display import display, HTML"
      ]
    },
    {
      "cell_type": "code",
      "execution_count": null,
      "metadata": {},
      "outputs": [],
      "source": [
        "import pandas as pd\n",
        "import plotly.express as px\n",
        "\n",
        "def plot_heatmap(perceptron, x_min=0, x_max=1, y_min=0, y_max=1,resolution = 100):\n",
        "    delta_x = x_max-x_min\n",
        "    delta_y = y_max-y_min\n",
        "\n",
        "    heatmap = pd.DataFrame(index = [y_min+i*delta_y/resolution \\\n",
        "                                    for i in reversed(range(resolution+1))])\n",
        "\n",
        "    for x in [x_min+i*delta_x/resolution for i in range(resolution+1)]:\n",
        "        heatmap[x] = [perceptron(x,y_min+i*delta_y/resolution) \\\n",
        "                      for i in reversed(range(resolution+1))]\n",
        "    \n",
        "    #display(heatmap)\n",
        "    fig = px.imshow(heatmap, text_auto=False, color_continuous_scale=\"RdBu_r\", \\\n",
        "                    height=300, width=300,\\\n",
        "                    origin='lower',zmin=0,zmax=1,\\\n",
        "                    labels=dict(x=\"x1\", y=\"x2\", color=\"output\"))\n",
        "   \n",
        "    if run_in_lite_version:\n",
        "        display(HTML(fig.to_html())) # jupyter lite\n",
        "    else:\n",
        "        fig.show() # jupyter notebook lokal"
      ]
    },
    {
      "cell_type": "code",
      "execution_count": null,
      "metadata": {},
      "outputs": [],
      "source": [
        "def print_table(perceptron):\n",
        "    print( \"x1 | x2 | output\")\n",
        "    print(\"-----------------\")\n",
        "    for i,j in [(0,0),(0,1),(1,0),(1,1)]:\n",
        "        print( i, \" |\", j, \" |  \", perceptron(i,j) )"
      ]
    },
    {
      "cell_type": "markdown",
      "metadata": {},
      "source": [
        "## OR-Perzeptron"
      ]
    },
    {
      "cell_type": "code",
      "execution_count": null,
      "metadata": {},
      "outputs": [],
      "source": [
        "def perceptron_or(x1,x2):\n",
        "    w1 = 2\n",
        "    w2 = 2\n",
        "    theta = 1\n",
        "    if  w1*x1+w2*x2>= theta:\n",
        "        return 1\n",
        "    else:\n",
        "        return 0"
      ]
    },
    {
      "cell_type": "code",
      "execution_count": null,
      "metadata": {},
      "outputs": [],
      "source": [
        "print_table(perceptron_or)\n",
        "plot_heatmap(perceptron_or)"
      ]
    },
    {
      "cell_type": "markdown",
      "metadata": {},
      "source": [
        "Das OR-Perzeptron feuert also \"`oben links`, `oben rechts` und `unten rechts`\"."
      ]
    },
    {
      "cell_type": "markdown",
      "metadata": {},
      "source": [
        "<div style=\"padding: 5px; border: 5px solid #0077b6;\">\n",
        "\n",
        "### Aufgabe 1:\n",
        "Definiere ein weiteres Perzeptron, das \"`unten links`, `oben links` und `unten rechts`\" feuert."
      ]
    },
    {
      "cell_type": "code",
      "execution_count": null,
      "metadata": {},
      "outputs": [],
      "source": [
        "# Lösung bitte hierher"
      ]
    },
    {
      "cell_type": "markdown",
      "metadata": {},
      "source": [
        "<div style=\"padding: 5px; border: 5px solid #0077b6;\">\n",
        "\n",
        "### Aufgabe 2:\n",
        "Die XOR-Opteration ist nun die Verknüpfung der oben definierten Perzeptronen durch ein AND-Perzeptron. Definiere daher nun auch noch ein AND-Perzeptron.\n",
        "\n"
      ]
    },
    {
      "cell_type": "code",
      "execution_count": null,
      "metadata": {},
      "outputs": [],
      "source": [
        "# Lösung bitte hierher"
      ]
    },
    {
      "cell_type": "markdown",
      "metadata": {},
      "source": [
        "## XOR als künstliches neuronales Netz\n",
        "Die beiden oben definierten Perzeptronen werden nun zusammengeschaltet zu einem so genannten künstlichen neuronalen Netz (KNN.)"
      ]
    },
    {
      "cell_type": "markdown",
      "metadata": {},
      "source": [
        "<div style=\"padding: 5px; border: 5px solid #0077b6;\">\n",
        "\n",
        "### Aufgabe 3:\n",
        "Implementiere diese künstliche neuronales Netzwerk als Pyton-Funktion und teste es anschließend.\n",
        "\n"
      ]
    },
    {
      "cell_type": "code",
      "execution_count": null,
      "metadata": {},
      "outputs": [],
      "source": [
        "def knn_xor(x1,x2):\n",
        "    # Lösung bitte hier ergänzen\n",
        "    pass"
      ]
    },
    {
      "cell_type": "code",
      "execution_count": null,
      "metadata": {},
      "outputs": [],
      "source": [
        "# Teste das neuronale Netz für XOR\n",
        "print_table(knn_xor)\n",
        "plot_heatmap(knn_xor)"
      ]
    }
  ],
  "metadata": {
    "kernelspec": {
      "display_name": "Python 3",
      "language": "python",
      "name": "python3"
    },
    "language_info": {
      "codemirror_mode": {
        "name": "ipython",
        "version": 3
      },
      "file_extension": ".py",
      "mimetype": "text/x-python",
      "name": "python",
      "nbconvert_exporter": "python",
      "pygments_lexer": "ipython3",
      "version": "3.12.4"
    }
  },
  "nbformat": 4,
  "nbformat_minor": 2
}