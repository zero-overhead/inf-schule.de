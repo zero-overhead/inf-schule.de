{
  "cells": [
    {
      "cell_type": "markdown",
      "metadata": {},
      "source": [
        "# Lernen durch Gradientenabstieg \n",
        "Wir betrachten eine einzelnes künstliches Neuron mit zwei Eingängen, also drei Parametern $w_1,w_2,b$. Aufgrund der relativ kleinen Anzahl an Paramtern bleibt das Problem realtiv überschaubar."
      ]
    },
    {
      "cell_type": "markdown",
      "metadata": {},
      "source": [
        "## Vorbereiten der Daten"
      ]
    },
    {
      "cell_type": "code",
      "execution_count": null,
      "metadata": {},
      "outputs": [],
      "source": [
        "# Lege fest, ob das Notebook in der lite-Version asugeführt wird\n",
        "# (Bei lokaler Ausführung müssen einige Zeilen geringfügig angepasst werden)\n",
        "run_in_lite_version = True"
      ]
    },
    {
      "cell_type": "code",
      "execution_count": null,
      "metadata": {},
      "outputs": [],
      "source": [
        "# nur für jupyter lite notwendig\n",
        "%pip install -q plotly \n",
        "from IPython.display import display, HTML"
      ]
    },
    {
      "cell_type": "code",
      "execution_count": null,
      "metadata": {},
      "outputs": [],
      "source": [
        "# Import packages\n",
        "import pandas as pd\n",
        "import plotly.express as px"
      ]
    },
    {
      "cell_type": "code",
      "execution_count": null,
      "metadata": {},
      "outputs": [],
      "source": [
        "# Lese Daten ein\n",
        "df_tiere = pd.read_csv('tiere_gefaehrlichkeit.csv', sep=';')\n",
        "df_tiere.head()"
      ]
    },
    {
      "cell_type": "code",
      "execution_count": null,
      "metadata": {},
      "outputs": [],
      "source": [
        "# Visualisiere Daten\n",
        "fig = px.scatter(df_tiere, x=\"Zahngröße\", y=\"Augengröße\",color=\"Gefahr\",height=350, width=400)\n",
        "if run_in_lite_version:\n",
        "    display(HTML(fig.to_html())) # jupyter lite\n",
        "else:\n",
        "    fig.show() # jupyter notebook lokal"
      ]
    },
    {
      "cell_type": "code",
      "execution_count": null,
      "metadata": {},
      "outputs": [],
      "source": [
        "# Erzeuge numerische Daten\n",
        "df_tiere_num = df_tiere.replace(['ungefährlich','gefährlich'],[-1,1])\n",
        "df_tiere_num.head()"
      ]
    },
    {
      "cell_type": "markdown",
      "metadata": {},
      "source": [
        "# Aktivierungsfunktion\n",
        "Für die Perzeptronen hatten wir die Treppenfunktion als Aktivierungsfunktion verwendet. Diese ersezten wir nun durch die die Funktion tanh.\n",
        "$$ tanh(z) = \\frac{e^z-e^{-z}}{e^z+e^{-z}} $$"
      ]
    },
    {
      "cell_type": "code",
      "execution_count": null,
      "metadata": {},
      "outputs": [],
      "source": [
        "from numpy import tanh"
      ]
    },
    {
      "cell_type": "code",
      "execution_count": null,
      "metadata": {},
      "outputs": [],
      "source": [
        "activation = lambda z: tanh(z)"
      ]
    },
    {
      "cell_type": "code",
      "execution_count": null,
      "metadata": {},
      "outputs": [],
      "source": [
        "# Visualisiere die tanh-Funktion\n",
        "import numpy as np\n",
        "import matplotlib.pyplot as plt\n",
        "\n",
        "# Generate x values from -5 to 5\n",
        "x = np.linspace(-5, 5, 100)\n",
        "\n",
        "# Calculate tanh values for each x\n",
        "y = activation(x)\n",
        "\n",
        "# Plot the tanh function\n",
        "plt.figure(figsize=(6, 2))\n",
        "plt.plot(x, y, label='tanh(x)')\n",
        "plt.xlabel('x')\n",
        "plt.ylabel('tanh(x)')\n",
        "plt.title('Plot of tanh(x)')\n",
        "plt.grid(True)\n",
        "plt.legend()\n",
        "plt.show()"
      ]
    },
    {
      "cell_type": "markdown",
      "metadata": {},
      "source": [
        "<div style=\"padding: 5px; border: 5px solid #0077b6;\">\n",
        "\n",
        "### Aufgabe 1:\n",
        "Vergleiche die tanh-Funktion mit der früher verwendeten Treppenfunktion. Worin bestehen Ähnlichkeiten, was sind Unterschiede?"
      ]
    },
    {
      "cell_type": "markdown",
      "metadata": {},
      "source": [
        "Lösung bitte hierher"
      ]
    },
    {
      "cell_type": "markdown",
      "metadata": {},
      "source": [
        "## Künstliches Neuron\n",
        "Weiterhin führen wir noch den so genannten Bias $b$ als negativen Schwellenwert ein, also $b := -\\Theta$. Der Grund hierfür ist, dass dann im Weiteren die Formeln für die partiellen Ableitungen einfacher werden, weil sie weniger Minuszeichen enthalten.\n",
        "\n",
        "Ein **künstliches Neuron** unterscheidet sich also von einem Perzeptron\n",
        "- durch eine differenzierbare Aktivierungsfunktion.\n",
        "- durch die Verwendung eines Bias´ statt eines Schwellenwertes (dies allerdings nur, um die Formeln einfacher zu machen)."
      ]
    },
    {
      "cell_type": "code",
      "execution_count": null,
      "metadata": {},
      "outputs": [],
      "source": [
        "# Festlegung der Parameter des künstlichen Neurons\n",
        "w1 = 1\n",
        "w2 = 1\n",
        "b = -1 "
      ]
    },
    {
      "cell_type": "code",
      "execution_count": null,
      "metadata": {},
      "outputs": [],
      "source": [
        "# Funktion für den Output des KNN \n",
        "def neuron_output(x1, x2): \n",
        "    z = w1*x1+w2*x2+b\n",
        "    a = activation(z)\n",
        "    return a"
      ]
    },
    {
      "cell_type": "code",
      "execution_count": null,
      "metadata": {},
      "outputs": [],
      "source": [
        "# Teste das künstliche Neuron\n",
        "neuron_output(0,1)"
      ]
    },
    {
      "cell_type": "markdown",
      "metadata": {},
      "source": [
        "# Heatmap"
      ]
    },
    {
      "cell_type": "code",
      "execution_count": null,
      "metadata": {},
      "outputs": [],
      "source": [
        "# Zum Visualisieren des künstlichen Neurons\n",
        "def plot_heatmap(x_min=0, x_max=4, y_min=0, y_max=4,resolution = 50):\n",
        "    delta_x = x_max-x_min\n",
        "    delta_y = y_max-y_min\n",
        "\n",
        "    heatmap = pd.DataFrame(index = [y_min+i*delta_y/resolution for i in reversed(range(resolution+1))])\n",
        "\n",
        "    for x in [x_min+i*delta_x/resolution for i in range(resolution+1)]:\n",
        "        heatmap[x] = [neuron_output(x,y_min+i*delta_y/resolution) for i in reversed(range(resolution+1))]\n",
        "    \n",
        "    #display(heatmap)\n",
        "    fig = px.imshow(heatmap, text_auto=False, color_continuous_scale=\"RdBu_r\", height=300, width=300,\\\n",
        "                    origin='lower',zmin=-1,zmax=1,labels=dict(x=\"Zahngröße\", y=\"Augengröße\", color=\"Gefahr\"))\n",
        "    \n",
        "    if run_in_lite_version:\n",
        "        display(HTML(fig.to_html())) # jupter lite\n",
        "    else:\n",
        "        fig.show() # jupyter notebook lokal"
      ]
    },
    {
      "cell_type": "code",
      "execution_count": null,
      "metadata": {},
      "outputs": [],
      "source": [
        "plot_heatmap()"
      ]
    },
    {
      "cell_type": "markdown",
      "metadata": {},
      "source": [
        "<div style=\"padding: 5px; border: 5px solid #0077b6;\">\n",
        "\n",
        "### Aufgabe 2:\n",
        "Erläutere in Abgrenzung zum Perzeptron, woran man in der Heatmap erkennen kann, dass es sich nun um ein künstliches Neuron und nicht um ein Perzeptron handelt."
      ]
    },
    {
      "cell_type": "markdown",
      "metadata": {},
      "source": [
        "Erläuterung bitte hierher"
      ]
    },
    {
      "cell_type": "markdown",
      "metadata": {},
      "source": [
        "## Funktion zum Testen der Vorhersage"
      ]
    },
    {
      "cell_type": "code",
      "execution_count": null,
      "metadata": {},
      "outputs": [],
      "source": [
        "# Funktion zur Berechnung der Genauigkeit des Perzeptrons,\n",
        "# gibt den Anteil der korrekt klassifizierten Tiere zurück\n",
        "def accuracy():\n",
        "    #Erstelle Spalte mit interpretierten Outputs des KNN\n",
        "    Outputs=[]\n",
        "\n",
        "    for i in range(len(df_tiere)):\n",
        "        \n",
        "        output = neuron_output(df_tiere.iloc[i]['Zahngröße'],df_tiere.iloc[i]['Augengröße'])\n",
        "        \n",
        "        if output > 0:\n",
        "            Outputs.append('gefährlich')\n",
        "        elif output <= 0:\n",
        "            Outputs.append('ungefährlich')\n",
        "\n",
        "    df_tiere['Vorhersagen'] = Outputs\n",
        "\n",
        "    #display(df_tiere_test)#.head()\n",
        "    return sum(df_tiere['Gefahr'] == df_tiere['Vorhersagen'])/len(df_tiere)"
      ]
    },
    {
      "cell_type": "code",
      "execution_count": null,
      "metadata": {},
      "outputs": [],
      "source": [
        "accuracy()"
      ]
    },
    {
      "cell_type": "code",
      "execution_count": null,
      "metadata": {},
      "outputs": [],
      "source": [
        "# Falsch Klassifizierte\n",
        "df_tiere[df_tiere['Gefahr'] != df_tiere['Vorhersagen']]"
      ]
    },
    {
      "cell_type": "code",
      "execution_count": null,
      "metadata": {},
      "outputs": [],
      "source": [
        "# Berechne wie viele Beispiele korrekt klassifiziert werden \n",
        "sum(df_tiere['Gefahr'] == df_tiere['Vorhersagen'])"
      ]
    },
    {
      "cell_type": "markdown",
      "metadata": {},
      "source": [
        "# Lernprozess (Gradientenabstieg)"
      ]
    },
    {
      "cell_type": "code",
      "execution_count": null,
      "metadata": {},
      "outputs": [],
      "source": [
        "lr = 0.05"
      ]
    },
    {
      "cell_type": "code",
      "execution_count": null,
      "metadata": {},
      "outputs": [],
      "source": [
        "# Gradientenabstiegsverfahren\n",
        "def gewichte_update(x1, x2, t, w1, w2, b):\n",
        "    \n",
        "    # Forward-Propagation\n",
        "    # Berechnung der Neuronenaktivierung bis zum Output\n",
        "    z = w1*x1+w2*x2+b  # Propagierungsfunktion\n",
        "    a = tanh(z)        # Aktivierung\n",
        "    \n",
        "    # Backward-Progation\n",
        "    # Aktualisierung der Gewichte\n",
        "    w1 += lr*(t-a)*(1.0-a**2)*x1    \n",
        "    w2 += lr*(t-a)*(1.0-a**2)*x2    \n",
        "    b  += lr*(t-a)*(1.0-a**2)      \n",
        "\n",
        "    return w1, w2, b "
      ]
    },
    {
      "cell_type": "markdown",
      "metadata": {},
      "source": [
        "# Einzelne Lern-Epoche"
      ]
    },
    {
      "cell_type": "code",
      "execution_count": null,
      "metadata": {},
      "outputs": [],
      "source": [
        "# Lernrate\n",
        "lr=0.5"
      ]
    },
    {
      "cell_type": "code",
      "execution_count": null,
      "metadata": {},
      "outputs": [],
      "source": [
        "# Parameter des künstlichen Neurons\n",
        "w1 = 1\n",
        "w2 = 0.5\n",
        "b  = -1"
      ]
    },
    {
      "cell_type": "code",
      "execution_count": null,
      "metadata": {},
      "outputs": [],
      "source": [
        "print(\"Anteil korrekte Vorhersagen vor dem Training:  \", accuracy())\n",
        "\n",
        "# Lernprozess: Aktualisieren der Parameter (Gewichte und des Bias)\n",
        "for j in range( len(df_tiere_num) ):\n",
        "    x1 = df_tiere_num.iloc[j]['Zahngröße']\n",
        "    x2 = df_tiere_num.iloc[j]['Augengröße']\n",
        "    t  = df_tiere_num.iloc[j]['Gefahr']\n",
        "\n",
        "    w1, w2, b = gewichte_update(x1, x2, t, w1, w2, b)\n",
        "\n",
        "print(\"Anteil korrekte Vorhersagen nach dem Training:  \", accuracy())"
      ]
    },
    {
      "cell_type": "code",
      "execution_count": null,
      "metadata": {},
      "outputs": [],
      "source": [
        "plot_heatmap()"
      ]
    },
    {
      "cell_type": "markdown",
      "metadata": {},
      "source": [
        "<div style=\"padding: 5px; border: 5px solid #0077b6;\">\n",
        "\n",
        "### Aufgabe 3:\n",
        "Führe die Lern-Regel (Gradientenabsteigsverfahren) für das künstliche Neuron für 10 Iterationen durch. Wie verändert sich die Genauigkeit der Vorhersage? Halte deine Ergebnisse schriftlich fest."
      ]
    },
    {
      "cell_type": "markdown",
      "metadata": {},
      "source": [
        "Ergebnisse bitte hierher"
      ]
    },
    {
      "cell_type": "markdown",
      "metadata": {},
      "source": [
        "# Mehrere Epochen auf einmal"
      ]
    },
    {
      "cell_type": "code",
      "execution_count": null,
      "metadata": {},
      "outputs": [],
      "source": [
        "def calc_epochs(n):\n",
        "    global w1, w2, b\n",
        "    for epoch in range(n):\n",
        "        print(\"### Epoch ###\", epoch, end=\" \")\n",
        "        #Aktualisieren der Gewichte \n",
        "        for j in range( len(df_tiere_num) ):\n",
        "            x1 = df_tiere_num.iloc[j]['Zahngröße']\n",
        "            x2 = df_tiere_num.iloc[j]['Augengröße']\n",
        "            t  = df_tiere_num.iloc[j]['Gefahr']\n",
        "\n",
        "            w1, w2, b = gewichte_update(x1, x2, t, w1, w2, b)\n",
        "        print(w1,w2,b, end=\" \")\n",
        "        print(\"Accuracy: \", accuracy())\n",
        "        if accuracy() == 1:\n",
        "            return epoch"
      ]
    },
    {
      "cell_type": "code",
      "execution_count": null,
      "metadata": {},
      "outputs": [],
      "source": [
        "lr=0.5"
      ]
    },
    {
      "cell_type": "code",
      "execution_count": null,
      "metadata": {},
      "outputs": [],
      "source": [
        "#Festlegung der Kantengewichte\n",
        "w1 = 1 \n",
        "w2 = 0.5 \n",
        "b = -1 "
      ]
    },
    {
      "cell_type": "code",
      "execution_count": null,
      "metadata": {},
      "outputs": [],
      "source": [
        "print( \"Number of epochs to 100% :\", calc_epochs(100) )"
      ]
    },
    {
      "cell_type": "code",
      "execution_count": null,
      "metadata": {},
      "outputs": [],
      "source": [
        "plot_heatmap()"
      ]
    },
    {
      "cell_type": "markdown",
      "metadata": {},
      "source": [
        "<div style=\"padding: 5px; border: 5px solid #0077b6;\">\n",
        "\n",
        "### Aufgabe 4:\n",
        "Teste die Konvergenzrate für unterschiedliche Lernraten und Parameter künstlichen Neurons. Findest du eine Lernrate bzw. Paramter, für die das Verfahren nicht konvergiert?"
      ]
    },
    {
      "cell_type": "markdown",
      "metadata": {},
      "source": [
        "Ergebnisse bitte hierher"
      ]
    },
    {
      "cell_type": "markdown",
      "metadata": {},
      "source": [
        "## Fertiges Modell\n",
        "Im fertigen Modell werden die Gewichte und der Schwellenwert zufällig vorbelegt."
      ]
    },
    {
      "cell_type": "code",
      "execution_count": null,
      "metadata": {},
      "outputs": [],
      "source": [
        "import random"
      ]
    },
    {
      "cell_type": "code",
      "execution_count": null,
      "metadata": {},
      "outputs": [],
      "source": [
        "# Lernrate\n",
        "lr = 0.5"
      ]
    },
    {
      "cell_type": "code",
      "execution_count": null,
      "metadata": {},
      "outputs": [],
      "source": [
        "# Angepasst an die Eingangswerte im Bereich [0,4]x[0,4] \n",
        "# werden die Gewichte und der Bias vorbelegt mit nomalverteilten Zufallszahlen\n",
        "w1 = random.normalvariate(1,1)\n",
        "w2 = random.normalvariate(1,1)\n",
        "b  = random.normalvariate(-1,1)\n",
        "print(\"Initial parameters: \", w1, w2, b)"
      ]
    },
    {
      "cell_type": "code",
      "execution_count": null,
      "metadata": {},
      "outputs": [],
      "source": [
        "plot_heatmap()"
      ]
    },
    {
      "cell_type": "code",
      "execution_count": null,
      "metadata": {},
      "outputs": [],
      "source": [
        "print( \"Number of epochs to 100% :\", calc_epochs(100) )"
      ]
    },
    {
      "cell_type": "code",
      "execution_count": null,
      "metadata": {},
      "outputs": [],
      "source": [
        "plot_heatmap()"
      ]
    },
    {
      "cell_type": "markdown",
      "metadata": {},
      "source": [
        "<div style=\"padding: 5px; border: 5px solid #0077b6;\">\n",
        "\n",
        "### Aufgabe 5:\n",
        "Teste das fertige Modell für unterschiedliche Lernraten und Parameter des künstlichen Neurons. Was beobachtest du. Halte deine Ergenisse schriftlich fest."
      ]
    },
    {
      "cell_type": "markdown",
      "metadata": {},
      "source": [
        "Ergebnisse bitte hierher"
      ]
    }
  ],
  "metadata": {
    "kernelspec": {
      "display_name": "Python 3",
      "language": "python",
      "name": "python3"
    },
    "language_info": {
      "codemirror_mode": {
        "name": "ipython",
        "version": 3
      },
      "file_extension": ".py",
      "mimetype": "text/x-python",
      "name": "python",
      "nbconvert_exporter": "python",
      "pygments_lexer": "ipython3",
      "version": "3.11.8"
    }
  },
  "nbformat": 4,
  "nbformat_minor": 2
}